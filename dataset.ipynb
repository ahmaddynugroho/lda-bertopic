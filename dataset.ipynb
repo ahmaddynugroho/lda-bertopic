{
 "cells": [
  {
   "cell_type": "code",
   "execution_count": null,
   "metadata": {},
   "outputs": [],
   "source": [
    "import stanza\n",
    "\n",
    "nlp = stanza.Pipeline(\n",
    "    lang='id',\n",
    "    processors='tokenize,pos,lemma',\n",
    "    download_method=stanza.DownloadMethod.REUSE_RESOURCES\n",
    ")"
   ]
  },
  {
   "cell_type": "code",
   "execution_count": 21,
   "metadata": {},
   "outputs": [],
   "source": [
    "from time import time\n",
    "\n",
    "import pandas as pd\n",
    "from gensim.models.phrases import Phrases\n",
    "from Sastrawi.Stemmer.StemmerFactory import StemmerFactory\n",
    "from Sastrawi.StopWordRemover.StopWordRemoverFactory import \\\n",
    "    StopWordRemoverFactory\n",
    "from tqdm import tqdm\n",
    "\n",
    "stem = StemmerFactory().create_stemmer().stem\n",
    "remove = StopWordRemoverFactory().create_stop_word_remover().remove\n",
    "\n",
    "def preprocess(df_nlp, processes):\n",
    "    df = {}\n",
    "    allowed_pos = ['NOUN', 'PROPN']\n",
    "    elapse_time = []\n",
    "    for p in (tp := tqdm(processes)):\n",
    "        tp.set_description(f'Processing {p}')\n",
    "        t_start = time()\n",
    "        c = 'C' in p\n",
    "        l = 'L' in p\n",
    "        f = 'F' in p\n",
    "        w = 'W' in p\n",
    "        n = 'N' in p\n",
    "        b = 'B' in p\n",
    "        s = 'S' in p\n",
    "        docs_long = []\n",
    "        docs_short = []\n",
    "        for doc in df_nlp:\n",
    "            if b:\n",
    "                docs_long.append(doc.text)\n",
    "                for s in doc.sentences:\n",
    "                    docs_short.append(s.text)\n",
    "                    t_end_d = time()\n",
    "                t_end_D = time()\n",
    "                continue\n",
    "            tokens = []\n",
    "            for s in doc.sentences:\n",
    "                tokens_short = []\n",
    "                for word in s.words:\n",
    "                    _word = word.text\n",
    "                    if f:\n",
    "                        if word.upos not in allowed_pos:\n",
    "                            continue\n",
    "                    if s:\n",
    "                        sw = stem(_word)\n",
    "                        if len(sw) == 0: continue\n",
    "                        _word = sw\n",
    "                    if w:\n",
    "                        if len(remove(_word.lower())) == 0:\n",
    "                            continue\n",
    "                    if l:\n",
    "                        _word = word.lemma if word.lemma else _word\n",
    "                    if c:\n",
    "                        _word = _word if l else word.text.lower()\n",
    "                    tokens.append(_word)\n",
    "                    tokens_short.append(_word)\n",
    "                if len(tokens_short) == 0: continue\n",
    "                docs_short.append(tokens_short)\n",
    "            t_end_d = time()\n",
    "            if len(tokens) == 0: continue\n",
    "            docs_long.append(tokens)\n",
    "        t_end_D = time()\n",
    "        if n:\n",
    "            bigram_short = Phrases(docs_short).freeze()\n",
    "            trigram_short = Phrases(bigram_short[docs_short]).freeze()\n",
    "            docs_short = trigram_short[bigram_short[docs_short]]\n",
    "            t_end_d = time()\n",
    "            bigram_long = Phrases(docs_long).freeze()\n",
    "            trigram_long = Phrases(bigram_long[docs_long]).freeze()\n",
    "            docs_long = trigram_long[bigram_long[docs_long]]\n",
    "            t_end_D = time()\n",
    "        df[f'd{p}'] = pd.Series(docs_short)\n",
    "        elapse_time.append([f'd{p}', t_end_d - t_start])\n",
    "        df[f'D{p}'] = pd.Series(docs_long)\n",
    "        elapse_time.append([f'D{p}', t_end_D - t_start])\n",
    "    return (pd.concat(df, axis=1), elapse_time)"
   ]
  },
  {
   "cell_type": "code",
   "execution_count": 13,
   "metadata": {},
   "outputs": [],
   "source": [
    "import pandas as pd\n",
    "\n",
    "df = pd.read_parquet('./datasets/raw/articles.parquet')"
   ]
  },
  {
   "cell_type": "code",
   "execution_count": 14,
   "metadata": {},
   "outputs": [],
   "source": [
    "dfs = df.sample(500, random_state=999).reset_index(drop=True)"
   ]
  },
  {
   "cell_type": "code",
   "execution_count": 15,
   "metadata": {},
   "outputs": [],
   "source": [
    "from os.path import isfile\n",
    "from pickle import load, dump\n",
    "\n",
    "t_start = time()\n",
    "docs_path = './datasets/raw/articles.nlp'\n",
    "if isfile(docs_path):\n",
    "    with open(docs_path, 'rb') as f:\n",
    "        docs = load(f)\n",
    "else:\n",
    "    docs = list(dfs['article'].apply(lambda doc: stanza.Document([], text=doc)))\n",
    "    docs = nlp(docs)\n",
    "    with open(docs_path, 'wb') as f:\n",
    "        dump(docs, f)\n",
    "t_nlp = time()"
   ]
  },
  {
   "cell_type": "code",
   "execution_count": 16,
   "metadata": {},
   "outputs": [],
   "source": [
    "from itertools import combinations as c\n",
    "\n",
    "def make_v(sets):\n",
    "    r = []\n",
    "    for i in range(len(sets)):\n",
    "        r = r + [''.join(x) for x in c(sets, i+1)]\n",
    "    return r\n",
    "\n",
    "variant_stanza_filter = make_v(['C', 'L', 'F', 'N'])\n",
    "variant_stanza_stopwords = make_v(['C', 'L', 'W', 'N'])\n",
    "variant_sastrawi_filter = make_v(['S', 'F', 'N'])\n",
    "variant_sastrawi_stopwords = make_v(['S', 'W', 'N'])\n",
    "variant_full = sorted(list(set(\n",
    "    ['B', 'T']\n",
    "    + variant_stanza_filter\n",
    "    + variant_stanza_stopwords\n",
    "    + variant_sastrawi_filter\n",
    "    + variant_sastrawi_stopwords\n",
    ")), key=lambda x: (len(x), x))"
   ]
  },
  {
   "cell_type": "code",
   "execution_count": 22,
   "metadata": {},
   "outputs": [
    {
     "name": "stderr",
     "output_type": "stream",
     "text": [
      "Processing SFN: 100%|██████████| 2/2 [00:11<00:00,  5.76s/it]\n"
     ]
    }
   ],
   "source": [
    "# variant = variant_full\n",
    "variant = ['LWN', 'SFN']\n",
    "ds, elapse_time = preprocess(docs, variant)\n",
    "\n",
    "t_ds = time()"
   ]
  },
  {
   "cell_type": "code",
   "execution_count": 23,
   "metadata": {},
   "outputs": [],
   "source": [
    "elapse_time = pd.DataFrame([{\n",
    "    'variant': v,\n",
    "    'nlp': t_nlp - t_start,\n",
    "    'preprocessing': t\n",
    "} for v, t in elapse_time ])"
   ]
  },
  {
   "cell_type": "code",
   "execution_count": 24,
   "metadata": {},
   "outputs": [
    {
     "data": {
      "text/html": [
       "<div>\n",
       "<style scoped>\n",
       "    .dataframe tbody tr th:only-of-type {\n",
       "        vertical-align: middle;\n",
       "    }\n",
       "\n",
       "    .dataframe tbody tr th {\n",
       "        vertical-align: top;\n",
       "    }\n",
       "\n",
       "    .dataframe thead th {\n",
       "        text-align: right;\n",
       "    }\n",
       "</style>\n",
       "<table border=\"1\" class=\"dataframe\">\n",
       "  <thead>\n",
       "    <tr style=\"text-align: right;\">\n",
       "      <th></th>\n",
       "      <th>variant</th>\n",
       "      <th>nlp</th>\n",
       "      <th>preprocessing</th>\n",
       "    </tr>\n",
       "  </thead>\n",
       "  <tbody>\n",
       "    <tr>\n",
       "      <th>0</th>\n",
       "      <td>dLWN</td>\n",
       "      <td>224.184062</td>\n",
       "      <td>7.460976</td>\n",
       "    </tr>\n",
       "    <tr>\n",
       "      <th>1</th>\n",
       "      <td>DLWN</td>\n",
       "      <td>224.184062</td>\n",
       "      <td>8.284982</td>\n",
       "    </tr>\n",
       "    <tr>\n",
       "      <th>2</th>\n",
       "      <td>dSFN</td>\n",
       "      <td>224.184062</td>\n",
       "      <td>1.699700</td>\n",
       "    </tr>\n",
       "    <tr>\n",
       "      <th>3</th>\n",
       "      <td>DSFN</td>\n",
       "      <td>224.184062</td>\n",
       "      <td>2.410262</td>\n",
       "    </tr>\n",
       "  </tbody>\n",
       "</table>\n",
       "</div>"
      ],
      "text/plain": [
       "  variant         nlp  preprocessing\n",
       "0    dLWN  224.184062       7.460976\n",
       "1    DLWN  224.184062       8.284982\n",
       "2    dSFN  224.184062       1.699700\n",
       "3    DSFN  224.184062       2.410262"
      ]
     },
     "execution_count": 24,
     "metadata": {},
     "output_type": "execute_result"
    }
   ],
   "source": [
    "elapse_time"
   ]
  },
  {
   "cell_type": "code",
   "execution_count": 25,
   "metadata": {},
   "outputs": [],
   "source": [
    "ds.to_parquet('./results/ds.parquet', index=False)\n",
    "elapse_time.to_csv('./results/elapse_time.csv', index=False)"
   ]
  }
 ],
 "metadata": {
  "kernelspec": {
   "display_name": ".venv",
   "language": "python",
   "name": "python3"
  },
  "language_info": {
   "codemirror_mode": {
    "name": "ipython",
    "version": 3
   },
   "file_extension": ".py",
   "mimetype": "text/x-python",
   "name": "python",
   "nbconvert_exporter": "python",
   "pygments_lexer": "ipython3",
   "version": "3.8.10"
  },
  "orig_nbformat": 4
 },
 "nbformat": 4,
 "nbformat_minor": 2
}
