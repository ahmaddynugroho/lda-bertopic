{
 "cells": [
  {
   "cell_type": "code",
   "execution_count": null,
   "metadata": {},
   "outputs": [],
   "source": [
    "import stanza\n",
    "\n",
    "nlp = stanza.Pipeline(\n",
    "    lang='id',\n",
    "    processors='tokenize,pos,lemma',\n",
    "    download_method=stanza.DownloadMethod.REUSE_RESOURCES\n",
    ")"
   ]
  },
  {
   "cell_type": "code",
   "execution_count": 133,
   "metadata": {},
   "outputs": [],
   "source": [
    "import pandas as pd\n",
    "from gensim.models.phrases import Phrases\n",
    "\n",
    "def preprocess(df_nlp, process):\n",
    "    df = {}\n",
    "    allowed_pos = ['NOUN', 'PROPN', 'VERB', 'X']\n",
    "    for p in process:\n",
    "        c = 'C' in p\n",
    "        l = 'L' in p\n",
    "        w = 'W' in p\n",
    "        n = 'N' in p\n",
    "        b = 'B' in p\n",
    "        docs_long = []\n",
    "        docs_short = []\n",
    "        for doc in df_nlp:\n",
    "            if b:\n",
    "                docs_long.append(doc.text)\n",
    "                for s in doc.sentences:\n",
    "                    docs_short.append(s.text)\n",
    "                continue\n",
    "            tokens = []\n",
    "            for s in doc.sentences:\n",
    "                tokens_short = []\n",
    "                for word in s.words:\n",
    "                    _word = word.text\n",
    "                    if w:\n",
    "                        if word.upos not in allowed_pos:\n",
    "                            continue\n",
    "                    if l:\n",
    "                        _word = word.lemma if word.lemma else _word\n",
    "                    if c:\n",
    "                        _word = _word if l else word.text.lower()\n",
    "                    tokens.append(_word)\n",
    "                    tokens_short.append(_word)\n",
    "                docs_short.append(tokens_short)\n",
    "            docs_long.append(tokens)\n",
    "        if n:\n",
    "            bigram_short = Phrases(docs_short).freeze()\n",
    "            trigram_short = Phrases(bigram_short[docs_short]).freeze()\n",
    "            docs_short = trigram_short[bigram_short[docs_short]]\n",
    "            bigram_long = Phrases(docs_long).freeze()\n",
    "            trigram_long = Phrases(bigram_long[docs_long]).freeze()\n",
    "            docs_long = trigram_long[bigram_long[docs_long]]\n",
    "        df[f'd{p}'] = pd.Series(docs_short)\n",
    "        df[f'D{p}'] = pd.Series(docs_long)\n",
    "    return pd.concat(df, axis=1)"
   ]
  },
  {
   "cell_type": "code",
   "execution_count": 134,
   "metadata": {},
   "outputs": [],
   "source": [
    "import pandas as pd\n",
    "\n",
    "df = pd.read_parquet('./datasets/raw/articles.parquet')"
   ]
  },
  {
   "cell_type": "code",
   "execution_count": 135,
   "metadata": {},
   "outputs": [],
   "source": [
    "dfs = df.sample(50, random_state=999).reset_index(drop=True)"
   ]
  },
  {
   "cell_type": "code",
   "execution_count": 136,
   "metadata": {},
   "outputs": [],
   "source": [
    "from time import time\n",
    "\n",
    "t_start = time()\n",
    "\n",
    "docs = list(dfs['article'].apply(lambda doc: stanza.Document([], text=doc)))\n",
    "docs = nlp(docs)\n",
    "\n",
    "t_nlp = time()"
   ]
  },
  {
   "cell_type": "code",
   "execution_count": 137,
   "metadata": {},
   "outputs": [],
   "source": [
    "# variant = ['B', 'T', 'C', 'L', 'W', 'N', 'CL', 'CW', 'CN', 'LW', 'LN', 'WN', 'CLW', 'LWN', 'WNC', 'NCL', 'CLWN']\n",
    "variant = ['CL', 'LWN']\n",
    "ds = preprocess(docs, variant)\n",
    "\n",
    "t_ds = time()"
   ]
  },
  {
   "cell_type": "code",
   "execution_count": 162,
   "metadata": {},
   "outputs": [],
   "source": [
    "elapse_time = pd.DataFrame([{\n",
    "    'variant': f'{b}{v}',\n",
    "    'nlp': t_nlp - t_start,\n",
    "    'preprocessing': t_ds - t_nlp\n",
    "} for b in ['d', 'D'] for v in variant])"
   ]
  },
  {
   "cell_type": "code",
   "execution_count": 163,
   "metadata": {},
   "outputs": [
    {
     "data": {
      "text/html": [
       "<div>\n",
       "<style scoped>\n",
       "    .dataframe tbody tr th:only-of-type {\n",
       "        vertical-align: middle;\n",
       "    }\n",
       "\n",
       "    .dataframe tbody tr th {\n",
       "        vertical-align: top;\n",
       "    }\n",
       "\n",
       "    .dataframe thead th {\n",
       "        text-align: right;\n",
       "    }\n",
       "</style>\n",
       "<table border=\"1\" class=\"dataframe\">\n",
       "  <thead>\n",
       "    <tr style=\"text-align: right;\">\n",
       "      <th></th>\n",
       "      <th>dCL</th>\n",
       "      <th>DCL</th>\n",
       "      <th>dLWN</th>\n",
       "      <th>DLWN</th>\n",
       "    </tr>\n",
       "  </thead>\n",
       "  <tbody>\n",
       "    <tr>\n",
       "      <th>119</th>\n",
       "      <td>[dia, nilai, beri, insentif, dapat, buat, peri...</td>\n",
       "      <td>NaN</td>\n",
       "      <td>[nilai, beri, insentif, buat, perintah, hemat,...</td>\n",
       "      <td>NaN</td>\n",
       "    </tr>\n",
       "    <tr>\n",
       "      <th>50</th>\n",
       "      <td>[zona, yang, harus, kosong, sepanjang, garis, ...</td>\n",
       "      <td>NaN</td>\n",
       "      <td>[zona, kosong, garis, jalur, patah, kanan, kir...</td>\n",
       "      <td>NaN</td>\n",
       "    </tr>\n",
       "    <tr>\n",
       "      <th>757</th>\n",
       "      <td>[mohon, itu, aju, pada, 13, oktober, 2022, .]</td>\n",
       "      <td>NaN</td>\n",
       "      <td>[mohon, aju, oktober]</td>\n",
       "      <td>NaN</td>\n",
       "    </tr>\n",
       "    <tr>\n",
       "      <th>415</th>\n",
       "      <td>[setelah, lawan, tim, yang, ancam, degradasi, ...</td>\n",
       "      <td>NaN</td>\n",
       "      <td>[lawan, tim, ancam, degradasi, jamu, udinese, ...</td>\n",
       "      <td>NaN</td>\n",
       "    </tr>\n",
       "    <tr>\n",
       "      <th>234</th>\n",
       "      <td>[\", sejut, ,, bhatane, tangkap, .]</td>\n",
       "      <td>NaN</td>\n",
       "      <td>[sejut, bhatane, tangkap]</td>\n",
       "      <td>NaN</td>\n",
       "    </tr>\n",
       "  </tbody>\n",
       "</table>\n",
       "</div>"
      ],
      "text/plain": [
       "                                                   dCL  DCL  \\\n",
       "119  [dia, nilai, beri, insentif, dapat, buat, peri...  NaN   \n",
       "50   [zona, yang, harus, kosong, sepanjang, garis, ...  NaN   \n",
       "757      [mohon, itu, aju, pada, 13, oktober, 2022, .]  NaN   \n",
       "415  [setelah, lawan, tim, yang, ancam, degradasi, ...  NaN   \n",
       "234                 [\", sejut, ,, bhatane, tangkap, .]  NaN   \n",
       "\n",
       "                                                  dLWN DLWN  \n",
       "119  [nilai, beri, insentif, buat, perintah, hemat,...  NaN  \n",
       "50   [zona, kosong, garis, jalur, patah, kanan, kir...  NaN  \n",
       "757                              [mohon, aju, oktober]  NaN  \n",
       "415  [lawan, tim, ancam, degradasi, jamu, udinese, ...  NaN  \n",
       "234                          [sejut, bhatane, tangkap]  NaN  "
      ]
     },
     "execution_count": 163,
     "metadata": {},
     "output_type": "execute_result"
    }
   ],
   "source": [
    "ds.sample(5)"
   ]
  },
  {
   "cell_type": "code",
   "execution_count": 164,
   "metadata": {},
   "outputs": [
    {
     "data": {
      "text/html": [
       "<div>\n",
       "<style scoped>\n",
       "    .dataframe tbody tr th:only-of-type {\n",
       "        vertical-align: middle;\n",
       "    }\n",
       "\n",
       "    .dataframe tbody tr th {\n",
       "        vertical-align: top;\n",
       "    }\n",
       "\n",
       "    .dataframe thead th {\n",
       "        text-align: right;\n",
       "    }\n",
       "</style>\n",
       "<table border=\"1\" class=\"dataframe\">\n",
       "  <thead>\n",
       "    <tr style=\"text-align: right;\">\n",
       "      <th></th>\n",
       "      <th>variant</th>\n",
       "      <th>nlp</th>\n",
       "      <th>preprocessing</th>\n",
       "    </tr>\n",
       "  </thead>\n",
       "  <tbody>\n",
       "    <tr>\n",
       "      <th>0</th>\n",
       "      <td>dCL</td>\n",
       "      <td>34.678537</td>\n",
       "      <td>0.311998</td>\n",
       "    </tr>\n",
       "    <tr>\n",
       "      <th>1</th>\n",
       "      <td>dLWN</td>\n",
       "      <td>34.678537</td>\n",
       "      <td>0.311998</td>\n",
       "    </tr>\n",
       "    <tr>\n",
       "      <th>2</th>\n",
       "      <td>DCL</td>\n",
       "      <td>34.678537</td>\n",
       "      <td>0.311998</td>\n",
       "    </tr>\n",
       "    <tr>\n",
       "      <th>3</th>\n",
       "      <td>DLWN</td>\n",
       "      <td>34.678537</td>\n",
       "      <td>0.311998</td>\n",
       "    </tr>\n",
       "  </tbody>\n",
       "</table>\n",
       "</div>"
      ],
      "text/plain": [
       "  variant        nlp  preprocessing\n",
       "0     dCL  34.678537       0.311998\n",
       "1    dLWN  34.678537       0.311998\n",
       "2     DCL  34.678537       0.311998\n",
       "3    DLWN  34.678537       0.311998"
      ]
     },
     "execution_count": 164,
     "metadata": {},
     "output_type": "execute_result"
    }
   ],
   "source": [
    "elapse_time"
   ]
  },
  {
   "cell_type": "code",
   "execution_count": 165,
   "metadata": {},
   "outputs": [],
   "source": [
    "ds.to_parquet('./results/ds.parquet', index=False)\n",
    "elapse_time.to_csv('./results/elapse_time.csv', index=False)"
   ]
  }
 ],
 "metadata": {
  "kernelspec": {
   "display_name": ".venv",
   "language": "python",
   "name": "python3"
  },
  "language_info": {
   "codemirror_mode": {
    "name": "ipython",
    "version": 3
   },
   "file_extension": ".py",
   "mimetype": "text/x-python",
   "name": "python",
   "nbconvert_exporter": "python",
   "pygments_lexer": "ipython3",
   "version": "3.8.10"
  },
  "orig_nbformat": 4
 },
 "nbformat": 4,
 "nbformat_minor": 2
}
