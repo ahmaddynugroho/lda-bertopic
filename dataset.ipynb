{
 "cells": [
  {
   "cell_type": "code",
   "execution_count": 50,
   "metadata": {},
   "outputs": [],
   "source": [
    "PATH_ARTICLE = './datasets/raw/articles.parquet'\n",
    "PATH_NLP = './datasets/raw/articles.nlp'\n",
    "PATH_FILE_PREPROCESSED = './results/ds.parquet'\n",
    "PATH_FILE_ELAPSE_TIME = './results/elapse_time.csv'\n",
    "SAMPLE_SIZE = 200 # or None\n",
    "SAMPLE_VARIANT = ['LWN'] # or None\n",
    "USE_GPU = False"
   ]
  },
  {
   "cell_type": "code",
   "execution_count": 51,
   "metadata": {},
   "outputs": [],
   "source": [
    "import pandas as pd\n",
    "\n",
    "df = pd.read_parquet(PATH_ARTICLE)"
   ]
  },
  {
   "cell_type": "code",
   "execution_count": 52,
   "metadata": {},
   "outputs": [],
   "source": [
    "if SAMPLE_SIZE:\n",
    "    dfs = df.sample(SAMPLE_SIZE, random_state=999).reset_index(drop=True)\n",
    "else:\n",
    "    dfs = df"
   ]
  },
  {
   "cell_type": "code",
   "execution_count": 53,
   "metadata": {},
   "outputs": [
    {
     "name": "stderr",
     "output_type": "stream",
     "text": [
      "2023-08-26 15:34:35 WARNING: Language id package default expects mwt, which has been added\n"
     ]
    },
    {
     "name": "stderr",
     "output_type": "stream",
     "text": [
      "2023-08-26 15:34:36 INFO: Loading these models for language: id (Indonesian):\n",
      "=======================\n",
      "| Processor | Package |\n",
      "-----------------------\n",
      "| tokenize  | gsd     |\n",
      "| mwt       | gsd     |\n",
      "| pos       | gsd     |\n",
      "| lemma     | gsd     |\n",
      "=======================\n",
      "\n",
      "2023-08-26 15:34:36 INFO: Using device: cpu\n",
      "2023-08-26 15:34:36 INFO: Loading: tokenize\n",
      "2023-08-26 15:34:37 INFO: Loading: mwt\n",
      "2023-08-26 15:34:37 INFO: Loading: pos\n",
      "2023-08-26 15:34:37 INFO: Loading: lemma\n",
      "2023-08-26 15:34:38 INFO: Done loading processors!\n"
     ]
    }
   ],
   "source": [
    "import stanza\n",
    "\n",
    "nlp = stanza.Pipeline(\n",
    "    lang='id',\n",
    "    processors='tokenize,pos,lemma',\n",
    "    use_gpu=USE_GPU,\n",
    "    download_method=stanza.DownloadMethod.REUSE_RESOURCES\n",
    ")"
   ]
  },
  {
   "cell_type": "code",
   "execution_count": 54,
   "metadata": {},
   "outputs": [],
   "source": [
    "from time import time\n",
    "\n",
    "import pandas as pd\n",
    "from gensim.models.phrases import Phrases\n",
    "from Sastrawi.Stemmer.StemmerFactory import StemmerFactory\n",
    "from Sastrawi.StopWordRemover.StopWordRemoverFactory import \\\n",
    "    StopWordRemoverFactory\n",
    "from tqdm import tqdm\n",
    "\n",
    "stem = StemmerFactory().create_stemmer().stem\n",
    "remove = StopWordRemoverFactory().create_stop_word_remover().remove\n",
    "\n",
    "def preprocess(df_nlp, processes):\n",
    "    df = {}\n",
    "    allowed_pos = ['NOUN', 'PROPN']\n",
    "    elapse_time = []\n",
    "    for p in (tp := tqdm(processes)):\n",
    "        tp.set_description(f'Processing {p}')\n",
    "        t_start = time()\n",
    "        c = 'C' in p\n",
    "        l = 'L' in p\n",
    "        f = 'F' in p\n",
    "        w = 'W' in p\n",
    "        n = 'N' in p\n",
    "        b = 'B' in p\n",
    "        s = 'S' in p\n",
    "        docs_long = []\n",
    "        docs_short = []\n",
    "        for doc in df_nlp:\n",
    "            if b:\n",
    "                docs_long.append(doc.text)\n",
    "                for sent in doc.sentences:\n",
    "                    docs_short.append(sent.text)\n",
    "                    t_end_d = time()\n",
    "                t_end_D = time()\n",
    "                continue\n",
    "            tokens = []\n",
    "            for sent in doc.sentences:\n",
    "                tokens_short = []\n",
    "                for word in sent.words:\n",
    "                    _word = word.text\n",
    "                    if f:\n",
    "                        if word.upos not in allowed_pos:\n",
    "                            continue\n",
    "                    if s:\n",
    "                        sw = stem(_word)\n",
    "                        if len(sw) == 0: continue\n",
    "                        _word = sw\n",
    "                    if w:\n",
    "                        if len(remove(_word.lower())) == 0:\n",
    "                            continue\n",
    "                    if l:\n",
    "                        _word = word.lemma if word.lemma else _word\n",
    "                    if c:\n",
    "                        _word = _word if l else word.text.lower()\n",
    "                    tokens.append(_word)\n",
    "                    tokens_short.append(_word)\n",
    "                if len(tokens_short) == 0: continue\n",
    "                docs_short.append(tokens_short)\n",
    "            t_end_d = time()\n",
    "            if len(tokens) == 0: continue\n",
    "            docs_long.append(tokens)\n",
    "        t_end_D = time()\n",
    "        if n:\n",
    "            bigram_short = Phrases(docs_short).freeze()\n",
    "            trigram_short = Phrases(bigram_short[docs_short]).freeze()\n",
    "            docs_short = trigram_short[bigram_short[docs_short]]\n",
    "            t_end_d = time()\n",
    "            bigram_long = Phrases(docs_long).freeze()\n",
    "            trigram_long = Phrases(bigram_long[docs_long]).freeze()\n",
    "            docs_long = trigram_long[bigram_long[docs_long]]\n",
    "            t_end_D = time()\n",
    "        df[f'd{p}'] = pd.Series(docs_short)\n",
    "        elapse_time.append([f'd{p}', t_end_d - t_start])\n",
    "        df[f'D{p}'] = pd.Series(docs_long)\n",
    "        elapse_time.append([f'D{p}', t_end_D - t_start])\n",
    "    return (pd.concat(df, axis=1), elapse_time)"
   ]
  },
  {
   "cell_type": "code",
   "execution_count": 55,
   "metadata": {},
   "outputs": [],
   "source": [
    "from os.path import isfile\n",
    "from pickle import load, dump\n",
    "\n",
    "t_start = time()\n",
    "docs_path = PATH_NLP\n",
    "if isfile(docs_path):\n",
    "    with open(docs_path, 'rb') as f:\n",
    "        docs = load(f)\n",
    "else:\n",
    "    docs = list(dfs['article'].apply(lambda doc: stanza.Document([], text=doc)))\n",
    "    docs = nlp(docs)\n",
    "    with open(docs_path, 'wb') as f:\n",
    "        dump(docs, f)\n",
    "t_nlp = time()"
   ]
  },
  {
   "cell_type": "code",
   "execution_count": 56,
   "metadata": {},
   "outputs": [],
   "source": [
    "from itertools import combinations as c\n",
    "\n",
    "def make_v(sets):\n",
    "    r = []\n",
    "    for i in range(len(sets)):\n",
    "        r = r + [''.join(x) for x in c(sets, i+1)]\n",
    "    return r\n",
    "\n",
    "variant_stanza_filter = make_v(['C', 'L', 'F', 'N'])\n",
    "variant_stanza_stopwords = make_v(['C', 'L', 'W', 'N'])\n",
    "variant_sastrawi_filter = make_v(['S', 'F', 'N'])\n",
    "variant_sastrawi_stopwords = make_v(['S', 'W', 'N'])\n",
    "variant_full = sorted(list(set(\n",
    "    ['B', 'T']\n",
    "    + variant_stanza_filter\n",
    "    + variant_stanza_stopwords\n",
    "    + variant_sastrawi_filter\n",
    "    + variant_sastrawi_stopwords\n",
    ")), key=lambda x: (len(x), x))"
   ]
  },
  {
   "cell_type": "code",
   "execution_count": 57,
   "metadata": {},
   "outputs": [
    {
     "name": "stderr",
     "output_type": "stream",
     "text": [
      "Processing LWN:   0%|          | 0/1 [00:00<?, ?it/s]"
     ]
    },
    {
     "name": "stderr",
     "output_type": "stream",
     "text": [
      "Processing LWN: 100%|██████████| 1/1 [00:01<00:00,  1.44s/it]\n"
     ]
    }
   ],
   "source": [
    "if SAMPLE_VARIANT:\n",
    "    variant = SAMPLE_VARIANT\n",
    "else:\n",
    "    variant = variant_full\n",
    "\n",
    "ds, elapse_time = preprocess(docs, variant)\n",
    "t_ds = time()"
   ]
  },
  {
   "cell_type": "code",
   "execution_count": 58,
   "metadata": {},
   "outputs": [],
   "source": [
    "elapse_time = pd.DataFrame([{\n",
    "    'variant': v,\n",
    "    'nlp': t_nlp - t_start,\n",
    "    'preprocessing': t\n",
    "} for v, t in elapse_time ])"
   ]
  },
  {
   "cell_type": "code",
   "execution_count": 59,
   "metadata": {},
   "outputs": [
    {
     "data": {
      "text/html": [
       "<div>\n",
       "<style scoped>\n",
       "    .dataframe tbody tr th:only-of-type {\n",
       "        vertical-align: middle;\n",
       "    }\n",
       "\n",
       "    .dataframe tbody tr th {\n",
       "        vertical-align: top;\n",
       "    }\n",
       "\n",
       "    .dataframe thead th {\n",
       "        text-align: right;\n",
       "    }\n",
       "</style>\n",
       "<table border=\"1\" class=\"dataframe\">\n",
       "  <thead>\n",
       "    <tr style=\"text-align: right;\">\n",
       "      <th></th>\n",
       "      <th>variant</th>\n",
       "      <th>nlp</th>\n",
       "      <th>preprocessing</th>\n",
       "    </tr>\n",
       "  </thead>\n",
       "  <tbody>\n",
       "    <tr>\n",
       "      <th>0</th>\n",
       "      <td>dLWN</td>\n",
       "      <td>267.22045</td>\n",
       "      <td>0.790498</td>\n",
       "    </tr>\n",
       "    <tr>\n",
       "      <th>1</th>\n",
       "      <td>DLWN</td>\n",
       "      <td>267.22045</td>\n",
       "      <td>1.186545</td>\n",
       "    </tr>\n",
       "  </tbody>\n",
       "</table>\n",
       "</div>"
      ],
      "text/plain": [
       "  variant        nlp  preprocessing\n",
       "0    dLWN  267.22045       0.790498\n",
       "1    DLWN  267.22045       1.186545"
      ]
     },
     "execution_count": 59,
     "metadata": {},
     "output_type": "execute_result"
    }
   ],
   "source": [
    "elapse_time"
   ]
  },
  {
   "cell_type": "code",
   "execution_count": 60,
   "metadata": {},
   "outputs": [
    {
     "data": {
      "text/html": [
       "<div>\n",
       "<style scoped>\n",
       "    .dataframe tbody tr th:only-of-type {\n",
       "        vertical-align: middle;\n",
       "    }\n",
       "\n",
       "    .dataframe tbody tr th {\n",
       "        vertical-align: top;\n",
       "    }\n",
       "\n",
       "    .dataframe thead th {\n",
       "        text-align: right;\n",
       "    }\n",
       "</style>\n",
       "<table border=\"1\" class=\"dataframe\">\n",
       "  <thead>\n",
       "    <tr style=\"text-align: right;\">\n",
       "      <th></th>\n",
       "      <th>dLWN</th>\n",
       "      <th>DLWN</th>\n",
       "    </tr>\n",
       "  </thead>\n",
       "  <tbody>\n",
       "    <tr>\n",
       "      <th>0</th>\n",
       "      <td>[kisah, misterius, mati, keluarga, kalideres, .]</td>\n",
       "      <td>[kisah, misterius, mati, keluarga, kalideres, ...</td>\n",
       "    </tr>\n",
       "    <tr>\n",
       "      <th>1</th>\n",
       "      <td>[direktur, reserse, kriminal, umum, polda_metr...</td>\n",
       "      <td>[teliti, brin, penosongan, sesar, gempa, cianj...</td>\n",
       "    </tr>\n",
       "    <tr>\n",
       "      <th>2</th>\n",
       "      <td>[proses, selidi, jalan, henti, .]</td>\n",
       "      <td>[idola, piala_dunia_2022, ,, cho_gue, hadapi, ...</td>\n",
       "    </tr>\n",
       "    <tr>\n",
       "      <th>3</th>\n",
       "      <td>[polisi, temu, minimal, barang, bukti, rujuk, ...</td>\n",
       "      <td>[menjelang_natal, tahun, ,, pasar, jaya, ada, ...</td>\n",
       "    </tr>\n",
       "    <tr>\n",
       "      <th>4</th>\n",
       "      <td>[motif, bunuh, bunuh, mati, keluarga, kalidere...</td>\n",
       "      <td>[fitur, komunikasi, darurat, via, satelit, iph...</td>\n",
       "    </tr>\n",
       "    <tr>\n",
       "      <th>...</th>\n",
       "      <td>...</td>\n",
       "      <td>...</td>\n",
       "    </tr>\n",
       "    <tr>\n",
       "      <th>4150</th>\n",
       "      <td>[turnamen, ,, timnas_indonesia, grup_juara, ta...</td>\n",
       "      <td>NaN</td>\n",
       "    </tr>\n",
       "    <tr>\n",
       "      <th>4151</th>\n",
       "      <td>[timnas_indonesia, hadap, kamboja, laga, perda...</td>\n",
       "      <td>NaN</td>\n",
       "    </tr>\n",
       "    <tr>\n",
       "      <th>4152</th>\n",
       "      <td>[,, indonesia, tandang, markas, brunei_darussa...</td>\n",
       "      <td>NaN</td>\n",
       "    </tr>\n",
       "    <tr>\n",
       "      <th>4153</th>\n",
       "      <td>[laga, ,, indonesia, jajal, kuat, filipina, ma...</td>\n",
       "      <td>NaN</td>\n",
       "    </tr>\n",
       "    <tr>\n",
       "      <th>4154</th>\n",
       "      <td>[baca_:, penmain, timnas_indonesia, digejot, l...</td>\n",
       "      <td>NaN</td>\n",
       "    </tr>\n",
       "  </tbody>\n",
       "</table>\n",
       "<p>4155 rows × 2 columns</p>\n",
       "</div>"
      ],
      "text/plain": [
       "                                                   dLWN  \\\n",
       "0      [kisah, misterius, mati, keluarga, kalideres, .]   \n",
       "1     [direktur, reserse, kriminal, umum, polda_metr...   \n",
       "2                     [proses, selidi, jalan, henti, .]   \n",
       "3     [polisi, temu, minimal, barang, bukti, rujuk, ...   \n",
       "4     [motif, bunuh, bunuh, mati, keluarga, kalidere...   \n",
       "...                                                 ...   \n",
       "4150  [turnamen, ,, timnas_indonesia, grup_juara, ta...   \n",
       "4151  [timnas_indonesia, hadap, kamboja, laga, perda...   \n",
       "4152  [,, indonesia, tandang, markas, brunei_darussa...   \n",
       "4153  [laga, ,, indonesia, jajal, kuat, filipina, ma...   \n",
       "4154  [baca_:, penmain, timnas_indonesia, digejot, l...   \n",
       "\n",
       "                                                   DLWN  \n",
       "0     [kisah, misterius, mati, keluarga, kalideres, ...  \n",
       "1     [teliti, brin, penosongan, sesar, gempa, cianj...  \n",
       "2     [idola, piala_dunia_2022, ,, cho_gue, hadapi, ...  \n",
       "3     [menjelang_natal, tahun, ,, pasar, jaya, ada, ...  \n",
       "4     [fitur, komunikasi, darurat, via, satelit, iph...  \n",
       "...                                                 ...  \n",
       "4150                                                NaN  \n",
       "4151                                                NaN  \n",
       "4152                                                NaN  \n",
       "4153                                                NaN  \n",
       "4154                                                NaN  \n",
       "\n",
       "[4155 rows x 2 columns]"
      ]
     },
     "execution_count": 60,
     "metadata": {},
     "output_type": "execute_result"
    }
   ],
   "source": [
    "ds"
   ]
  },
  {
   "cell_type": "code",
   "execution_count": 61,
   "metadata": {},
   "outputs": [],
   "source": [
    "ds.to_parquet(PATH_FILE_PREPROCESSED, index=False)\n",
    "elapse_time.to_csv(PATH_FILE_ELAPSE_TIME, index=False)"
   ]
  }
 ],
 "metadata": {
  "kernelspec": {
   "display_name": ".venv",
   "language": "python",
   "name": "python3"
  },
  "language_info": {
   "codemirror_mode": {
    "name": "ipython",
    "version": 3
   },
   "file_extension": ".py",
   "mimetype": "text/x-python",
   "name": "python",
   "nbconvert_exporter": "python",
   "pygments_lexer": "ipython3",
   "version": "3.10.12"
  },
  "orig_nbformat": 4
 },
 "nbformat": 4,
 "nbformat_minor": 2
}
