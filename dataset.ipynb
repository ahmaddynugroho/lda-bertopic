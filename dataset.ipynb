{
 "cells": [
  {
   "cell_type": "code",
   "execution_count": 22,
   "metadata": {},
   "outputs": [
    {
     "name": "stderr",
     "output_type": "stream",
     "text": [
      "2023-08-22 12:26:07 WARNING: Language id package default expects mwt, which has been added\n",
      "2023-08-22 12:26:07 INFO: Loading these models for language: id (Indonesian):\n",
      "=======================\n",
      "| Processor | Package |\n",
      "-----------------------\n",
      "| tokenize  | gsd     |\n",
      "| mwt       | gsd     |\n",
      "| pos       | gsd     |\n",
      "| lemma     | gsd     |\n",
      "=======================\n",
      "\n",
      "2023-08-22 12:26:07 INFO: Using device: cpu\n",
      "2023-08-22 12:26:07 INFO: Loading: tokenize\n",
      "2023-08-22 12:26:07 INFO: Loading: mwt\n",
      "2023-08-22 12:26:07 INFO: Loading: pos\n",
      "2023-08-22 12:26:07 INFO: Loading: lemma\n",
      "2023-08-22 12:26:07 INFO: Done loading processors!\n"
     ]
    }
   ],
   "source": [
    "import stanza\n",
    "\n",
    "nlp = stanza.Pipeline(\n",
    "    lang='id',\n",
    "    processors='tokenize,pos,lemma',\n",
    "    download_method=stanza.DownloadMethod.REUSE_RESOURCES\n",
    ")"
   ]
  },
  {
   "cell_type": "code",
   "execution_count": 23,
   "metadata": {},
   "outputs": [],
   "source": [
    "from time import time\n",
    "\n",
    "import pandas as pd\n",
    "from gensim.models.phrases import Phrases\n",
    "\n",
    "\n",
    "def preprocess(df_nlp, process):\n",
    "    df = {}\n",
    "    allowed_pos = ['NOUN', 'PROPN', 'VERB', 'X']\n",
    "    elapse_time = []\n",
    "    for p in process:\n",
    "        t_start = time()\n",
    "        c = 'C' in p\n",
    "        l = 'L' in p\n",
    "        w = 'W' in p\n",
    "        n = 'N' in p\n",
    "        b = 'B' in p\n",
    "        docs_long = []\n",
    "        docs_short = []\n",
    "        for doc in df_nlp:\n",
    "            if b:\n",
    "                docs_long.append(doc.text)\n",
    "                for s in doc.sentences:\n",
    "                    docs_short.append(s.text)\n",
    "                continue\n",
    "            tokens = []\n",
    "            for s in doc.sentences:\n",
    "                tokens_short = []\n",
    "                for word in s.words:\n",
    "                    _word = word.text\n",
    "                    if w:\n",
    "                        if word.upos not in allowed_pos:\n",
    "                            continue\n",
    "                    if l:\n",
    "                        _word = word.lemma if word.lemma else _word\n",
    "                    if c:\n",
    "                        _word = _word if l else word.text.lower()\n",
    "                    tokens.append(_word)\n",
    "                    tokens_short.append(_word)\n",
    "                docs_short.append(tokens_short)\n",
    "                t_end_d = time()\n",
    "            docs_long.append(tokens)\n",
    "            t_end_D = time()\n",
    "        if n:\n",
    "            bigram_short = Phrases(docs_short).freeze()\n",
    "            trigram_short = Phrases(bigram_short[docs_short]).freeze()\n",
    "            docs_short = trigram_short[bigram_short[docs_short]]\n",
    "            t_end_d = time()\n",
    "            bigram_long = Phrases(docs_long).freeze()\n",
    "            trigram_long = Phrases(bigram_long[docs_long]).freeze()\n",
    "            docs_long = trigram_long[bigram_long[docs_long]]\n",
    "            t_end_D = time()\n",
    "        df[f'd{p}'] = pd.Series(docs_short)\n",
    "        elapse_time.append([f'd{p}', t_end_d - t_start])\n",
    "        df[f'D{p}'] = pd.Series(docs_long)\n",
    "        elapse_time.append([f'D{p}', t_end_D - t_start])\n",
    "    return (pd.concat(df, axis=1), elapse_time)"
   ]
  },
  {
   "cell_type": "code",
   "execution_count": 24,
   "metadata": {},
   "outputs": [],
   "source": [
    "import pandas as pd\n",
    "\n",
    "df = pd.read_parquet('./datasets/raw/articles.parquet')"
   ]
  },
  {
   "cell_type": "code",
   "execution_count": 25,
   "metadata": {},
   "outputs": [],
   "source": [
    "dfs = df.sample(50, random_state=999).reset_index(drop=True)"
   ]
  },
  {
   "cell_type": "code",
   "execution_count": 26,
   "metadata": {},
   "outputs": [],
   "source": [
    "t_start = time()\n",
    "\n",
    "docs = list(dfs['article'].apply(lambda doc: stanza.Document([], text=doc)))\n",
    "docs = nlp(docs)\n",
    "\n",
    "t_nlp = time()"
   ]
  },
  {
   "cell_type": "code",
   "execution_count": 27,
   "metadata": {},
   "outputs": [],
   "source": [
    "# variant = ['B', 'T', 'C', 'L', 'W', 'N', 'CL', 'CW', 'CN', 'LW', 'LN', 'WN', 'CLW', 'LWN', 'WNC', 'NCL', 'CLWN']\n",
    "variant = ['CL', 'LWN']\n",
    "ds, elapse_time = preprocess(docs, variant)\n",
    "\n",
    "t_ds = time()"
   ]
  },
  {
   "cell_type": "code",
   "execution_count": 28,
   "metadata": {},
   "outputs": [],
   "source": [
    "elapse_time = pd.DataFrame([{\n",
    "    'variant': v,\n",
    "    'nlp': t_nlp - t_start,\n",
    "    'preprocessing': t\n",
    "} for v, t in elapse_time ])"
   ]
  },
  {
   "cell_type": "code",
   "execution_count": 29,
   "metadata": {},
   "outputs": [
    {
     "data": {
      "text/html": [
       "<div>\n",
       "<style scoped>\n",
       "    .dataframe tbody tr th:only-of-type {\n",
       "        vertical-align: middle;\n",
       "    }\n",
       "\n",
       "    .dataframe tbody tr th {\n",
       "        vertical-align: top;\n",
       "    }\n",
       "\n",
       "    .dataframe thead th {\n",
       "        text-align: right;\n",
       "    }\n",
       "</style>\n",
       "<table border=\"1\" class=\"dataframe\">\n",
       "  <thead>\n",
       "    <tr style=\"text-align: right;\">\n",
       "      <th></th>\n",
       "      <th>variant</th>\n",
       "      <th>nlp</th>\n",
       "      <th>preprocessing</th>\n",
       "    </tr>\n",
       "  </thead>\n",
       "  <tbody>\n",
       "    <tr>\n",
       "      <th>0</th>\n",
       "      <td>dCL</td>\n",
       "      <td>26.75152</td>\n",
       "      <td>0.015996</td>\n",
       "    </tr>\n",
       "    <tr>\n",
       "      <th>1</th>\n",
       "      <td>DCL</td>\n",
       "      <td>26.75152</td>\n",
       "      <td>0.015996</td>\n",
       "    </tr>\n",
       "    <tr>\n",
       "      <th>2</th>\n",
       "      <td>dLWN</td>\n",
       "      <td>26.75152</td>\n",
       "      <td>0.097994</td>\n",
       "    </tr>\n",
       "    <tr>\n",
       "      <th>3</th>\n",
       "      <td>DLWN</td>\n",
       "      <td>26.75152</td>\n",
       "      <td>0.184994</td>\n",
       "    </tr>\n",
       "  </tbody>\n",
       "</table>\n",
       "</div>"
      ],
      "text/plain": [
       "  variant       nlp  preprocessing\n",
       "0     dCL  26.75152       0.015996\n",
       "1     DCL  26.75152       0.015996\n",
       "2    dLWN  26.75152       0.097994\n",
       "3    DLWN  26.75152       0.184994"
      ]
     },
     "execution_count": 29,
     "metadata": {},
     "output_type": "execute_result"
    }
   ],
   "source": [
    "elapse_time"
   ]
  },
  {
   "cell_type": "code",
   "execution_count": 30,
   "metadata": {},
   "outputs": [],
   "source": [
    "ds.to_parquet('./results/ds.parquet', index=False)\n",
    "elapse_time.to_csv('./results/elapse_time.csv', index=False)"
   ]
  }
 ],
 "metadata": {
  "kernelspec": {
   "display_name": ".venv",
   "language": "python",
   "name": "python3"
  },
  "language_info": {
   "codemirror_mode": {
    "name": "ipython",
    "version": 3
   },
   "file_extension": ".py",
   "mimetype": "text/x-python",
   "name": "python",
   "nbconvert_exporter": "python",
   "pygments_lexer": "ipython3",
   "version": "3.8.10"
  },
  "orig_nbformat": 4
 },
 "nbformat": 4,
 "nbformat_minor": 2
}
