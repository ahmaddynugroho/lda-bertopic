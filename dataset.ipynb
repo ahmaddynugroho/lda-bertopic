{
 "cells": [
  {
   "cell_type": "markdown",
   "metadata": {},
   "source": [
    "# Create H, A, T"
   ]
  },
  {
   "cell_type": "code",
   "execution_count": 74,
   "metadata": {},
   "outputs": [],
   "source": [
    "# import pandas as pd\n",
    "# df = pd.read_csv('./datasets/raw/tdec.csv')"
   ]
  },
  {
   "cell_type": "code",
   "execution_count": 75,
   "metadata": {},
   "outputs": [],
   "source": [
    "# dfs = df.sample(200)"
   ]
  },
  {
   "cell_type": "code",
   "execution_count": 76,
   "metadata": {},
   "outputs": [],
   "source": [
    "# import stanza\n",
    "\n",
    "# nlp = stanza.Pipeline(\n",
    "#     lang=\"id\",\n",
    "#     processors=\"tokenize,pos,lemma\",\n",
    "#     download_method=stanza.DownloadMethod.REUSE_RESOURCES,\n",
    "# )"
   ]
  },
  {
   "cell_type": "code",
   "execution_count": 77,
   "metadata": {},
   "outputs": [],
   "source": [
    "# H = dfs.filter(['headline'], axis=1)\n",
    "# H.columns = ['H']\n",
    "\n",
    "# A = dfs.filter(['body'], axis=1)\n",
    "# A.columns = ['A']\n",
    "# A['A'] = dfs['headline'] + '. ' + A['A']\n",
    "\n",
    "# T = dfs.filter(['body'], axis=1)\n",
    "# T.columns = ['T']\n",
    "# T['T'] = dfs['headline'] + '. ' + T['T']\n",
    "# in_T = list(T['T'].apply(lambda h: stanza.Document([], text=h)))\n",
    "# out_T = nlp(in_T)\n",
    "# T = pd.DataFrame([s.text for a in out_T for s in a.sentences], columns=['T'])"
   ]
  },
  {
   "cell_type": "code",
   "execution_count": 78,
   "metadata": {},
   "outputs": [],
   "source": [
    "# H.to_csv('./datasets/small/H.csv', index=False)\n",
    "# A.to_csv('./datasets/small/A.csv', index=False)\n",
    "# T.to_csv('./datasets/small/S.csv', index=False)"
   ]
  },
  {
   "cell_type": "markdown",
   "metadata": {},
   "source": [
    "# Create Variants"
   ]
  },
  {
   "cell_type": "code",
   "execution_count": 12,
   "metadata": {},
   "outputs": [],
   "source": [
    "import pandas as pd\n",
    "\n",
    "H = pd.read_csv('./datasets/small/H.csv')\n",
    "A = pd.read_csv('./datasets/small/A.csv')\n",
    "T = pd.read_csv('./datasets/small/S.csv')"
   ]
  },
  {
   "cell_type": "code",
   "execution_count": 13,
   "metadata": {},
   "outputs": [
    {
     "name": "stderr",
     "output_type": "stream",
     "text": [
      "2023-08-15 17:36:44 WARNING: Language id package default expects mwt, which has been added\n"
     ]
    },
    {
     "name": "stderr",
     "output_type": "stream",
     "text": [
      "2023-08-15 17:36:45 INFO: Loading these models for language: id (Indonesian):\n",
      "=======================\n",
      "| Processor | Package |\n",
      "-----------------------\n",
      "| tokenize  | gsd     |\n",
      "| mwt       | gsd     |\n",
      "| pos       | gsd     |\n",
      "| lemma     | gsd     |\n",
      "=======================\n",
      "\n",
      "2023-08-15 17:36:45 INFO: Using device: cpu\n",
      "2023-08-15 17:36:45 INFO: Loading: tokenize\n",
      "2023-08-15 17:36:45 INFO: Loading: mwt\n",
      "2023-08-15 17:36:45 INFO: Loading: pos\n",
      "2023-08-15 17:36:45 INFO: Loading: lemma\n",
      "2023-08-15 17:36:45 INFO: Done loading processors!\n"
     ]
    }
   ],
   "source": [
    "import stanza\n",
    "\n",
    "nlp = stanza.Pipeline(\n",
    "    lang=\"id\",\n",
    "    processors=\"tokenize,pos,lemma\",\n",
    "    download_method=stanza.DownloadMethod.REUSE_RESOURCES,\n",
    ")"
   ]
  },
  {
   "cell_type": "code",
   "execution_count": 14,
   "metadata": {},
   "outputs": [],
   "source": [
    "allowed_pos = ['NOUN', 'PROPN', 'VERB', 'X']\n",
    "\n",
    "def preprocess_clw(out_df, c=False, l=False, w=False):\n",
    "    r = [] # result\n",
    "    for d in out_df:\n",
    "        tokens = []\n",
    "        for s in d.sentences:\n",
    "            for token in s.words:\n",
    "                _token = token.text\n",
    "                if w:\n",
    "                    if token.upos not in allowed_pos:\n",
    "                        continue\n",
    "                if l:\n",
    "                    _token = token.lemma if token.lemma else _token\n",
    "                if c:\n",
    "                    _token = _token if l else token.text.lower()\n",
    "                tokens.append(_token)\n",
    "        r.append(' '.join(tokens))\n",
    "    return r"
   ]
  },
  {
   "cell_type": "code",
   "execution_count": 15,
   "metadata": {},
   "outputs": [],
   "source": [
    "allowed_pos = ['NOUN', 'PROPN', 'VERB', 'X']\n",
    "\n",
    "def preprocess(df_column):\n",
    "    r = {} # result\n",
    "    in_df = list(df_column.apply(lambda x: stanza.Document([], text=x)))\n",
    "    out_df = nlp(in_df)\n",
    "    r['T'] = preprocess_clw(out_df)\n",
    "    r['C'] = preprocess_clw(out_df, c=True)\n",
    "    r['CL'] = preprocess_clw(out_df, c=True, l=True)\n",
    "    r['CLW'] = preprocess_clw(out_df, c=True, l=True, w=True)\n",
    "    r['CW'] = preprocess_clw(out_df, c=True, w=True)\n",
    "    r['L'] = preprocess_clw(out_df, l=True)\n",
    "    r['LW'] = preprocess_clw(out_df, l=True, w=True)\n",
    "    r['W'] = preprocess_clw(out_df, w=True)\n",
    "    return r"
   ]
  },
  {
   "cell_type": "code",
   "execution_count": 16,
   "metadata": {},
   "outputs": [],
   "source": [
    "HCLW = pd.DataFrame(preprocess(H['H']))\n",
    "ACLW = pd.DataFrame(preprocess(A['A']))\n",
    "TCLW = pd.DataFrame(preprocess(T['T']))"
   ]
  },
  {
   "cell_type": "code",
   "execution_count": 29,
   "metadata": {},
   "outputs": [],
   "source": [
    "# HCLW.to_csv('./datasets/small/HCLW.csv', index=False)\n",
    "# ACLW.to_csv('./datasets/small/ACLW.csv', index=False)\n",
    "# TCLW.to_csv('./datasets/small/SCLW.csv', index=False)"
   ]
  }
 ],
 "metadata": {
  "kernelspec": {
   "display_name": ".venv",
   "language": "python",
   "name": "python3"
  },
  "language_info": {
   "codemirror_mode": {
    "name": "ipython",
    "version": 3
   },
   "file_extension": ".py",
   "mimetype": "text/x-python",
   "name": "python",
   "nbconvert_exporter": "python",
   "pygments_lexer": "ipython3",
   "version": "3.8.10"
  },
  "orig_nbformat": 4
 },
 "nbformat": 4,
 "nbformat_minor": 2
}
