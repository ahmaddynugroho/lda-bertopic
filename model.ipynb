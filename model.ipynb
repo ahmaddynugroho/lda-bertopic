{
 "cells": [
  {
   "cell_type": "markdown",
   "metadata": {},
   "source": [
    "# LDA"
   ]
  },
  {
   "cell_type": "code",
   "execution_count": 96,
   "metadata": {},
   "outputs": [],
   "source": [
    "import pickle\n",
    "\n",
    "with open('./datasets/small/embeddings/e_H.pickle', 'rb') as f:\n",
    "    e_H = pickle.load(f)\n",
    "with open('./datasets/small/embeddings/e_A.pickle', 'rb') as f:\n",
    "    e_A = pickle.load(f)\n",
    "with open('./datasets/small/embeddings/e_S.pickle', 'rb') as f:\n",
    "    e_S = pickle.load(f)"
   ]
  },
  {
   "cell_type": "code",
   "execution_count": 97,
   "metadata": {},
   "outputs": [],
   "source": [
    "from time import time\n",
    "\n",
    "from gensim.models.ldamulticore import LdaMulticore\n",
    "from gensim.models.coherencemodel import CoherenceModel\n",
    "from utils import get_diversity, get_topics_lda\n",
    "import optuna\n",
    "\n",
    "def lda(embedding):\n",
    "    def objective(trial, get_lda=False):\n",
    "        num_topics = trial.suggest_int('num_topics', 5, 100)\n",
    "        alpha = trial.suggest_categorical('alpha_categorical', ['symmetric', 'asymmetric', 'scalar'])\n",
    "        eta = trial.suggest_categorical('eta_categorical', ['symmetric', 'auto', 'scalar'])\n",
    "        if alpha == 'scalar':\n",
    "            alpha = trial.suggest_float('alpha', 0.01, 1)\n",
    "        if eta == 'scalar':\n",
    "            eta = trial.suggest_float('eta', 0.01, 1)\n",
    "        model = LdaMulticore(\n",
    "            corpus=embedding['corpus'],\n",
    "            id2word=embedding['id2word'],\n",
    "            num_topics=num_topics,\n",
    "            alpha=alpha,\n",
    "            eta=eta,\n",
    "        )\n",
    "        if get_lda:\n",
    "            return model\n",
    "        c = CoherenceModel(model, texts=embedding['T'], dictionary=embedding['id2word'], coherence='c_v')\n",
    "        cs = c.get_coherence()\n",
    "        ts = get_diversity(get_topics_lda(model, embedding['id2word']))\n",
    "        return (cs + ts) / 2\n",
    "\n",
    "    t_start = time()\n",
    "    study = optuna.create_study(direction='maximize')\n",
    "    study.optimize(objective, n_trials=2) # FIXME: change n to 20\n",
    "\n",
    "    best_trial = study.best_trial\n",
    "    best_lda = objective(best_trial, get_lda=True)\n",
    "    t_end = time()\n",
    "    return {\n",
    "        'best_params': study.best_params,\n",
    "        'best_trial': best_trial,\n",
    "        'time': t_end - t_start,\n",
    "        'model': best_lda,\n",
    "    }"
   ]
  },
  {
   "cell_type": "code",
   "execution_count": 98,
   "metadata": {},
   "outputs": [],
   "source": [
    "def save_models_lda(embeddings, variant):\n",
    "    for name in variant:\n",
    "        model = lda(embeddings[name])\n",
    "        with open(f'./datasets/small/models_lda/{name}.pickle', 'wb') as f:\n",
    "            pickle.dump(model, f, protocol=pickle.HIGHEST_PROTOCOL)\n",
    "        del model"
   ]
  },
  {
   "cell_type": "code",
   "execution_count": 99,
   "metadata": {},
   "outputs": [],
   "source": [
    "# e_variant = ['T', 'C', 'CL', 'CLW', 'CW', 'L', 'LW', 'W']\n",
    "e_variant = ['T', 'CLW']"
   ]
  },
  {
   "cell_type": "code",
   "execution_count": 100,
   "metadata": {},
   "outputs": [
    {
     "name": "stderr",
     "output_type": "stream",
     "text": [
      "[I 2023-08-16 11:53:28,438] A new study created in memory with name: no-name-f837bd8c-59de-4da5-b5c1-e7690c6d14df\n"
     ]
    },
    {
     "name": "stderr",
     "output_type": "stream",
     "text": [
      "[I 2023-08-16 11:53:34,869] Trial 0 finished with value: 0.4671821787943199 and parameters: {'num_topics': 7, 'alpha_categorical': 'scalar', 'eta_categorical': 'scalar', 'alpha': 0.23117293650814605, 'eta': 0.3378406823802936}. Best is trial 0 with value: 0.4671821787943199.\n",
      "[I 2023-08-16 11:53:44,202] Trial 1 finished with value: 0.524287415877537 and parameters: {'num_topics': 40, 'alpha_categorical': 'asymmetric', 'eta_categorical': 'scalar', 'eta': 0.9485152772613219}. Best is trial 1 with value: 0.524287415877537.\n",
      "[I 2023-08-16 11:53:47,925] A new study created in memory with name: no-name-9530d558-f8fa-4e16-af51-cc915af3d33f\n",
      "[I 2023-08-16 11:53:54,778] Trial 0 finished with value: 0.6451638591828325 and parameters: {'num_topics': 12, 'alpha_categorical': 'asymmetric', 'eta_categorical': 'auto'}. Best is trial 0 with value: 0.6451638591828325.\n",
      "[I 2023-08-16 11:54:07,015] Trial 1 finished with value: 0.5198677229628182 and parameters: {'num_topics': 82, 'alpha_categorical': 'symmetric', 'eta_categorical': 'symmetric'}. Best is trial 0 with value: 0.6451638591828325.\n",
      "[I 2023-08-16 11:54:10,715] A new study created in memory with name: no-name-f3a36e18-2583-435b-9310-87724f2dbf5c\n",
      "[I 2023-08-16 11:54:24,318] Trial 0 finished with value: 0.14364352138045758 and parameters: {'num_topics': 86, 'alpha_categorical': 'asymmetric', 'eta_categorical': 'scalar', 'eta': 0.6433071730952912}. Best is trial 0 with value: 0.14364352138045758.\n",
      "[I 2023-08-16 11:54:33,780] Trial 1 finished with value: 0.19541811658796762 and parameters: {'num_topics': 11, 'alpha_categorical': 'symmetric', 'eta_categorical': 'scalar', 'eta': 0.9025742211874626}. Best is trial 1 with value: 0.19541811658796762.\n",
      "[I 2023-08-16 11:54:38,370] A new study created in memory with name: no-name-2a7ec415-704e-4f68-a228-1d9a17dc4f2c\n",
      "[I 2023-08-16 11:54:50,225] Trial 0 finished with value: 0.329691744791889 and parameters: {'num_topics': 57, 'alpha_categorical': 'asymmetric', 'eta_categorical': 'auto'}. Best is trial 0 with value: 0.329691744791889.\n",
      "[I 2023-08-16 11:55:04,631] Trial 1 finished with value: 0.34840630476272055 and parameters: {'num_topics': 67, 'alpha_categorical': 'asymmetric', 'eta_categorical': 'scalar', 'eta': 0.05265760159668836}. Best is trial 1 with value: 0.34840630476272055.\n"
     ]
    }
   ],
   "source": [
    "# This takes 1.5 hour\n",
    "save_models_lda(e_H, [f'H{t}' for t in e_variant])\n",
    "save_models_lda(e_A, [f'A{t}' for t in e_variant])\n",
    "# e_names = [f'S{t}' for t in e_variant]\n",
    "# save_models_lda(e_S, e_names)"
   ]
  },
  {
   "cell_type": "markdown",
   "metadata": {},
   "source": [
    "# BERTopic"
   ]
  },
  {
   "cell_type": "code",
   "execution_count": 101,
   "metadata": {},
   "outputs": [],
   "source": [
    "import pickle\n",
    "\n",
    "with open('./datasets/small/embeddings/e_H.pickle', 'rb') as f:\n",
    "    e_H = pickle.load(f)\n",
    "with open('./datasets/small/embeddings/e_A.pickle', 'rb') as f:\n",
    "    e_A = pickle.load(f)\n",
    "with open('./datasets/small/embeddings/e_S.pickle', 'rb') as f:\n",
    "    e_S = pickle.load(f)"
   ]
  },
  {
   "cell_type": "code",
   "execution_count": 102,
   "metadata": {},
   "outputs": [],
   "source": [
    "from time import time\n",
    "\n",
    "from bertopic import BERTopic\n",
    "from utils import get_topics_bertopic\n",
    "import pandas as pd\n",
    "\n",
    "embedding_model = \"paraphrase-multilingual-MiniLM-L12-v2\"\n",
    "bertopic = BERTopic(embedding_model=embedding_model)\n",
    "\n",
    "def save_models_bertopic(embeddings, variant):\n",
    "    path_prefix = 'datasets/small/models_bertopic/'\n",
    "    for v in variant:\n",
    "        t_start = time()\n",
    "        model = bertopic.fit(embeddings[v]['text'])\n",
    "        t_end = time()\n",
    "        model.save(\n",
    "            f\"{path_prefix}{v}\",\n",
    "            serialization=\"safetensors\",\n",
    "            save_embedding_model=embedding_model,\n",
    "            save_ctfidf=True,\n",
    "        )\n",
    "        pd.DataFrame([{ 'time': t_end - t_start }]).to_csv(f'{path_prefix}{v}/time.csv', index=False)\n",
    "        # print(get_topics_bertopic(model))\n",
    "        del model"
   ]
  },
  {
   "cell_type": "code",
   "execution_count": 104,
   "metadata": {},
   "outputs": [],
   "source": [
    "# e_variant = ['T', 'C', 'CL', 'CLW', 'CW', 'L', 'LW', 'W']\n",
    "e_variant = ['T', 'CLW']\n",
    "save_models_bertopic(e_H, [f'H{v}' for v in e_variant])\n",
    "save_models_bertopic(e_A, [f'A{v}' for v in e_variant])\n",
    "# save_models_bertopic(e_S, [f'S{v}' for v in e_variant])"
   ]
  }
 ],
 "metadata": {
  "kernelspec": {
   "display_name": ".venv",
   "language": "python",
   "name": "python3"
  },
  "language_info": {
   "codemirror_mode": {
    "name": "ipython",
    "version": 3
   },
   "file_extension": ".py",
   "mimetype": "text/x-python",
   "name": "python",
   "nbconvert_exporter": "python",
   "pygments_lexer": "ipython3",
   "version": "3.8.10"
  },
  "orig_nbformat": 4
 },
 "nbformat": 4,
 "nbformat_minor": 2
}
