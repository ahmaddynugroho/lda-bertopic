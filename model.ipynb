{
 "cells": [
  {
   "cell_type": "markdown",
   "metadata": {},
   "source": [
    "# LDA"
   ]
  },
  {
   "cell_type": "code",
   "execution_count": 10,
   "metadata": {},
   "outputs": [],
   "source": [
    "import pandas as pd\n",
    "\n",
    "ds = pd.read_parquet('./results/ds.parquet')\n",
    "elapse_time = pd.read_csv('./results/elapse_time.csv')"
   ]
  },
  {
   "cell_type": "code",
   "execution_count": 11,
   "metadata": {},
   "outputs": [],
   "source": [
    "from time import time\n",
    "\n",
    "from gensim.corpora.dictionary import Dictionary\n",
    "from gensim.models.ldamulticore import LdaMulticore\n",
    "from gensim.models.coherencemodel import CoherenceModel\n",
    "from utils import get_diversity, get_topics_lda\n",
    "import optuna\n",
    "\n",
    "def lda(docs):\n",
    "    docs = docs.dropna()\n",
    "    dictionary = Dictionary(docs)\n",
    "    corpus = [dictionary.doc2bow(doc) for doc in docs]\n",
    "    def objective(trial, get_lda=False):\n",
    "        num_topics = trial.suggest_int('num_topics', 5, 100)\n",
    "        alpha = trial.suggest_categorical('alpha_categorical', ['symmetric', 'asymmetric', 'scalar'])\n",
    "        eta = trial.suggest_categorical('eta_categorical', ['symmetric', 'auto', 'scalar'])\n",
    "        if alpha == 'scalar':\n",
    "            alpha = trial.suggest_float('alpha', 0.01, 1)\n",
    "        if eta == 'scalar':\n",
    "            eta = trial.suggest_float('eta', 0.01, 1)\n",
    "        model = LdaMulticore(\n",
    "            corpus=corpus,\n",
    "            id2word=dictionary,\n",
    "            num_topics=num_topics,\n",
    "            alpha=alpha,\n",
    "            eta=eta,\n",
    "        )\n",
    "        if get_lda:\n",
    "            return model\n",
    "        c = CoherenceModel(model, texts=docs, dictionary=dictionary, coherence='c_v')\n",
    "        cs = c.get_coherence()\n",
    "        ts = get_diversity(get_topics_lda(model, dictionary))\n",
    "        return cs * ts\n",
    "\n",
    "    t_start = time()\n",
    "    study = optuna.create_study(direction='maximize')\n",
    "    study.optimize(objective, n_trials=2) # FIXME: change n to 20\n",
    "\n",
    "    best_trial = study.best_trial\n",
    "    best_lda = objective(best_trial, get_lda=True)\n",
    "    t_end = time()\n",
    "\n",
    "    return {\n",
    "        'model': best_lda,\n",
    "        'time': t_end - t_start,\n",
    "    }"
   ]
  },
  {
   "cell_type": "code",
   "execution_count": 12,
   "metadata": {},
   "outputs": [],
   "source": [
    "def save_models_lda():\n",
    "    r_time = []\n",
    "    for v in ds:\n",
    "        model = lda(ds[v])\n",
    "        model['model'].save(f'./results/models_lda/{v}')\n",
    "        r_time.append(model['time'])\n",
    "    elapse_time['lda_training'] = pd.Series(r_time)"
   ]
  },
  {
   "cell_type": "code",
   "execution_count": 13,
   "metadata": {},
   "outputs": [
    {
     "name": "stderr",
     "output_type": "stream",
     "text": [
      "[I 2023-08-21 17:05:54,509] A new study created in memory with name: no-name-25a1a112-59cb-4c54-ba31-c94a431a6c74\n"
     ]
    },
    {
     "name": "stderr",
     "output_type": "stream",
     "text": [
      "[I 2023-08-21 17:06:09,236] Trial 0 finished with value: 0.06607801894203869 and parameters: {'num_topics': 42, 'alpha_categorical': 'asymmetric', 'eta_categorical': 'auto'}. Best is trial 0 with value: 0.06607801894203869.\n",
      "[I 2023-08-21 17:06:22,558] Trial 1 finished with value: 0.0686203668838986 and parameters: {'num_topics': 39, 'alpha_categorical': 'asymmetric', 'eta_categorical': 'auto'}. Best is trial 1 with value: 0.0686203668838986.\n",
      "[I 2023-08-21 17:06:29,161] A new study created in memory with name: no-name-73a3e0f9-85f0-4503-b337-076568fec71f\n",
      "[I 2023-08-21 17:06:44,487] Trial 0 finished with value: 0.04065546315271756 and parameters: {'num_topics': 81, 'alpha_categorical': 'asymmetric', 'eta_categorical': 'scalar', 'eta': 0.17103317918635216}. Best is trial 0 with value: 0.04065546315271756.\n",
      "[I 2023-08-21 17:06:55,373] Trial 1 finished with value: 0.024160334646465786 and parameters: {'num_topics': 19, 'alpha_categorical': 'asymmetric', 'eta_categorical': 'scalar', 'eta': 0.3499106940494701}. Best is trial 0 with value: 0.04065546315271756.\n",
      "[I 2023-08-21 17:07:01,123] A new study created in memory with name: no-name-eeaa443b-5ab7-43dc-880b-19671f763c18\n",
      "[I 2023-08-21 17:07:13,926] Trial 0 finished with value: 0.06273385009700347 and parameters: {'num_topics': 30, 'alpha_categorical': 'scalar', 'eta_categorical': 'auto', 'alpha': 0.43522409253787153}. Best is trial 0 with value: 0.06273385009700347.\n",
      "[I 2023-08-21 17:07:25,396] Trial 1 finished with value: 0.03582637572592774 and parameters: {'num_topics': 18, 'alpha_categorical': 'scalar', 'eta_categorical': 'symmetric', 'alpha': 0.5643718077214371}. Best is trial 0 with value: 0.06273385009700347.\n",
      "[I 2023-08-21 17:07:31,641] A new study created in memory with name: no-name-9ad956c4-3817-40ae-86a6-a6e6fc880ee0\n",
      "[I 2023-08-21 17:07:45,115] Trial 0 finished with value: 0.15465451447632933 and parameters: {'num_topics': 61, 'alpha_categorical': 'asymmetric', 'eta_categorical': 'scalar', 'eta': 0.6087633102966532}. Best is trial 0 with value: 0.15465451447632933.\n",
      "[I 2023-08-21 17:08:00,650] Trial 1 finished with value: 0.1417249406955593 and parameters: {'num_topics': 84, 'alpha_categorical': 'scalar', 'eta_categorical': 'scalar', 'alpha': 0.08732241801744359, 'eta': 0.2129450320430922}. Best is trial 0 with value: 0.15465451447632933.\n"
     ]
    }
   ],
   "source": [
    "save_models_lda()"
   ]
  },
  {
   "cell_type": "code",
   "execution_count": 14,
   "metadata": {},
   "outputs": [
    {
     "data": {
      "text/html": [
       "<div>\n",
       "<style scoped>\n",
       "    .dataframe tbody tr th:only-of-type {\n",
       "        vertical-align: middle;\n",
       "    }\n",
       "\n",
       "    .dataframe tbody tr th {\n",
       "        vertical-align: top;\n",
       "    }\n",
       "\n",
       "    .dataframe thead th {\n",
       "        text-align: right;\n",
       "    }\n",
       "</style>\n",
       "<table border=\"1\" class=\"dataframe\">\n",
       "  <thead>\n",
       "    <tr style=\"text-align: right;\">\n",
       "      <th></th>\n",
       "      <th>variant</th>\n",
       "      <th>nlp</th>\n",
       "      <th>preprocessing</th>\n",
       "      <th>lda_training</th>\n",
       "    </tr>\n",
       "  </thead>\n",
       "  <tbody>\n",
       "    <tr>\n",
       "      <th>0</th>\n",
       "      <td>dCL</td>\n",
       "      <td>34.678537</td>\n",
       "      <td>0.311998</td>\n",
       "      <td>34.611548</td>\n",
       "    </tr>\n",
       "    <tr>\n",
       "      <th>1</th>\n",
       "      <td>dLWN</td>\n",
       "      <td>34.678537</td>\n",
       "      <td>0.311998</td>\n",
       "      <td>31.916765</td>\n",
       "    </tr>\n",
       "    <tr>\n",
       "      <th>2</th>\n",
       "      <td>DCL</td>\n",
       "      <td>34.678537</td>\n",
       "      <td>0.311998</td>\n",
       "      <td>30.490422</td>\n",
       "    </tr>\n",
       "    <tr>\n",
       "      <th>3</th>\n",
       "      <td>DLWN</td>\n",
       "      <td>34.678537</td>\n",
       "      <td>0.311998</td>\n",
       "      <td>34.266039</td>\n",
       "    </tr>\n",
       "  </tbody>\n",
       "</table>\n",
       "</div>"
      ],
      "text/plain": [
       "  variant        nlp  preprocessing  lda_training\n",
       "0     dCL  34.678537       0.311998     34.611548\n",
       "1    dLWN  34.678537       0.311998     31.916765\n",
       "2     DCL  34.678537       0.311998     30.490422\n",
       "3    DLWN  34.678537       0.311998     34.266039"
      ]
     },
     "execution_count": 14,
     "metadata": {},
     "output_type": "execute_result"
    }
   ],
   "source": [
    "elapse_time"
   ]
  },
  {
   "cell_type": "markdown",
   "metadata": {},
   "source": [
    "# BERTopic"
   ]
  },
  {
   "cell_type": "code",
   "execution_count": 15,
   "metadata": {},
   "outputs": [],
   "source": [
    "from time import time\n",
    "\n",
    "from bertopic import BERTopic\n",
    "import pandas as pd\n",
    "\n",
    "embedding_model = \"paraphrase-multilingual-MiniLM-L12-v2\"\n",
    "\n",
    "def save_models_bertopic():\n",
    "    path_prefix = './results/models_bertopic/'\n",
    "    r_time = []\n",
    "    for v in ds:\n",
    "        t_start = time()\n",
    "        docs = ds[v].dropna()\n",
    "        docs = [' '.join(doc) for doc in docs]\n",
    "        bertopic = BERTopic(language='multilingual', embedding_model=embedding_model)\n",
    "        model = bertopic.fit(docs)\n",
    "        t_end = time()\n",
    "        model.save(\n",
    "            f\"{path_prefix}{v}\",\n",
    "            serialization=\"safetensors\",\n",
    "            save_embedding_model=embedding_model,\n",
    "            save_ctfidf=True,\n",
    "        )\n",
    "        r_time.append(t_end - t_start)\n",
    "    elapse_time['bertopic_training'] = pd.Series(r_time)"
   ]
  },
  {
   "cell_type": "code",
   "execution_count": 16,
   "metadata": {},
   "outputs": [],
   "source": [
    "save_models_bertopic()"
   ]
  },
  {
   "cell_type": "code",
   "execution_count": 17,
   "metadata": {},
   "outputs": [
    {
     "data": {
      "text/html": [
       "<div>\n",
       "<style scoped>\n",
       "    .dataframe tbody tr th:only-of-type {\n",
       "        vertical-align: middle;\n",
       "    }\n",
       "\n",
       "    .dataframe tbody tr th {\n",
       "        vertical-align: top;\n",
       "    }\n",
       "\n",
       "    .dataframe thead th {\n",
       "        text-align: right;\n",
       "    }\n",
       "</style>\n",
       "<table border=\"1\" class=\"dataframe\">\n",
       "  <thead>\n",
       "    <tr style=\"text-align: right;\">\n",
       "      <th></th>\n",
       "      <th>variant</th>\n",
       "      <th>nlp</th>\n",
       "      <th>preprocessing</th>\n",
       "      <th>lda_training</th>\n",
       "      <th>bertopic_training</th>\n",
       "    </tr>\n",
       "  </thead>\n",
       "  <tbody>\n",
       "    <tr>\n",
       "      <th>0</th>\n",
       "      <td>dCL</td>\n",
       "      <td>34.678537</td>\n",
       "      <td>0.311998</td>\n",
       "      <td>34.611548</td>\n",
       "      <td>74.961021</td>\n",
       "    </tr>\n",
       "    <tr>\n",
       "      <th>1</th>\n",
       "      <td>dLWN</td>\n",
       "      <td>34.678537</td>\n",
       "      <td>0.311998</td>\n",
       "      <td>31.916765</td>\n",
       "      <td>15.938241</td>\n",
       "    </tr>\n",
       "    <tr>\n",
       "      <th>2</th>\n",
       "      <td>DCL</td>\n",
       "      <td>34.678537</td>\n",
       "      <td>0.311998</td>\n",
       "      <td>30.490422</td>\n",
       "      <td>37.874624</td>\n",
       "    </tr>\n",
       "    <tr>\n",
       "      <th>3</th>\n",
       "      <td>DLWN</td>\n",
       "      <td>34.678537</td>\n",
       "      <td>0.311998</td>\n",
       "      <td>34.266039</td>\n",
       "      <td>11.792914</td>\n",
       "    </tr>\n",
       "  </tbody>\n",
       "</table>\n",
       "</div>"
      ],
      "text/plain": [
       "  variant        nlp  preprocessing  lda_training  bertopic_training\n",
       "0     dCL  34.678537       0.311998     34.611548          74.961021\n",
       "1    dLWN  34.678537       0.311998     31.916765          15.938241\n",
       "2     DCL  34.678537       0.311998     30.490422          37.874624\n",
       "3    DLWN  34.678537       0.311998     34.266039          11.792914"
      ]
     },
     "execution_count": 17,
     "metadata": {},
     "output_type": "execute_result"
    }
   ],
   "source": [
    "elapse_time"
   ]
  },
  {
   "cell_type": "code",
   "execution_count": 18,
   "metadata": {},
   "outputs": [],
   "source": [
    "elapse_time.to_csv('./results/elapse_time.csv', index=False)"
   ]
  }
 ],
 "metadata": {
  "kernelspec": {
   "display_name": ".venv",
   "language": "python",
   "name": "python3"
  },
  "language_info": {
   "codemirror_mode": {
    "name": "ipython",
    "version": 3
   },
   "file_extension": ".py",
   "mimetype": "text/x-python",
   "name": "python",
   "nbconvert_exporter": "python",
   "pygments_lexer": "ipython3",
   "version": "3.8.10"
  },
  "orig_nbformat": 4
 },
 "nbformat": 4,
 "nbformat_minor": 2
}
