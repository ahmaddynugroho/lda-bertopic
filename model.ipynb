{
 "cells": [
  {
   "cell_type": "markdown",
   "metadata": {},
   "source": [
    "# LDA"
   ]
  },
  {
   "cell_type": "code",
   "execution_count": 79,
   "metadata": {},
   "outputs": [],
   "source": [
    "import pickle\n",
    "\n",
    "with open('./datasets/small/embeddings/e_H.pickle', 'rb') as f:\n",
    "    e_H = pickle.load(f)\n",
    "with open('./datasets/small/embeddings/e_A.pickle', 'rb') as f:\n",
    "    e_A = pickle.load(f)\n",
    "with open('./datasets/small/embeddings/e_S.pickle', 'rb') as f:\n",
    "    e_S = pickle.load(f)"
   ]
  },
  {
   "cell_type": "code",
   "execution_count": 80,
   "metadata": {},
   "outputs": [],
   "source": [
    "from time import time\n",
    "\n",
    "from gensim.models.ldamulticore import LdaMulticore\n",
    "from gensim.models.coherencemodel import CoherenceModel\n",
    "from utils import get_diversity, get_topics_lda\n",
    "import optuna\n",
    "\n",
    "def lda(embedding):\n",
    "    def objective(trial, get_lda=False):\n",
    "        num_topics = trial.suggest_int('num_topics', 5, 100)\n",
    "        alpha = trial.suggest_categorical('alpha_categorical', ['symmetric', 'asymmetric', 'scalar'])\n",
    "        eta = trial.suggest_categorical('eta_categorical', ['symmetric', 'auto', 'scalar'])\n",
    "        if alpha == 'scalar':\n",
    "            alpha = trial.suggest_float('alpha', 0.01, 1)\n",
    "        if eta == 'scalar':\n",
    "            eta = trial.suggest_float('eta', 0.01, 1)\n",
    "        model = LdaMulticore(\n",
    "            corpus=embedding['corpus'],\n",
    "            id2word=embedding['id2word'],\n",
    "            num_topics=num_topics,\n",
    "            alpha=alpha,\n",
    "            eta=eta,\n",
    "        )\n",
    "        if get_lda:\n",
    "            return model\n",
    "        c = CoherenceModel(model, texts=embedding['T'], dictionary=embedding['id2word'], coherence='c_v')\n",
    "        cs = c.get_coherence()\n",
    "        ts = get_diversity(get_topics_lda(model, embedding['id2word']))\n",
    "        return (cs + ts) / 2\n",
    "\n",
    "    t_start = time()\n",
    "    study = optuna.create_study(direction='maximize')\n",
    "    study.optimize(objective, n_trials=2) # FIXME: change n to 20\n",
    "\n",
    "    best_trial = study.best_trial\n",
    "    best_lda = objective(best_trial, get_lda=True)\n",
    "    t_end = time()\n",
    "    return {\n",
    "        'best_params': study.best_params,\n",
    "        'best_trial': best_trial,\n",
    "        'time': t_end - t_start,\n",
    "        'model': best_lda,\n",
    "    }"
   ]
  },
  {
   "cell_type": "code",
   "execution_count": 81,
   "metadata": {},
   "outputs": [],
   "source": [
    "def save_models_lda(embeddings, variant):\n",
    "    for name in variant:\n",
    "        model = lda(embeddings[name])\n",
    "        with open(f'./datasets/small/models_lda/{name}.pickle', 'wb') as f:\n",
    "            pickle.dump(model, f, protocol=pickle.HIGHEST_PROTOCOL)\n",
    "        del model"
   ]
  },
  {
   "cell_type": "code",
   "execution_count": 87,
   "metadata": {},
   "outputs": [],
   "source": [
    "# e_variant = ['T', 'C', 'CL', 'CLW', 'CW', 'L', 'LW', 'W']\n",
    "e_variant = ['T', 'CLW']"
   ]
  },
  {
   "cell_type": "code",
   "execution_count": 88,
   "metadata": {},
   "outputs": [
    {
     "name": "stderr",
     "output_type": "stream",
     "text": [
      "[I 2023-08-16 09:43:38,763] A new study created in memory with name: no-name-2cef41ec-1c5f-4ff4-8c3e-d4e1607b0d53\n",
      "[I 2023-08-16 09:43:45,278] Trial 0 finished with value: 0.4731796215393243 and parameters: {'num_topics': 11, 'alpha_categorical': 'symmetric', 'eta_categorical': 'scalar', 'eta': 0.619804818365397}. Best is trial 0 with value: 0.4731796215393243.\n",
      "[I 2023-08-16 09:43:52,678] Trial 1 finished with value: 0.47715832043167306 and parameters: {'num_topics': 53, 'alpha_categorical': 'asymmetric', 'eta_categorical': 'scalar', 'eta': 0.24960775961266188}. Best is trial 1 with value: 0.47715832043167306.\n",
      "[I 2023-08-16 09:43:56,529] A new study created in memory with name: no-name-a6a6f2ca-a3c6-49cb-98c2-3b125e303279\n",
      "[I 2023-08-16 09:44:03,026] Trial 0 finished with value: 0.3330321524232395 and parameters: {'num_topics': 43, 'alpha_categorical': 'scalar', 'eta_categorical': 'scalar', 'alpha': 0.4515682238657151, 'eta': 0.2908084788933121}. Best is trial 0 with value: 0.3330321524232395.\n",
      "[I 2023-08-16 09:44:10,209] Trial 1 finished with value: 0.3267234625232148 and parameters: {'num_topics': 58, 'alpha_categorical': 'scalar', 'eta_categorical': 'symmetric', 'alpha': 0.7077359037075592}. Best is trial 0 with value: 0.3330321524232395.\n"
     ]
    }
   ],
   "source": [
    "# This takes 1.5 hour\n",
    "save_models_lda(e_H, [f'H{t}' for t in e_variant])\n",
    "# e_names = [f'A{t}' for t in e_variant]\n",
    "# save_models_lda(e_A, e_names)\n",
    "# e_names = [f'S{t}' for t in e_variant]\n",
    "# save_models_lda(e_S, e_names)"
   ]
  },
  {
   "cell_type": "markdown",
   "metadata": {},
   "source": [
    "# BERTopic"
   ]
  },
  {
   "cell_type": "code",
   "execution_count": 84,
   "metadata": {},
   "outputs": [],
   "source": [
    "import pickle\n",
    "\n",
    "with open('./datasets/small/embeddings/e_H.pickle', 'rb') as f:\n",
    "    e_H = pickle.load(f)\n",
    "with open('./datasets/small/embeddings/e_A.pickle', 'rb') as f:\n",
    "    e_A = pickle.load(f)\n",
    "with open('./datasets/small/embeddings/e_S.pickle', 'rb') as f:\n",
    "    e_S = pickle.load(f)"
   ]
  },
  {
   "cell_type": "code",
   "execution_count": 91,
   "metadata": {},
   "outputs": [],
   "source": [
    "from time import time\n",
    "\n",
    "from bertopic import BERTopic\n",
    "from utils import get_topics_bertopic\n",
    "import pandas as pd\n",
    "\n",
    "embedding_model = \"paraphrase-multilingual-MiniLM-L12-v2\"\n",
    "bertopic = BERTopic(embedding_model=embedding_model)\n",
    "\n",
    "def save_models_bertopic(embeddings, variant):\n",
    "    path_prefix = 'datasets/small/models_bertopic/'\n",
    "    for v in variant:\n",
    "        t_start = time()\n",
    "        model = bertopic.fit(embeddings[v]['text'])\n",
    "        t_end = time()\n",
    "        model.save(\n",
    "            f\"{path_prefix}{v}\",\n",
    "            serialization=\"safetensors\",\n",
    "            save_embedding_model=embedding_model,\n",
    "            save_ctfidf=True,\n",
    "        )\n",
    "        pd.DataFrame([{ 'time': t_end - t_start }]).to_csv(f'{path_prefix}{v}/time.csv', index=False)\n",
    "        # print(get_topics_bertopic(model))\n",
    "        del model"
   ]
  },
  {
   "cell_type": "code",
   "execution_count": 93,
   "metadata": {},
   "outputs": [],
   "source": [
    "# e_variant = ['T', 'C', 'CL', 'CLW', 'CW', 'L', 'LW', 'W']\n",
    "e_variant = ['T', 'CLW']\n",
    "save_models_bertopic(e_H, [f'H{v}' for v in e_variant])\n",
    "# save_models_bertopic(e_A, [f'A{v}' for v in e_variant])\n",
    "# save_models_bertopic(e_S, [f'S{v}' for v in e_variant])"
   ]
  }
 ],
 "metadata": {
  "kernelspec": {
   "display_name": ".venv",
   "language": "python",
   "name": "python3"
  },
  "language_info": {
   "codemirror_mode": {
    "name": "ipython",
    "version": 3
   },
   "file_extension": ".py",
   "mimetype": "text/x-python",
   "name": "python",
   "nbconvert_exporter": "python",
   "pygments_lexer": "ipython3",
   "version": "3.8.10"
  },
  "orig_nbformat": 4
 },
 "nbformat": 4,
 "nbformat_minor": 2
}
