{
 "cells": [
  {
   "cell_type": "code",
   "execution_count": 36,
   "metadata": {},
   "outputs": [],
   "source": [
    "import pickle\n",
    "\n",
    "with open('./datasets/small/embeddings/e_H.pickle', 'rb') as f:\n",
    "    e_H = pickle.load(f)\n",
    "with open('./datasets/small/embeddings/e_A.pickle', 'rb') as f:\n",
    "    e_A = pickle.load(f)\n",
    "with open('./datasets/small/embeddings/e_S.pickle', 'rb') as f:\n",
    "    e_S = pickle.load(f)"
   ]
  },
  {
   "cell_type": "markdown",
   "metadata": {},
   "source": [
    "# LDA"
   ]
  },
  {
   "cell_type": "code",
   "execution_count": 8,
   "metadata": {},
   "outputs": [],
   "source": [
    "from time import time\n",
    "\n",
    "from gensim.models.ldamulticore import LdaMulticore\n",
    "from gensim.models.coherencemodel import CoherenceModel\n",
    "from utils import get_diversity, get_topics_lda\n",
    "import optuna\n",
    "\n",
    "def lda(embedding):\n",
    "    def objective(trial, get_lda=False):\n",
    "        num_topics = trial.suggest_int('num_topics', 5, 100)\n",
    "        alpha = trial.suggest_categorical('alpha_categorical', ['symmetric', 'asymmetric', 'scalar'])\n",
    "        eta = trial.suggest_categorical('eta_categorical', ['symmetric', 'auto', 'scalar'])\n",
    "        if alpha == 'scalar':\n",
    "            alpha = trial.suggest_float('alpha', 0.01, 1)\n",
    "        if eta == 'scalar':\n",
    "            eta = trial.suggest_float('eta', 0.01, 1)\n",
    "        model = LdaMulticore(\n",
    "            corpus=embedding['corpus'],\n",
    "            id2word=embedding['id2word'],\n",
    "            num_topics=num_topics,\n",
    "            alpha=alpha,\n",
    "            eta=eta,\n",
    "            random_state=99\n",
    "        )\n",
    "        if get_lda:\n",
    "            return model\n",
    "        c = CoherenceModel(model, texts=embedding['T'], dictionary=embedding['id2word'], coherence='c_v')\n",
    "        cs = c.get_coherence()\n",
    "        ts = get_diversity(get_topics_lda(model, embedding['id2word']))\n",
    "        return (cs + ts) / 2\n",
    "\n",
    "    t_start = time()\n",
    "    study = optuna.create_study(direction='maximize')\n",
    "    study.optimize(objective, n_trials=20)\n",
    "    t_end = time() # TODO: this should be after best_lda\n",
    "\n",
    "    best_trial = study.best_trial\n",
    "    best_lda = objective(best_trial, get_lda=True)\n",
    "    return {\n",
    "        'best_params': study.best_params,\n",
    "        'best_trial': best_trial,\n",
    "        'time': t_end - t_start,\n",
    "        'model': best_lda,\n",
    "    }"
   ]
  },
  {
   "cell_type": "code",
   "execution_count": 9,
   "metadata": {},
   "outputs": [],
   "source": [
    "def save_models_lda(embeddings, embedding_names):\n",
    "    for name in embedding_names:\n",
    "        model = lda(embeddings[name])\n",
    "        with open(f'./datasets/small/models_lda/{name}.pickle', 'wb') as f:\n",
    "            pickle.dump(model, f, protocol=pickle.HIGHEST_PROTOCOL)\n",
    "        del model"
   ]
  },
  {
   "cell_type": "code",
   "execution_count": 10,
   "metadata": {},
   "outputs": [],
   "source": [
    "e_variant = ['T', 'C', 'CL', 'CLW', 'CW', 'L', 'LW', 'W']"
   ]
  },
  {
   "cell_type": "code",
   "execution_count": 11,
   "metadata": {},
   "outputs": [],
   "source": [
    "# This takes 1.5 hour\n",
    "e_names = [f'H{t}' for t in e_variant]\n",
    "# save_models_lda(e_H, e_names)\n",
    "e_names = [f'A{t}' for t in e_variant]\n",
    "# save_models_lda(e_A, e_names)\n",
    "e_names = [f'S{t}' for t in e_variant]\n",
    "# save_models_lda(e_S, e_names)"
   ]
  },
  {
   "cell_type": "markdown",
   "metadata": {},
   "source": [
    "# BERTopic"
   ]
  },
  {
   "cell_type": "code",
   "execution_count": 33,
   "metadata": {},
   "outputs": [],
   "source": [
    "import pandas as pd\n",
    "\n",
    "H = pd.read_csv('./datasets/small/HCLW.csv')\n",
    "A = pd.read_csv('./datasets/small/ACLW.csv')\n",
    "S = pd.read_csv('./datasets/small/SCLW.csv')"
   ]
  },
  {
   "cell_type": "code",
   "execution_count": 59,
   "metadata": {},
   "outputs": [],
   "source": [
    "from bertopic import BERTopic\n",
    "\n",
    "embedding_model = \"paraphrase-multilingual-MiniLM-L12-v2\"\n",
    "bertopic = BERTopic(embedding_model=embedding_model)\n",
    "\n",
    "\n",
    "def save_models_bertopic(text_title, texts, variant_names):\n",
    "    for v in variant_names:\n",
    "        model = bertopic.fit(texts[v].dropna())\n",
    "        model.save(\n",
    "            f\"./datasets/small/models_bertopic/{text_title}{v}\",\n",
    "            serialization=\"safetensors\",\n",
    "            save_embedding_model=embedding_model,\n",
    "            save_ctfidf=True,\n",
    "        )\n",
    "        del model"
   ]
  },
  {
   "cell_type": "code",
   "execution_count": 58,
   "metadata": {},
   "outputs": [],
   "source": [
    "e_variant = ['CW', 'CLW']\n",
    "save_models_bertopic('H', H.sample(10), e_variant)\n",
    "save_models_bertopic('A', A.sample(10), e_variant)\n",
    "save_models_bertopic('S', S.sample(10), e_variant)"
   ]
  }
 ],
 "metadata": {
  "kernelspec": {
   "display_name": ".venv",
   "language": "python",
   "name": "python3"
  },
  "language_info": {
   "codemirror_mode": {
    "name": "ipython",
    "version": 3
   },
   "file_extension": ".py",
   "mimetype": "text/x-python",
   "name": "python",
   "nbconvert_exporter": "python",
   "pygments_lexer": "ipython3",
   "version": "3.8.10"
  },
  "orig_nbformat": 4
 },
 "nbformat": 4,
 "nbformat_minor": 2
}
