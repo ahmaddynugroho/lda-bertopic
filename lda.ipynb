{
 "cells": [
  {
   "cell_type": "code",
   "execution_count": 84,
   "metadata": {},
   "outputs": [],
   "source": [
    "import pandas as pd\n",
    "\n",
    "df = pd.read_csv('./datasets/df.csv')"
   ]
  },
  {
   "cell_type": "code",
   "execution_count": 85,
   "metadata": {},
   "outputs": [],
   "source": [
    "df = df.sample(100)"
   ]
  },
  {
   "cell_type": "code",
   "execution_count": 86,
   "metadata": {},
   "outputs": [],
   "source": [
    "from gensim.corpora.dictionary import Dictionary\n",
    "\n",
    "def tokenize(df):\n",
    "    return [s.split(' ') for s in df]\n",
    "\n",
    "def build_dataset(df, column_name):\n",
    "    result = {}\n",
    "    result['name'] = column_name\n",
    "    result['tokenized_texts'] = tokenize(df[column_name])\n",
    "    result['dictionary'] = Dictionary(result['tokenized_texts'])\n",
    "    result['corpus'] = [result['dictionary'].doc2bow(s) for s in result['tokenized_texts']]\n",
    "    return result\n",
    "\n",
    "def topics(lda, dictionary):\n",
    "    k = lda.num_topics\n",
    "    result = []\n",
    "    for i in range(k):\n",
    "        terms = lda.get_topic_terms(i)\n",
    "        ki = [dictionary[t[0]] for t in terms]\n",
    "        result.append(ki)\n",
    "    return { 'topics': result }"
   ]
  },
  {
   "cell_type": "code",
   "execution_count": 87,
   "metadata": {},
   "outputs": [],
   "source": [
    "dataset_short_raw = build_dataset(df, 'short_raw')\n",
    "dataset_long_raw = build_dataset(df, 'long_raw')\n",
    "dataset_short = build_dataset(df, 'short')\n",
    "dataset_long = build_dataset(df, 'long')"
   ]
  },
  {
   "cell_type": "code",
   "execution_count": 88,
   "metadata": {},
   "outputs": [],
   "source": [
    "from gensim.models.ldamulticore import LdaMulticore\n",
    "from octis.evaluation_metrics.coherence_metrics import Coherence\n",
    "import optuna\n",
    "\n",
    "def create_lda(d):\n",
    "    def lda(trial):\n",
    "        num_topics = trial.suggest_int('num_topics', 5, 100)\n",
    "        alpha = trial.suggest_float('alpha', 0.001, 1)\n",
    "        eta = trial.suggest_float('eta', 0.001, 1)\n",
    "        return LdaMulticore(d['corpus'], num_topics, d['dictionary'], alpha=alpha, eta=eta, random_state=99)\n",
    "    return lda\n",
    "\n",
    "def create_objective(d):\n",
    "    def objective(trial):\n",
    "        lda = create_lda(d)(trial)\n",
    "        tc = Coherence(texts=d['tokenized_texts'], measure='c_v')\n",
    "        tc_score = tc.score(topics(lda, d['dictionary']))\n",
    "        return tc_score\n",
    "    return objective\n"
   ]
  },
  {
   "cell_type": "code",
   "execution_count": 89,
   "metadata": {},
   "outputs": [],
   "source": [
    "def get_best_trial(dataset):\n",
    "    study = optuna.create_study(direction='maximize')\n",
    "    study.optimize(create_objective(dataset), n_trials=2)\n",
    "    return study.best_trial\n",
    "\n",
    "def get_best_lda(dataset):\n",
    "    best_trial = get_best_trial(dataset)\n",
    "    lda = create_lda(dataset)(best_trial)\n",
    "    return lda"
   ]
  },
  {
   "cell_type": "code",
   "execution_count": 90,
   "metadata": {},
   "outputs": [
    {
     "name": "stderr",
     "output_type": "stream",
     "text": [
      "[I 2023-08-07 09:06:48,482] A new study created in memory with name: no-name-5a0f3cc1-fa74-4254-882c-cfa1c1aa5f06\n",
      "[I 2023-08-07 09:06:48,962] Trial 0 finished with value: 0.3455066340633149 and parameters: {'num_topics': 27, 'alpha': 0.7121709176406774, 'eta': 0.06767307422724697}. Best is trial 0 with value: 0.3455066340633149.\n",
      "[I 2023-08-07 09:06:49,302] Trial 1 finished with value: 0.3472274441488347 and parameters: {'num_topics': 18, 'alpha': 0.6909705913141139, 'eta': 0.520860690538879}. Best is trial 1 with value: 0.3472274441488347.\n",
      "[I 2023-08-07 09:06:49,458] A new study created in memory with name: no-name-f79c3c14-aba2-4c4c-9dc1-30ecb472c1f8\n",
      "[I 2023-08-07 09:06:50,729] Trial 0 finished with value: 0.3220898129821048 and parameters: {'num_topics': 9, 'alpha': 0.12483532975643523, 'eta': 0.9835803091086519}. Best is trial 0 with value: 0.3220898129821048.\n",
      "[I 2023-08-07 09:06:52,563] Trial 1 finished with value: 0.3238114049669333 and parameters: {'num_topics': 33, 'alpha': 0.6598985636739776, 'eta': 0.5636039261383682}. Best is trial 1 with value: 0.3238114049669333.\n",
      "[I 2023-08-07 09:06:53,385] A new study created in memory with name: no-name-38697f05-d026-4a75-a801-f274c0836429\n",
      "[I 2023-08-07 09:06:53,698] Trial 0 finished with value: 0.5047903182916502 and parameters: {'num_topics': 20, 'alpha': 0.5255791842493038, 'eta': 0.34787954604888893}. Best is trial 0 with value: 0.5047903182916502.\n",
      "[I 2023-08-07 09:06:55,349] Trial 1 finished with value: 0.5894212406474377 and parameters: {'num_topics': 73, 'alpha': 0.20647211504566423, 'eta': 0.28178483603292515}. Best is trial 1 with value: 0.5894212406474377.\n",
      "[I 2023-08-07 09:06:55,528] A new study created in memory with name: no-name-8171b873-04fb-45cf-82b5-427aa2acb593\n",
      "[I 2023-08-07 09:06:58,041] Trial 0 finished with value: 0.40081453072055356 and parameters: {'num_topics': 61, 'alpha': 0.22867897251475164, 'eta': 0.17516949671371485}. Best is trial 0 with value: 0.40081453072055356.\n",
      "[I 2023-08-07 09:07:00,780] Trial 1 finished with value: 0.39345642291628846 and parameters: {'num_topics': 68, 'alpha': 0.23824530375362435, 'eta': 0.1106558531176921}. Best is trial 0 with value: 0.40081453072055356.\n"
     ]
    }
   ],
   "source": [
    "lda_short_raw = get_best_lda(dataset_short_raw)\n",
    "lda_long_raw = get_best_lda(dataset_long_raw)\n",
    "lda_short = get_best_lda(dataset_short)\n",
    "lda_long = get_best_lda(dataset_long)"
   ]
  },
  {
   "cell_type": "code",
   "execution_count": 91,
   "metadata": {},
   "outputs": [],
   "source": [
    "topics_short_raw = topics(lda_short_raw, dataset_short_raw['dictionary'])\n",
    "topics_long_raw = topics(lda_long_raw, dataset_long_raw['dictionary'])\n",
    "topics_short = topics(lda_short, dataset_short['dictionary'])\n",
    "topics_long = topics(lda_long, dataset_long['dictionary'])"
   ]
  },
  {
   "cell_type": "code",
   "execution_count": 96,
   "metadata": {},
   "outputs": [],
   "source": [
    "from octis.evaluation_metrics.coherence_metrics import Coherence\n",
    "from octis.evaluation_metrics.diversity_metrics import TopicDiversity\n",
    "import time\n",
    "\n",
    "def evaluate_lda(dataset):\n",
    "    start = time.time()\n",
    "    lda = get_best_lda(dataset)\n",
    "    top_words = topics(lda, dataset['dictionary'])\n",
    "    tc = Coherence(dataset['tokenized_texts'], measure='c_v')\n",
    "    td = TopicDiversity()\n",
    "    return {\n",
    "        'dataset': dataset['name'],\n",
    "        'elapse_time': time.time() - start,\n",
    "        'coherence_score': tc.score(top_words),\n",
    "        'diversity_score': td.score(top_words)\n",
    "    }"
   ]
  },
  {
   "cell_type": "code",
   "execution_count": 106,
   "metadata": {},
   "outputs": [
    {
     "name": "stderr",
     "output_type": "stream",
     "text": [
      "[I 2023-08-07 09:17:40,130] A new study created in memory with name: no-name-26e4af12-63dd-4796-af21-8df77727aca1\n",
      "[I 2023-08-07 09:17:40,903] Trial 0 finished with value: 0.34759894608259123 and parameters: {'num_topics': 71, 'alpha': 0.9437656212326068, 'eta': 0.1518932833319723}. Best is trial 0 with value: 0.34759894608259123.\n",
      "[I 2023-08-07 09:17:41,564] Trial 1 finished with value: 0.35025966964777183 and parameters: {'num_topics': 69, 'alpha': 0.9379596337737225, 'eta': 0.7546015458893324}. Best is trial 1 with value: 0.35025966964777183.\n",
      "[I 2023-08-07 09:17:42,167] A new study created in memory with name: no-name-bc2a7de7-dc60-4caf-b166-032fdf2b2368\n",
      "[I 2023-08-07 09:17:45,075] Trial 0 finished with value: 0.32662537361207317 and parameters: {'num_topics': 60, 'alpha': 0.08774514572388033, 'eta': 0.08763545443747113}. Best is trial 0 with value: 0.32662537361207317.\n",
      "[I 2023-08-07 09:17:47,507] Trial 1 finished with value: 0.3222324464722678 and parameters: {'num_topics': 34, 'alpha': 0.3166887534359328, 'eta': 0.16522833864115122}. Best is trial 0 with value: 0.32662537361207317.\n",
      "[I 2023-08-07 09:17:50,564] A new study created in memory with name: no-name-5c2a1e37-b136-41bb-abf8-dd7d9e8aae4a\n",
      "[I 2023-08-07 09:17:51,123] Trial 0 finished with value: 0.41758205180326563 and parameters: {'num_topics': 12, 'alpha': 0.2878518004329707, 'eta': 0.08509129723444937}. Best is trial 0 with value: 0.41758205180326563.\n",
      "[I 2023-08-07 09:17:51,660] Trial 1 finished with value: 0.5037364869086551 and parameters: {'num_topics': 44, 'alpha': 0.4269301824302542, 'eta': 0.8846738951126077}. Best is trial 1 with value: 0.5037364869086551.\n",
      "[I 2023-08-07 09:17:52,200] A new study created in memory with name: no-name-6c33749d-0d63-45c2-ae0d-a01b762969f1\n",
      "[I 2023-08-07 09:17:54,035] Trial 0 finished with value: 0.36408494949347664 and parameters: {'num_topics': 68, 'alpha': 0.8187251705560409, 'eta': 0.838544514346448}. Best is trial 0 with value: 0.36408494949347664.\n",
      "[I 2023-08-07 09:17:56,831] Trial 1 finished with value: 0.3844516179713066 and parameters: {'num_topics': 67, 'alpha': 0.10150380515010932, 'eta': 0.6754325571098461}. Best is trial 1 with value: 0.3844516179713066.\n"
     ]
    }
   ],
   "source": [
    "lda_evaluation = [\n",
    "    evaluate_lda(dataset_short_raw),\n",
    "    evaluate_lda(dataset_long_raw),\n",
    "    evaluate_lda(dataset_short),\n",
    "    evaluate_lda(dataset_long),\n",
    "]"
   ]
  },
  {
   "cell_type": "code",
   "execution_count": 107,
   "metadata": {},
   "outputs": [],
   "source": [
    "lda_evaluation_df = pd.DataFrame(lda_evaluation)\n",
    "lda_evaluation_df.to_csv('./results/lda_evaluation.csv', index=False)"
   ]
  },
  {
   "cell_type": "code",
   "execution_count": 108,
   "metadata": {},
   "outputs": [
    {
     "data": {
      "text/html": [
       "<div>\n",
       "<style scoped>\n",
       "    .dataframe tbody tr th:only-of-type {\n",
       "        vertical-align: middle;\n",
       "    }\n",
       "\n",
       "    .dataframe tbody tr th {\n",
       "        vertical-align: top;\n",
       "    }\n",
       "\n",
       "    .dataframe thead th {\n",
       "        text-align: right;\n",
       "    }\n",
       "</style>\n",
       "<table border=\"1\" class=\"dataframe\">\n",
       "  <thead>\n",
       "    <tr style=\"text-align: right;\">\n",
       "      <th></th>\n",
       "      <th>dataset</th>\n",
       "      <th>elapse_time</th>\n",
       "      <th>coherence_score</th>\n",
       "      <th>diversity_score</th>\n",
       "    </tr>\n",
       "  </thead>\n",
       "  <tbody>\n",
       "    <tr>\n",
       "      <th>0</th>\n",
       "      <td>short_raw</td>\n",
       "      <td>1.559350</td>\n",
       "      <td>0.350260</td>\n",
       "      <td>0.020290</td>\n",
       "    </tr>\n",
       "    <tr>\n",
       "      <th>1</th>\n",
       "      <td>long_raw</td>\n",
       "      <td>6.929330</td>\n",
       "      <td>0.326625</td>\n",
       "      <td>0.105000</td>\n",
       "    </tr>\n",
       "    <tr>\n",
       "      <th>2</th>\n",
       "      <td>short</td>\n",
       "      <td>1.234416</td>\n",
       "      <td>0.503736</td>\n",
       "      <td>0.038636</td>\n",
       "    </tr>\n",
       "    <tr>\n",
       "      <th>3</th>\n",
       "      <td>long</td>\n",
       "      <td>6.049585</td>\n",
       "      <td>0.384452</td>\n",
       "      <td>0.364179</td>\n",
       "    </tr>\n",
       "  </tbody>\n",
       "</table>\n",
       "</div>"
      ],
      "text/plain": [
       "     dataset  elapse_time  coherence_score  diversity_score\n",
       "0  short_raw     1.559350         0.350260         0.020290\n",
       "1   long_raw     6.929330         0.326625         0.105000\n",
       "2      short     1.234416         0.503736         0.038636\n",
       "3       long     6.049585         0.384452         0.364179"
      ]
     },
     "execution_count": 108,
     "metadata": {},
     "output_type": "execute_result"
    }
   ],
   "source": [
    "lda_evaluation_df"
   ]
  }
 ],
 "metadata": {
  "kernelspec": {
   "display_name": ".venv",
   "language": "python",
   "name": "python3"
  },
  "language_info": {
   "codemirror_mode": {
    "name": "ipython",
    "version": 3
   },
   "file_extension": ".py",
   "mimetype": "text/x-python",
   "name": "python",
   "nbconvert_exporter": "python",
   "pygments_lexer": "ipython3",
   "version": "3.10.6"
  },
  "orig_nbformat": 4
 },
 "nbformat": 4,
 "nbformat_minor": 2
}
