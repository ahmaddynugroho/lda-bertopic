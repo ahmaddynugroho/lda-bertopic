{
 "cells": [
  {
   "cell_type": "code",
   "execution_count": 9,
   "metadata": {},
   "outputs": [],
   "source": [
    "import pandas as pd\n",
    "import time\n",
    "\n",
    "start = time.time()\n",
    "df = pd.read_csv('./datasets/raw/tdec.csv')"
   ]
  },
  {
   "cell_type": "code",
   "execution_count": 10,
   "metadata": {},
   "outputs": [],
   "source": [
    "df = df.sample(30)"
   ]
  },
  {
   "cell_type": "code",
   "execution_count": 11,
   "metadata": {},
   "outputs": [],
   "source": [
    "df.columns = ['short_raw', 'long_raw']\n",
    "df['long_raw'] = df['short_raw'] + '. ' + df['long_raw']"
   ]
  },
  {
   "cell_type": "code",
   "execution_count": 12,
   "metadata": {},
   "outputs": [],
   "source": [
    "from Sastrawi.Stemmer.StemmerFactory import StemmerFactory\n",
    "\n",
    "df_sw = pd.read_csv('./datasets/stopwords-id.csv')\n",
    "stem = StemmerFactory().create_stemmer().stem\n",
    "\n",
    "sw = list(df_sw['stopword'])\n",
    "def preprocess(s):\n",
    "    stemmed = stem(s)\n",
    "    swed = ' '.join([w for w in stemmed.split(' ') if not w in sw])\n",
    "    return swed"
   ]
  },
  {
   "cell_type": "code",
   "execution_count": 13,
   "metadata": {},
   "outputs": [],
   "source": [
    "df['short'] = df['short_raw'].apply(preprocess)\n",
    "df['long'] = df['long_raw'].apply(preprocess)"
   ]
  },
  {
   "cell_type": "code",
   "execution_count": 14,
   "metadata": {},
   "outputs": [],
   "source": [
    "from utils import tokenize\n",
    "\n",
    "df['short'] = tokenize(df['short'])\n",
    "df['long'] = tokenize(df['long'])"
   ]
  },
  {
   "cell_type": "code",
   "execution_count": 15,
   "metadata": {},
   "outputs": [],
   "source": [
    "from gensim.models.phrases import Phrases\n",
    "\n",
    "ngram_short = Phrases(df['short'], min_count=10).freeze()\n",
    "df['short'] = [' '.join(s) for s in ngram_short[df['short']]]\n",
    "ngram_long = Phrases(df['long'], min_count=10).freeze()\n",
    "df['long'] = [' '.join(s) for s in ngram_long[df['long']]]"
   ]
  },
  {
   "cell_type": "code",
   "execution_count": 16,
   "metadata": {},
   "outputs": [
    {
     "name": "stdout",
     "output_type": "stream",
     "text": [
      "Elapse time: 1.2158560752868652\n"
     ]
    }
   ],
   "source": [
    "# df.to_csv('./datasets/df.csv', index=False)\n",
    "print(f'Elapse time: {time.time() - start}')"
   ]
  }
 ],
 "metadata": {
  "kernelspec": {
   "display_name": ".venv",
   "language": "python",
   "name": "python3"
  },
  "language_info": {
   "codemirror_mode": {
    "name": "ipython",
    "version": 3
   },
   "file_extension": ".py",
   "mimetype": "text/x-python",
   "name": "python",
   "nbconvert_exporter": "python",
   "pygments_lexer": "ipython3",
   "version": "3.10.6"
  },
  "orig_nbformat": 4
 },
 "nbformat": 4,
 "nbformat_minor": 2
}
