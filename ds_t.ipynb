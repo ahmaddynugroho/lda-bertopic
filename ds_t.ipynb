{
 "cells": [
  {
   "cell_type": "markdown",
   "metadata": {},
   "source": [
    "# Filter inconcistent writing"
   ]
  },
  {
   "cell_type": "code",
   "execution_count": null,
   "metadata": {},
   "outputs": [],
   "source": [
    "import pandas as pd\n",
    "\n",
    "df = pd.read_csv('./datasets/raw/tdec_raw.csv')"
   ]
  },
  {
   "cell_type": "code",
   "execution_count": null,
   "metadata": {},
   "outputs": [],
   "source": [
    "cek_t = df['body'].str.contains('^TEMPO')\n",
    "cek_d = df['body'].str.contains(' - ')\n",
    "df = df[cek_t & cek_d]\n",
    "df['body'] = df['body'].apply(lambda s: s.split(' - ')[1])"
   ]
  },
  {
   "cell_type": "code",
   "execution_count": null,
   "metadata": {},
   "outputs": [],
   "source": [
    "df.to_csv('./datasets/raw/tdec.csv', index=False)"
   ]
  },
  {
   "cell_type": "markdown",
   "metadata": {},
   "source": [
    "# Split dataset for LDA and BERTopic"
   ]
  },
  {
   "cell_type": "code",
   "execution_count": null,
   "metadata": {},
   "outputs": [],
   "source": [
    "import pandas as pd\n",
    "\n",
    "df = pd.read_csv('./datasets/raw/tdec.csv')"
   ]
  },
  {
   "cell_type": "code",
   "execution_count": null,
   "metadata": {},
   "outputs": [],
   "source": [
    "import random\n",
    "\n",
    "def generate_types(df):\n",
    "    l = len(df)\n",
    "    ltv = int(l * 0.15)\n",
    "    lt = l - 2 * ltv\n",
    "    types = ['train'] * lt + ['test'] * ltv + ['val'] * ltv\n",
    "    random.shuffle(types)\n",
    "    return types\n",
    "\n",
    "df['type'] = generate_types(df)"
   ]
  },
  {
   "cell_type": "code",
   "execution_count": null,
   "metadata": {},
   "outputs": [],
   "source": [
    "df_short_lda = df.drop('body', axis=1)\n",
    "df_short_bert = df.drop('body', axis=1)\n",
    "\n",
    "df_long_lda = df.drop('headline', axis=1)\n",
    "df_long_bert = df.drop('headline', axis=1)\n",
    "df_long_lda.columns = ['article', 'type']\n",
    "df_long_bert.columns = ['article', 'type']\n",
    "df_long_lda['article'] = df['headline'] + '. ' + df['body']\n",
    "df_long_bert['article'] = df['headline'] + '. ' + df['body']"
   ]
  },
  {
   "cell_type": "code",
   "execution_count": null,
   "metadata": {},
   "outputs": [],
   "source": [
    "# df_short_bert.to_csv('./datasets/bert_short/corpus.tsv', sep='\\t', index=False, header=None)\n",
    "# df_long_bert.to_csv('./datasets/bert_long/corpus.tsv', sep='\\t', index=False, header=None)"
   ]
  },
  {
   "cell_type": "code",
   "execution_count": null,
   "metadata": {},
   "outputs": [],
   "source": [
    "from Sastrawi.Stemmer.StemmerFactory import StemmerFactory\n",
    "import string\n",
    "\n",
    "df_sw = pd.read_csv('./datasets/stopwords-id.csv')\n",
    "stem = StemmerFactory().create_stemmer().stem\n",
    "\n",
    "translation = str.maketrans('', '', string.punctuation)\n",
    "sw = list(df_sw['stopword'])\n",
    "def preprocess(s):\n",
    "    clean = s.translate(translation)\n",
    "    stemmed = stem(clean)\n",
    "    swed = ' '.join([w for w in stemmed.split(' ') if not w in sw])\n",
    "    return swed"
   ]
  },
  {
   "cell_type": "code",
   "execution_count": null,
   "metadata": {},
   "outputs": [],
   "source": [
    "df_short_lda['headline'] = df_short_lda['headline'].apply(preprocess)\n",
    "df_long_lda['article'] = df_long_lda['article'].apply(preprocess)"
   ]
  },
  {
   "cell_type": "code",
   "execution_count": null,
   "metadata": {},
   "outputs": [],
   "source": [
    "# df_short_lda.to_csv('./datasets/lda_short/corpus.tsv', sep='\\t', index=False, header=None)\n",
    "# df_long_lda.to_csv('./datasets/lda_long/corpus.tsv', sep='\\t', index=False, header=None)"
   ]
  },
  {
   "cell_type": "code",
   "execution_count": 2,
   "metadata": {},
   "outputs": [],
   "source": [
    "import pandas as pd\n",
    "\n",
    "df_short_lda = pd.read_csv('./datasets/lda_short/corpus.tsv', sep='\\t', names=['headline', 'type'])\n",
    "df_long_lda = pd.read_csv('./datasets/lda_long/corpus.tsv', sep='\\t', names=['article', 'type'])"
   ]
  },
  {
   "cell_type": "code",
   "execution_count": 3,
   "metadata": {},
   "outputs": [],
   "source": [
    "from gensim.corpora.dictionary import Dictionary\n",
    "\n",
    "df_short_lda_vocab = Dictionary(df_short_lda['headline'].apply(lambda s: s.split(' ')))\n",
    "df_long_lda_vocab = Dictionary(df_long_lda['article'].apply(lambda s: s.split(' ')))"
   ]
  },
  {
   "cell_type": "code",
   "execution_count": 4,
   "metadata": {},
   "outputs": [],
   "source": [
    "df_short_lda_vocab = pd.DataFrame(df_short_lda_vocab.token2id.keys())\n",
    "df_long_lda_vocab = pd.DataFrame(df_long_lda_vocab.token2id.keys())"
   ]
  },
  {
   "cell_type": "code",
   "execution_count": 7,
   "metadata": {},
   "outputs": [],
   "source": [
    "df_short_lda_vocab.to_csv('./datasets/lda_short/vocabulary.txt', index=False, header=None)\n",
    "df_long_lda_vocab.to_csv('./datasets/lda_long/vocabulary.txt', index=False, header=None)"
   ]
  }
 ],
 "metadata": {
  "kernelspec": {
   "display_name": ".venv",
   "language": "python",
   "name": "python3"
  },
  "language_info": {
   "codemirror_mode": {
    "name": "ipython",
    "version": 3
   },
   "file_extension": ".py",
   "mimetype": "text/x-python",
   "name": "python",
   "nbconvert_exporter": "python",
   "pygments_lexer": "ipython3",
   "version": "3.10.6"
  },
  "orig_nbformat": 4
 },
 "nbformat": 4,
 "nbformat_minor": 2
}
