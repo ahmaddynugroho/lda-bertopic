{
 "cells": [
  {
   "cell_type": "code",
   "execution_count": 3,
   "metadata": {},
   "outputs": [],
   "source": [
    "PATH_DS = ['./results/ds/lda', './results/ds/bertopic']\n",
    "SAMPLE_SIZE = None # or None"
   ]
  },
  {
   "cell_type": "code",
   "execution_count": 4,
   "metadata": {},
   "outputs": [],
   "source": [
    "import pandas as pd\n",
    "\n",
    "df = pd.read_csv('./datasets/articles.csv')"
   ]
  },
  {
   "cell_type": "code",
   "execution_count": 5,
   "metadata": {},
   "outputs": [],
   "source": [
    "if SAMPLE_SIZE:\n",
    "    dfs = df.sample(SAMPLE_SIZE, random_state=999).reset_index(drop=True)\n",
    "else:\n",
    "    dfs = df"
   ]
  },
  {
   "cell_type": "code",
   "execution_count": 6,
   "metadata": {},
   "outputs": [
    {
     "name": "stderr",
     "output_type": "stream",
     "text": [
      "2023-09-16 10:51:17 WARNING: Language id package default expects mwt, which has been added\n",
      "2023-09-16 10:51:18 INFO: Loading these models for language: id (Indonesian):\n",
      "=======================\n",
      "| Processor | Package |\n",
      "-----------------------\n",
      "| tokenize  | gsd     |\n",
      "| mwt       | gsd     |\n",
      "| pos       | gsd     |\n",
      "| lemma     | gsd     |\n",
      "=======================\n",
      "\n",
      "2023-09-16 10:51:18 INFO: Using device: cpu\n",
      "2023-09-16 10:51:18 INFO: Loading: tokenize\n",
      "2023-09-16 10:51:18 INFO: Loading: mwt\n",
      "2023-09-16 10:51:18 INFO: Loading: pos\n",
      "2023-09-16 10:51:18 INFO: Loading: lemma\n",
      "2023-09-16 10:51:18 INFO: Done loading processors!\n"
     ]
    }
   ],
   "source": [
    "import stanza\n",
    "\n",
    "nlp = stanza.Pipeline(\n",
    "    lang='id',\n",
    "    processors='tokenize,pos,lemma',\n",
    "    use_gpu=False,\n",
    "    download_method=stanza.DownloadMethod.REUSE_RESOURCES\n",
    ")"
   ]
  },
  {
   "cell_type": "code",
   "execution_count": 7,
   "metadata": {},
   "outputs": [],
   "source": [
    "from typing import Iterable\n",
    "\n",
    "Variant = str\n",
    "Variants = list[Variant]\n",
    "Document = any\n",
    "Sentence = any\n",
    "SentenceToken = list[str]\n",
    "LDAToken = list[SentenceToken]\n",
    "BERTopicToken = list[str]\n",
    "DocumentToken = LDAToken | BERTopicToken"
   ]
  },
  {
   "cell_type": "code",
   "execution_count": 8,
   "metadata": {},
   "outputs": [],
   "source": [
    "from Sastrawi.Stemmer.StemmerFactory import StemmerFactory\n",
    "from Sastrawi.StopWordRemover.StopWordRemoverFactory import \\\n",
    "    StopWordRemoverFactory\n",
    "\n",
    "stem = StemmerFactory().create_stemmer().stem\n",
    "remove = StopWordRemoverFactory().create_stop_word_remover().remove\n",
    "indicators = 'TBLSNWPG'\n",
    "aupos = ['NOUN', 'PROPN']\n",
    "\n",
    "def preprocess_sent(sent: Sentence, v: Variant) -> SentenceToken:\n",
    "    vi = {\n",
    "        i: i in v\n",
    "        for i in indicators\n",
    "    }\n",
    "    if vi['B']: return [sent.text]\n",
    "    tokens: SentenceToken = []\n",
    "    for w in sent.words:\n",
    "        if vi['T']:\n",
    "            tokens.append(w.text)\n",
    "            continue\n",
    "        wt = w.text.lower()\n",
    "        if vi['N'] and w.upos not in aupos:\n",
    "            continue\n",
    "        if vi['S'] and (sw := stem(wt)):\n",
    "            wt = sw\n",
    "        if vi['L'] and w.lemma:\n",
    "            wt = w.lemma\n",
    "        if vi['W']:\n",
    "            if not remove(wt):\n",
    "                continue\n",
    "            if w.upos == 'PUNCT':\n",
    "                continue\n",
    "        tokens.append(wt)\n",
    "    return tokens\n",
    "\n",
    "# doc = nlp(dfs['article'][0])\n",
    "# v = 'LN'\n",
    "# preprocess_sent(doc.sentences[0], v)"
   ]
  },
  {
   "cell_type": "code",
   "execution_count": 9,
   "metadata": {},
   "outputs": [],
   "source": [
    "from itertools import chain\n",
    "\n",
    "def preprocess_doc(doc: Document, v: Variant, join=False, flat=False) -> DocumentToken:\n",
    "    tokens: DocumentToken = []\n",
    "    for s in doc.sentences:\n",
    "        _tokens = preprocess_sent(s, v)\n",
    "        if len(_tokens) == 0: continue\n",
    "        tokens.append(_tokens)\n",
    "    if join and flat:\n",
    "        return ' '.join([' '.join(t) for t in tokens])\n",
    "    if join:\n",
    "        return [' '.join(t) for t in tokens]\n",
    "    if flat:\n",
    "        tokens = list(chain(*tokens))\n",
    "    return tokens\n",
    "\n",
    "# doc = nlp(dfs['article'][0])\n",
    "# v = 'T'\n",
    "# preprocess_doc(doc, v)\n",
    "# preprocess_doc(doc, v, join=True)\n",
    "# preprocess_doc(doc, v, flat=True)\n",
    "# preprocess_doc(doc, v, join=True, flat=True)"
   ]
  },
  {
   "cell_type": "code",
   "execution_count": 10,
   "metadata": {},
   "outputs": [],
   "source": [
    "import os\n",
    "import shutil\n",
    "import jsonlines as jl\n",
    "\n",
    "def preprocess_text(text: str, vs: Variants) -> None:\n",
    "    doc = nlp(text)\n",
    "    vms = [(v, m) for v in vs for m in PATH_DS]\n",
    "    vms = [(f'{t}{v}', m) for v, m in vms for t in ['s', 'D']]\n",
    "    for v, m in vms:\n",
    "        if 'B' in v and 'lda' in m: continue\n",
    "        if 'B' not in v and 'bertopic' in m: continue\n",
    "        if 'T' in v and 'bertopic' in m: continue\n",
    "        join = 'bertopic' in m\n",
    "        flat = 'D' in v\n",
    "        tokens = preprocess_doc(doc, v, join=join, flat=flat)\n",
    "        with jl.open(f'{m}/{v}.jsonl', mode='a') as w:\n",
    "            # print(v)\n",
    "            if not flat:\n",
    "                for t in tokens:\n",
    "                    w.write(t)\n",
    "            else:\n",
    "                w.write(tokens)\n",
    "\n",
    "# variants = ['B', 'T', 'LN', 'SW']\n",
    "# variants = ['LN', 'SW']\n",
    "# preprocess_text(dfs['article'][0], variants)"
   ]
  },
  {
   "cell_type": "code",
   "execution_count": 11,
   "metadata": {},
   "outputs": [],
   "source": [
    "from typing import Iterable\n",
    "from tqdm.auto import tqdm\n",
    "\n",
    "def preprocess(texts: Iterable, vs: Variants) -> None:\n",
    "    shutil.rmtree(PATH_DS[0])\n",
    "    shutil.rmtree(PATH_DS[1])\n",
    "    os.makedirs(PATH_DS[0], exist_ok=True)\n",
    "    os.makedirs(PATH_DS[1], exist_ok=True)\n",
    "    for t in tqdm(texts):\n",
    "        preprocess_text(t, vs)\n",
    "\n",
    "# preprocess(dfs['article'], ['B', 'T', 'LN', 'SW'])"
   ]
  },
  {
   "cell_type": "code",
   "execution_count": 12,
   "metadata": {},
   "outputs": [],
   "source": [
    "import os\n",
    "\n",
    "from gensim.models.phrases import Phrases\n",
    "\n",
    "\n",
    "def preprocess_phrases():\n",
    "    vfs = os.listdir(PATH_DS[0])\n",
    "    for f in tqdm(vfs):\n",
    "        if 'P' not in f:\n",
    "            continue\n",
    "        vpath = f'{PATH_DS[0]}/{f}'\n",
    "        with jl.open(vpath) as r:\n",
    "            docs = list(r)\n",
    "        bigram = Phrases(docs).freeze()\n",
    "        trigram = Phrases(bigram[docs]).freeze()\n",
    "        docs = trigram[bigram[docs]]\n",
    "        os.remove(vpath)\n",
    "        with jl.open(vpath, mode='a') as w:\n",
    "            for doc in docs:\n",
    "                w.write(doc)"
   ]
  },
  {
   "cell_type": "code",
   "execution_count": 13,
   "metadata": {},
   "outputs": [
    {
     "data": {
      "application/vnd.jupyter.widget-view+json": {
       "model_id": "3f5b504059784c21a7ddd718554a076b",
       "version_major": 2,
       "version_minor": 0
      },
      "text/plain": [
       "  0%|          | 0/7836 [00:00<?, ?it/s]"
      ]
     },
     "metadata": {},
     "output_type": "display_data"
    },
    {
     "ename": "KeyboardInterrupt",
     "evalue": "",
     "output_type": "error",
     "traceback": [
      "\u001b[1;31m---------------------------------------------------------------------------\u001b[0m",
      "\u001b[1;31mKeyboardInterrupt\u001b[0m                         Traceback (most recent call last)",
      "Cell \u001b[1;32mIn[13], line 1\u001b[0m\n\u001b[1;32m----> 1\u001b[0m preprocess(dfs[\u001b[39m'\u001b[39;49m\u001b[39marticle\u001b[39;49m\u001b[39m'\u001b[39;49m], [\u001b[39m'\u001b[39;49m\u001b[39mL\u001b[39;49m\u001b[39m'\u001b[39;49m])\n",
      "Cell \u001b[1;32mIn[11], line 10\u001b[0m, in \u001b[0;36mpreprocess\u001b[1;34m(texts, vs)\u001b[0m\n\u001b[0;32m      8\u001b[0m os\u001b[39m.\u001b[39mmakedirs(PATH_DS[\u001b[39m1\u001b[39m], exist_ok\u001b[39m=\u001b[39m\u001b[39mTrue\u001b[39;00m)\n\u001b[0;32m      9\u001b[0m \u001b[39mfor\u001b[39;00m t \u001b[39min\u001b[39;00m tqdm(texts):\n\u001b[1;32m---> 10\u001b[0m     preprocess_text(t, vs)\n",
      "Cell \u001b[1;32mIn[10], line 6\u001b[0m, in \u001b[0;36mpreprocess_text\u001b[1;34m(text, vs)\u001b[0m\n\u001b[0;32m      5\u001b[0m \u001b[39mdef\u001b[39;00m \u001b[39mpreprocess_text\u001b[39m(text: \u001b[39mstr\u001b[39m, vs: Variants) \u001b[39m-\u001b[39m\u001b[39m>\u001b[39m \u001b[39mNone\u001b[39;00m:\n\u001b[1;32m----> 6\u001b[0m     doc \u001b[39m=\u001b[39m nlp(text)\n\u001b[0;32m      7\u001b[0m     vms \u001b[39m=\u001b[39m [(v, m) \u001b[39mfor\u001b[39;00m v \u001b[39min\u001b[39;00m vs \u001b[39mfor\u001b[39;00m m \u001b[39min\u001b[39;00m PATH_DS]\n\u001b[0;32m      8\u001b[0m     vms \u001b[39m=\u001b[39m [(\u001b[39mf\u001b[39m\u001b[39m'\u001b[39m\u001b[39m{\u001b[39;00mt\u001b[39m}\u001b[39;00m\u001b[39m{\u001b[39;00mv\u001b[39m}\u001b[39;00m\u001b[39m'\u001b[39m, m) \u001b[39mfor\u001b[39;00m v, m \u001b[39min\u001b[39;00m vms \u001b[39mfor\u001b[39;00m t \u001b[39min\u001b[39;00m [\u001b[39m'\u001b[39m\u001b[39ms\u001b[39m\u001b[39m'\u001b[39m, \u001b[39m'\u001b[39m\u001b[39mD\u001b[39m\u001b[39m'\u001b[39m]]\n",
      "File \u001b[1;32mc:\\Users\\Yara\\mambaforge\\envs\\lba\\lib\\site-packages\\stanza\\pipeline\\core.py:468\u001b[0m, in \u001b[0;36mPipeline.__call__\u001b[1;34m(self, doc, processors)\u001b[0m\n\u001b[0;32m    467\u001b[0m \u001b[39mdef\u001b[39;00m \u001b[39m__call__\u001b[39m(\u001b[39mself\u001b[39m, doc, processors\u001b[39m=\u001b[39m\u001b[39mNone\u001b[39;00m):\n\u001b[1;32m--> 468\u001b[0m     \u001b[39mreturn\u001b[39;00m \u001b[39mself\u001b[39;49m\u001b[39m.\u001b[39;49mprocess(doc, processors)\n",
      "File \u001b[1;32mc:\\Users\\Yara\\mambaforge\\envs\\lba\\lib\\site-packages\\stanza\\pipeline\\core.py:419\u001b[0m, in \u001b[0;36mPipeline.process\u001b[1;34m(self, doc, processors)\u001b[0m\n\u001b[0;32m    417\u001b[0m     \u001b[39mif\u001b[39;00m \u001b[39mself\u001b[39m\u001b[39m.\u001b[39mprocessors\u001b[39m.\u001b[39mget(processor_name):\n\u001b[0;32m    418\u001b[0m         process \u001b[39m=\u001b[39m \u001b[39mself\u001b[39m\u001b[39m.\u001b[39mprocessors[processor_name]\u001b[39m.\u001b[39mbulk_process \u001b[39mif\u001b[39;00m bulk \u001b[39melse\u001b[39;00m \u001b[39mself\u001b[39m\u001b[39m.\u001b[39mprocessors[processor_name]\u001b[39m.\u001b[39mprocess\n\u001b[1;32m--> 419\u001b[0m         doc \u001b[39m=\u001b[39m process(doc)\n\u001b[0;32m    420\u001b[0m \u001b[39mreturn\u001b[39;00m doc\n",
      "File \u001b[1;32mc:\\Users\\Yara\\mambaforge\\envs\\lba\\lib\\site-packages\\stanza\\pipeline\\lemma_processor.py:88\u001b[0m, in \u001b[0;36mLemmaProcessor.process\u001b[1;34m(self, document)\u001b[0m\n\u001b[0;32m     86\u001b[0m edits \u001b[39m=\u001b[39m []\n\u001b[0;32m     87\u001b[0m \u001b[39mfor\u001b[39;00m i, b \u001b[39min\u001b[39;00m \u001b[39menumerate\u001b[39m(seq2seq_batch):\n\u001b[1;32m---> 88\u001b[0m     ps, es \u001b[39m=\u001b[39m \u001b[39mself\u001b[39;49m\u001b[39m.\u001b[39;49mtrainer\u001b[39m.\u001b[39;49mpredict(b, \u001b[39mself\u001b[39;49m\u001b[39m.\u001b[39;49mconfig[\u001b[39m'\u001b[39;49m\u001b[39mbeam_size\u001b[39;49m\u001b[39m'\u001b[39;49m])\n\u001b[0;32m     89\u001b[0m     preds \u001b[39m+\u001b[39m\u001b[39m=\u001b[39m ps\n\u001b[0;32m     90\u001b[0m     \u001b[39mif\u001b[39;00m es \u001b[39mis\u001b[39;00m \u001b[39mnot\u001b[39;00m \u001b[39mNone\u001b[39;00m:\n",
      "File \u001b[1;32mc:\\Users\\Yara\\mambaforge\\envs\\lba\\lib\\site-packages\\stanza\\models\\lemma\\trainer.py:105\u001b[0m, in \u001b[0;36mTrainer.predict\u001b[1;34m(self, batch, beam_size)\u001b[0m\n\u001b[0;32m    103\u001b[0m \u001b[39mself\u001b[39m\u001b[39m.\u001b[39mmodel\u001b[39m.\u001b[39meval()\n\u001b[0;32m    104\u001b[0m batch_size \u001b[39m=\u001b[39m src\u001b[39m.\u001b[39msize(\u001b[39m0\u001b[39m)\n\u001b[1;32m--> 105\u001b[0m preds, edit_logits \u001b[39m=\u001b[39m \u001b[39mself\u001b[39;49m\u001b[39m.\u001b[39;49mmodel\u001b[39m.\u001b[39;49mpredict(src, src_mask, pos\u001b[39m=\u001b[39;49mpos, beam_size\u001b[39m=\u001b[39;49mbeam_size, raw\u001b[39m=\u001b[39;49mtext)\n\u001b[0;32m    106\u001b[0m pred_seqs \u001b[39m=\u001b[39m [\u001b[39mself\u001b[39m\u001b[39m.\u001b[39mvocab[\u001b[39m'\u001b[39m\u001b[39mchar\u001b[39m\u001b[39m'\u001b[39m]\u001b[39m.\u001b[39munmap(ids) \u001b[39mfor\u001b[39;00m ids \u001b[39min\u001b[39;00m preds] \u001b[39m# unmap to tokens\u001b[39;00m\n\u001b[0;32m    107\u001b[0m pred_seqs \u001b[39m=\u001b[39m utils\u001b[39m.\u001b[39mprune_decoded_seqs(pred_seqs)\n",
      "File \u001b[1;32mc:\\Users\\Yara\\mambaforge\\envs\\lba\\lib\\site-packages\\stanza\\models\\common\\seq2seq_model.py:257\u001b[0m, in \u001b[0;36mSeq2SeqModel.predict\u001b[1;34m(self, src, src_mask, pos, beam_size, raw)\u001b[0m\n\u001b[0;32m    255\u001b[0m \u001b[39m\u001b[39m\u001b[39m\"\"\" Predict with beam search. \"\"\"\u001b[39;00m\n\u001b[0;32m    256\u001b[0m \u001b[39mif\u001b[39;00m beam_size \u001b[39m==\u001b[39m \u001b[39m1\u001b[39m:\n\u001b[1;32m--> 257\u001b[0m     \u001b[39mreturn\u001b[39;00m \u001b[39mself\u001b[39;49m\u001b[39m.\u001b[39;49mpredict_greedy(src, src_mask, pos, raw)\n\u001b[0;32m    259\u001b[0m enc_inputs, batch_size, src_lens, src_mask \u001b[39m=\u001b[39m \u001b[39mself\u001b[39m\u001b[39m.\u001b[39membed(src, src_mask, pos, raw)\n\u001b[0;32m    261\u001b[0m \u001b[39m# (1) encode source\u001b[39;00m\n",
      "File \u001b[1;32mc:\\Users\\Yara\\mambaforge\\envs\\lba\\lib\\site-packages\\stanza\\models\\common\\seq2seq_model.py:239\u001b[0m, in \u001b[0;36mSeq2SeqModel.predict_greedy\u001b[1;34m(self, src, src_mask, pos, raw)\u001b[0m\n\u001b[0;32m    236\u001b[0m output_seqs \u001b[39m=\u001b[39m [[] \u001b[39mfor\u001b[39;00m _ \u001b[39min\u001b[39;00m \u001b[39mrange\u001b[39m(batch_size)]\n\u001b[0;32m    238\u001b[0m \u001b[39mwhile\u001b[39;00m total_done \u001b[39m<\u001b[39m batch_size \u001b[39mand\u001b[39;00m max_len \u001b[39m<\u001b[39m \u001b[39mself\u001b[39m\u001b[39m.\u001b[39mmax_dec_len:\n\u001b[1;32m--> 239\u001b[0m     log_probs, (hn, cn) \u001b[39m=\u001b[39m \u001b[39mself\u001b[39;49m\u001b[39m.\u001b[39;49mdecode(dec_inputs, hn, cn, h_in, src_mask, src\u001b[39m=\u001b[39;49msrc)\n\u001b[0;32m    240\u001b[0m     \u001b[39massert\u001b[39;00m log_probs\u001b[39m.\u001b[39msize(\u001b[39m1\u001b[39m) \u001b[39m==\u001b[39m \u001b[39m1\u001b[39m, \u001b[39m\"\u001b[39m\u001b[39mOutput must have 1-step of output.\u001b[39m\u001b[39m\"\u001b[39m\n\u001b[0;32m    241\u001b[0m     _, preds \u001b[39m=\u001b[39m log_probs\u001b[39m.\u001b[39msqueeze(\u001b[39m1\u001b[39m)\u001b[39m.\u001b[39mmax(\u001b[39m1\u001b[39m, keepdim\u001b[39m=\u001b[39m\u001b[39mTrue\u001b[39;00m)\n",
      "File \u001b[1;32mc:\\Users\\Yara\\mambaforge\\envs\\lba\\lib\\site-packages\\stanza\\models\\common\\seq2seq_model.py:136\u001b[0m, in \u001b[0;36mSeq2SeqModel.decode\u001b[1;34m(self, dec_inputs, hn, cn, ctx, ctx_mask, src)\u001b[0m\n\u001b[0;32m    134\u001b[0m \u001b[39m\u001b[39m\u001b[39m\"\"\" Decode a step, based on context encoding and source context states.\"\"\"\u001b[39;00m\n\u001b[0;32m    135\u001b[0m dec_hidden \u001b[39m=\u001b[39m (hn, cn)\n\u001b[1;32m--> 136\u001b[0m decoder_output \u001b[39m=\u001b[39m \u001b[39mself\u001b[39;49m\u001b[39m.\u001b[39;49mdecoder(dec_inputs, dec_hidden, ctx, ctx_mask, return_logattn\u001b[39m=\u001b[39;49m\u001b[39mself\u001b[39;49m\u001b[39m.\u001b[39;49mcopy)\n\u001b[0;32m    137\u001b[0m \u001b[39mif\u001b[39;00m \u001b[39mself\u001b[39m\u001b[39m.\u001b[39mcopy:\n\u001b[0;32m    138\u001b[0m     h_out, dec_hidden, log_attn \u001b[39m=\u001b[39m decoder_output\n",
      "File \u001b[1;32mc:\\Users\\Yara\\mambaforge\\envs\\lba\\lib\\site-packages\\torch\\nn\\modules\\module.py:1501\u001b[0m, in \u001b[0;36mModule._call_impl\u001b[1;34m(self, *args, **kwargs)\u001b[0m\n\u001b[0;32m   1496\u001b[0m \u001b[39m# If we don't have any hooks, we want to skip the rest of the logic in\u001b[39;00m\n\u001b[0;32m   1497\u001b[0m \u001b[39m# this function, and just call forward.\u001b[39;00m\n\u001b[0;32m   1498\u001b[0m \u001b[39mif\u001b[39;00m \u001b[39mnot\u001b[39;00m (\u001b[39mself\u001b[39m\u001b[39m.\u001b[39m_backward_hooks \u001b[39mor\u001b[39;00m \u001b[39mself\u001b[39m\u001b[39m.\u001b[39m_backward_pre_hooks \u001b[39mor\u001b[39;00m \u001b[39mself\u001b[39m\u001b[39m.\u001b[39m_forward_hooks \u001b[39mor\u001b[39;00m \u001b[39mself\u001b[39m\u001b[39m.\u001b[39m_forward_pre_hooks\n\u001b[0;32m   1499\u001b[0m         \u001b[39mor\u001b[39;00m _global_backward_pre_hooks \u001b[39mor\u001b[39;00m _global_backward_hooks\n\u001b[0;32m   1500\u001b[0m         \u001b[39mor\u001b[39;00m _global_forward_hooks \u001b[39mor\u001b[39;00m _global_forward_pre_hooks):\n\u001b[1;32m-> 1501\u001b[0m     \u001b[39mreturn\u001b[39;00m forward_call(\u001b[39m*\u001b[39margs, \u001b[39m*\u001b[39m\u001b[39m*\u001b[39mkwargs)\n\u001b[0;32m   1502\u001b[0m \u001b[39m# Do not call functions when jit is used\u001b[39;00m\n\u001b[0;32m   1503\u001b[0m full_backward_hooks, non_full_backward_hooks \u001b[39m=\u001b[39m [], []\n",
      "File \u001b[1;32mc:\\Users\\Yara\\mambaforge\\envs\\lba\\lib\\site-packages\\stanza\\models\\common\\seq2seq_modules.py:227\u001b[0m, in \u001b[0;36mLSTMAttention.forward\u001b[1;34m(self, input, hidden, ctx, ctx_mask, return_logattn)\u001b[0m\n\u001b[0;32m    225\u001b[0m steps \u001b[39m=\u001b[39m \u001b[39mrange\u001b[39m(\u001b[39minput\u001b[39m\u001b[39m.\u001b[39msize(\u001b[39m0\u001b[39m))\n\u001b[0;32m    226\u001b[0m \u001b[39mfor\u001b[39;00m i \u001b[39min\u001b[39;00m steps:\n\u001b[1;32m--> 227\u001b[0m     hidden \u001b[39m=\u001b[39m \u001b[39mself\u001b[39;49m\u001b[39m.\u001b[39;49mlstm_cell(\u001b[39minput\u001b[39;49m[i], hidden)\n\u001b[0;32m    228\u001b[0m     hy, cy \u001b[39m=\u001b[39m hidden\n\u001b[0;32m    229\u001b[0m     h_tilde, alpha \u001b[39m=\u001b[39m \u001b[39mself\u001b[39m\u001b[39m.\u001b[39mattention_layer(hy, ctx, mask\u001b[39m=\u001b[39mctx_mask, return_logattn\u001b[39m=\u001b[39mreturn_logattn)\n",
      "File \u001b[1;32mc:\\Users\\Yara\\mambaforge\\envs\\lba\\lib\\site-packages\\torch\\nn\\modules\\module.py:1501\u001b[0m, in \u001b[0;36mModule._call_impl\u001b[1;34m(self, *args, **kwargs)\u001b[0m\n\u001b[0;32m   1496\u001b[0m \u001b[39m# If we don't have any hooks, we want to skip the rest of the logic in\u001b[39;00m\n\u001b[0;32m   1497\u001b[0m \u001b[39m# this function, and just call forward.\u001b[39;00m\n\u001b[0;32m   1498\u001b[0m \u001b[39mif\u001b[39;00m \u001b[39mnot\u001b[39;00m (\u001b[39mself\u001b[39m\u001b[39m.\u001b[39m_backward_hooks \u001b[39mor\u001b[39;00m \u001b[39mself\u001b[39m\u001b[39m.\u001b[39m_backward_pre_hooks \u001b[39mor\u001b[39;00m \u001b[39mself\u001b[39m\u001b[39m.\u001b[39m_forward_hooks \u001b[39mor\u001b[39;00m \u001b[39mself\u001b[39m\u001b[39m.\u001b[39m_forward_pre_hooks\n\u001b[0;32m   1499\u001b[0m         \u001b[39mor\u001b[39;00m _global_backward_pre_hooks \u001b[39mor\u001b[39;00m _global_backward_hooks\n\u001b[0;32m   1500\u001b[0m         \u001b[39mor\u001b[39;00m _global_forward_hooks \u001b[39mor\u001b[39;00m _global_forward_pre_hooks):\n\u001b[1;32m-> 1501\u001b[0m     \u001b[39mreturn\u001b[39;00m forward_call(\u001b[39m*\u001b[39margs, \u001b[39m*\u001b[39m\u001b[39m*\u001b[39mkwargs)\n\u001b[0;32m   1502\u001b[0m \u001b[39m# Do not call functions when jit is used\u001b[39;00m\n\u001b[0;32m   1503\u001b[0m full_backward_hooks, non_full_backward_hooks \u001b[39m=\u001b[39m [], []\n",
      "File \u001b[1;32mc:\\Users\\Yara\\mambaforge\\envs\\lba\\lib\\site-packages\\torch\\nn\\modules\\rnn.py:1237\u001b[0m, in \u001b[0;36mLSTMCell.forward\u001b[1;34m(self, input, hx)\u001b[0m\n\u001b[0;32m   1234\u001b[0m \u001b[39melse\u001b[39;00m:\n\u001b[0;32m   1235\u001b[0m     hx \u001b[39m=\u001b[39m (hx[\u001b[39m0\u001b[39m]\u001b[39m.\u001b[39munsqueeze(\u001b[39m0\u001b[39m), hx[\u001b[39m1\u001b[39m]\u001b[39m.\u001b[39munsqueeze(\u001b[39m0\u001b[39m)) \u001b[39mif\u001b[39;00m \u001b[39mnot\u001b[39;00m is_batched \u001b[39melse\u001b[39;00m hx\n\u001b[1;32m-> 1237\u001b[0m ret \u001b[39m=\u001b[39m _VF\u001b[39m.\u001b[39;49mlstm_cell(\n\u001b[0;32m   1238\u001b[0m     \u001b[39minput\u001b[39;49m, hx,\n\u001b[0;32m   1239\u001b[0m     \u001b[39mself\u001b[39;49m\u001b[39m.\u001b[39;49mweight_ih, \u001b[39mself\u001b[39;49m\u001b[39m.\u001b[39;49mweight_hh,\n\u001b[0;32m   1240\u001b[0m     \u001b[39mself\u001b[39;49m\u001b[39m.\u001b[39;49mbias_ih, \u001b[39mself\u001b[39;49m\u001b[39m.\u001b[39;49mbias_hh,\n\u001b[0;32m   1241\u001b[0m )\n\u001b[0;32m   1243\u001b[0m \u001b[39mif\u001b[39;00m \u001b[39mnot\u001b[39;00m is_batched:\n\u001b[0;32m   1244\u001b[0m     ret \u001b[39m=\u001b[39m (ret[\u001b[39m0\u001b[39m]\u001b[39m.\u001b[39msqueeze(\u001b[39m0\u001b[39m), ret[\u001b[39m1\u001b[39m]\u001b[39m.\u001b[39msqueeze(\u001b[39m0\u001b[39m))\n",
      "\u001b[1;31mKeyboardInterrupt\u001b[0m: "
     ]
    }
   ],
   "source": [
    "preprocess(dfs['article'], ['L'])"
   ]
  },
  {
   "cell_type": "code",
   "execution_count": null,
   "metadata": {},
   "outputs": [
    {
     "data": {
      "application/vnd.jupyter.widget-view+json": {
       "model_id": "8be115c7cadc4de29186763a0f68157b",
       "version_major": 2,
       "version_minor": 0
      },
      "text/plain": [
       "  0%|          | 0/6 [00:00<?, ?it/s]"
      ]
     },
     "metadata": {},
     "output_type": "display_data"
    }
   ],
   "source": [
    "preprocess_phrases()"
   ]
  }
 ],
 "metadata": {
  "kernelspec": {
   "display_name": ".venv",
   "language": "python",
   "name": "python3"
  },
  "language_info": {
   "codemirror_mode": {
    "name": "ipython",
    "version": 3
   },
   "file_extension": ".py",
   "mimetype": "text/x-python",
   "name": "python",
   "nbconvert_exporter": "python",
   "pygments_lexer": "ipython3",
   "version": "3.10.12"
  },
  "orig_nbformat": 4
 },
 "nbformat": 4,
 "nbformat_minor": 2
}
