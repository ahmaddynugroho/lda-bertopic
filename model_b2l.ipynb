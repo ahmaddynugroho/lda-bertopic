{
 "cells": [
  {
   "cell_type": "code",
   "execution_count": 1,
   "metadata": {},
   "outputs": [],
   "source": [
    "PATH_FILE_PREPROCESSED = './results/ds.parquet'\n",
    "PATH_FILE_ELAPSE_TIME = './results/elapse_time.csv'\n",
    "PATH_PREFIX_MODEL_LDA = './results/models_lda/'\n",
    "PATH_PREFIX_MODEL_BERTOPIC = './results/models_bertopic/'\n",
    "USE_GPU = True"
   ]
  },
  {
   "cell_type": "code",
   "execution_count": 2,
   "metadata": {},
   "outputs": [],
   "source": [
    "import pandas as pd\n",
    "\n",
    "ds = pd.read_parquet(PATH_FILE_PREPROCESSED)\n",
    "elapse_time = pd.read_csv(PATH_FILE_ELAPSE_TIME)"
   ]
  },
  {
   "cell_type": "code",
   "execution_count": 3,
   "metadata": {},
   "outputs": [
    {
     "data": {
      "text/plain": [
       "0    Akhir Kisah Misterius Kematian Satu Keluarga d...\n",
       "1    Direktur Reserse Kriminal Umum Polda Metro Jay...\n",
       "2    Proses penyelidikan yang telah berjalan selama...\n",
       "3    Polisi juga tidak menemukan minimal dua barang...\n",
       "4    Motif bunuh diri atau pembunuhan juga tidak ad...\n",
       "Name: dB, dtype: object"
      ]
     },
     "execution_count": 3,
     "metadata": {},
     "output_type": "execute_result"
    }
   ],
   "source": [
    "ds['dB'].head()"
   ]
  },
  {
   "cell_type": "code",
   "execution_count": 4,
   "metadata": {},
   "outputs": [
    {
     "data": {
      "text/html": [
       "<div>\n",
       "<style scoped>\n",
       "    .dataframe tbody tr th:only-of-type {\n",
       "        vertical-align: middle;\n",
       "    }\n",
       "\n",
       "    .dataframe tbody tr th {\n",
       "        vertical-align: top;\n",
       "    }\n",
       "\n",
       "    .dataframe thead th {\n",
       "        text-align: right;\n",
       "    }\n",
       "</style>\n",
       "<table border=\"1\" class=\"dataframe\">\n",
       "  <thead>\n",
       "    <tr style=\"text-align: right;\">\n",
       "      <th></th>\n",
       "      <th>variant</th>\n",
       "      <th>tokenizing</th>\n",
       "      <th>preprocessing</th>\n",
       "    </tr>\n",
       "  </thead>\n",
       "  <tbody>\n",
       "    <tr>\n",
       "      <th>0</th>\n",
       "      <td>dB</td>\n",
       "      <td>56.51815</td>\n",
       "      <td>0.004319</td>\n",
       "    </tr>\n",
       "    <tr>\n",
       "      <th>1</th>\n",
       "      <td>DB</td>\n",
       "      <td>56.51815</td>\n",
       "      <td>0.004320</td>\n",
       "    </tr>\n",
       "    <tr>\n",
       "      <th>2</th>\n",
       "      <td>dT</td>\n",
       "      <td>56.51815</td>\n",
       "      <td>0.032136</td>\n",
       "    </tr>\n",
       "    <tr>\n",
       "      <th>3</th>\n",
       "      <td>DT</td>\n",
       "      <td>56.51815</td>\n",
       "      <td>0.032136</td>\n",
       "    </tr>\n",
       "    <tr>\n",
       "      <th>4</th>\n",
       "      <td>dCLNP</td>\n",
       "      <td>56.51815</td>\n",
       "      <td>0.240506</td>\n",
       "    </tr>\n",
       "  </tbody>\n",
       "</table>\n",
       "</div>"
      ],
      "text/plain": [
       "  variant  tokenizing  preprocessing\n",
       "0      dB    56.51815       0.004319\n",
       "1      DB    56.51815       0.004320\n",
       "2      dT    56.51815       0.032136\n",
       "3      DT    56.51815       0.032136\n",
       "4   dCLNP    56.51815       0.240506"
      ]
     },
     "execution_count": 4,
     "metadata": {},
     "output_type": "execute_result"
    }
   ],
   "source": [
    "elapse_time.head()"
   ]
  },
  {
   "cell_type": "code",
   "execution_count": 5,
   "metadata": {},
   "outputs": [
    {
     "name": "stderr",
     "output_type": "stream",
     "text": [
      "/home/lab_sc/mambaforge/envs/lba/lib/python3.10/site-packages/umap/distances.py:1063: NumbaDeprecationWarning: The 'nopython' keyword argument was not supplied to the 'numba.jit' decorator. The implicit default value for this argument is currently False, but it will be changed to True in Numba 0.59.0. See https://numba.readthedocs.io/en/stable/reference/deprecation.html#deprecation-of-object-mode-fall-back-behaviour-when-using-jit for details.\n",
      "  @numba.jit()\n",
      "/home/lab_sc/mambaforge/envs/lba/lib/python3.10/site-packages/umap/distances.py:1071: NumbaDeprecationWarning: The 'nopython' keyword argument was not supplied to the 'numba.jit' decorator. The implicit default value for this argument is currently False, but it will be changed to True in Numba 0.59.0. See https://numba.readthedocs.io/en/stable/reference/deprecation.html#deprecation-of-object-mode-fall-back-behaviour-when-using-jit for details.\n",
      "  @numba.jit()\n",
      "/home/lab_sc/mambaforge/envs/lba/lib/python3.10/site-packages/umap/distances.py:1086: NumbaDeprecationWarning: The 'nopython' keyword argument was not supplied to the 'numba.jit' decorator. The implicit default value for this argument is currently False, but it will be changed to True in Numba 0.59.0. See https://numba.readthedocs.io/en/stable/reference/deprecation.html#deprecation-of-object-mode-fall-back-behaviour-when-using-jit for details.\n",
      "  @numba.jit()\n",
      "/home/lab_sc/mambaforge/envs/lba/lib/python3.10/site-packages/tqdm/auto.py:21: TqdmWarning: IProgress not found. Please update jupyter and ipywidgets. See https://ipywidgets.readthedocs.io/en/stable/user_install.html\n",
      "  from .autonotebook import tqdm as notebook_tqdm\n",
      "/home/lab_sc/mambaforge/envs/lba/lib/python3.10/site-packages/umap/umap_.py:660: NumbaDeprecationWarning: The 'nopython' keyword argument was not supplied to the 'numba.jit' decorator. The implicit default value for this argument is currently False, but it will be changed to True in Numba 0.59.0. See https://numba.readthedocs.io/en/stable/reference/deprecation.html#deprecation-of-object-mode-fall-back-behaviour-when-using-jit for details.\n",
      "  @numba.jit()\n"
     ]
    }
   ],
   "source": [
    "from time import time\n",
    "\n",
    "import os\n",
    "os.environ[\"TOKENIZERS_PARALLELISM\"] = \"false\"\n",
    "\n",
    "from bertopic import BERTopic\n",
    "from gensim.corpora.dictionary import Dictionary\n",
    "from utils import get_coherence, get_diversity\n",
    "from utils import get_topics_bertopic\n",
    "\n",
    "if USE_GPU:\n",
    "    from cuml.cluster import HDBSCAN\n",
    "    from cuml.manifold import UMAP\n",
    "\n",
    "def get_bertopic(v, verbose=False, get_model=False, get_docs=False, get_score=False):\n",
    "    start = time()\n",
    "    docs = ds[v].dropna()\n",
    "    docs = [' '.join(doc) for doc in docs] if 'B' not in v else docs\n",
    "    umap_model = UMAP(n_components=5, n_neighbors=15, min_dist=0.0)\n",
    "    hdbscan_model = HDBSCAN(min_samples=10, gen_min_span_tree=True, prediction_data=True)\n",
    "    model = BERTopic(\n",
    "        language='multilingual',\n",
    "        hdbscan_model=hdbscan_model,\n",
    "        n_gram_range=(1,3),\n",
    "        nr_topics='auto',\n",
    "        umap_model=umap_model,\n",
    "        verbose=verbose,\n",
    "    )\n",
    "    topics_d, probs = model.fit_transform(docs)\n",
    "    topics_w = get_topics_bertopic(model, all=True)\n",
    "    end = time()\n",
    "    result = {\n",
    "        'topics_d': topics_d,\n",
    "        'topics_w': topics_w,\n",
    "        'time': end - start\n",
    "    }\n",
    "    if get_model: result['model'] = model\n",
    "    if get_docs: result['docs'] = docs\n",
    "    if get_score:\n",
    "        analyzer = model.vectorizer_model.build_analyzer()\n",
    "        texts = [analyzer(doc) for doc in docs]\n",
    "        dictionary = Dictionary(texts)\n",
    "        try:\n",
    "            c = get_coherence(topics=topics_w, texts=texts, dictionary=dictionary)\n",
    "        except ValueError:\n",
    "            c = -1\n",
    "        d = get_diversity(topics=topics_w)\n",
    "        end = time()\n",
    "        result['coherence'] = c\n",
    "        result['diversity'] = d\n",
    "        result['score'] = c * d\n",
    "        result['time'] = end - start\n",
    "    return result"
   ]
  },
  {
   "cell_type": "code",
   "execution_count": 6,
   "metadata": {},
   "outputs": [
    {
     "name": "stdout",
     "output_type": "stream",
     "text": [
      "dB0.6717075907201822\n",
      "DB0.5936742696832032\n",
      "dT0.6382638689972987\n",
      "DT0.5961457224556992\n",
      "dCLNP0.40251067781481303\n",
      "DCLNP0.7985681390027958\n",
      "dCLNG0.5325374112900989\n",
      "DCLNG0.6648666828236153\n",
      "dCLWP0.4370102290388285\n",
      "DCLWP0.862278809710521\n",
      "CUDA call='cudaEventDestroy(event_)' at file=/home/lab_sc/mambaforge/envs/lba/include/raft/core/resource/cuda_event.hpp line=33 failed with initialization error\n",
      "CUDA call='cudaEventDestroy(event_)' at file=/home/lab_sc/mambaforge/envs/lba/include/raft/core/resource/cuda_event.hpp line=33 failed with initialization error\n",
      "CUDA call='cudaEventDestroy(event_)' at file=/home/lab_sc/mambaforge/envs/lba/include/raft/core/resource/cuda_event.hpp line=33 failed with initialization error\n",
      "CUDA call='cudaEventDestroy(event_)' at file=/home/lab_sc/mambaforge/envs/lba/include/raft/core/resource/cuda_event.hpp line=33 failed with initialization error\n",
      "dCLWG0.7444082863528788\n",
      "DCLWG0.5333630044619821\n",
      "dCSNP0.41785881660622054\n",
      "DCSNP0.6494524776256811\n",
      "dCSNG0.5639688760967217\n",
      "DCSNG0.6289478309710352\n",
      "dCSWP0.45079849327212324\n",
      "DCSWP0.7590569223126149\n",
      "dCSWG0.5456430485616274\n",
      "DCSWG0.6155874002259062\n"
     ]
    }
   ],
   "source": [
    "for v in ds.columns:\n",
    "    model = get_bertopic(v, get_score=True, verbose=False)\n",
    "    print(f\"{v}{model['score']}\")"
   ]
  },
  {
   "cell_type": "code",
   "execution_count": 7,
   "metadata": {},
   "outputs": [
    {
     "data": {
      "text/plain": [
       "Index(['dB', 'DB', 'dT', 'DT', 'dCLNP', 'DCLNP', 'dCLNG', 'DCLNG', 'dCLWP',\n",
       "       'DCLWP', 'dCLWG', 'DCLWG', 'dCSNP', 'DCSNP', 'dCSNG', 'DCSNG', 'dCSWP',\n",
       "       'DCSWP', 'dCSWG', 'DCSWG'],\n",
       "      dtype='object')"
      ]
     },
     "execution_count": 7,
     "metadata": {},
     "output_type": "execute_result"
    }
   ],
   "source": [
    "ds.columns"
   ]
  }
 ],
 "metadata": {
  "kernelspec": {
   "display_name": "lba",
   "language": "python",
   "name": "python3"
  },
  "language_info": {
   "codemirror_mode": {
    "name": "ipython",
    "version": 3
   },
   "file_extension": ".py",
   "mimetype": "text/x-python",
   "name": "python",
   "nbconvert_exporter": "python",
   "pygments_lexer": "ipython3",
   "version": "3.10.12"
  },
  "orig_nbformat": 4
 },
 "nbformat": 4,
 "nbformat_minor": 2
}
