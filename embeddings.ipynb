{
 "cells": [
  {
   "cell_type": "code",
   "execution_count": 23,
   "metadata": {},
   "outputs": [],
   "source": [
    "import pandas as pd\n",
    "\n",
    "H = pd.read_csv('./datasets/small/HCLW.csv')\n",
    "A = pd.read_csv('./datasets/small/ACLW.csv')\n",
    "S = pd.read_csv('./datasets/small/SCLW.csv')"
   ]
  },
  {
   "cell_type": "code",
   "execution_count": 24,
   "metadata": {},
   "outputs": [],
   "source": [
    "from time import time\n",
    "\n",
    "from gensim.corpora.dictionary import Dictionary\n",
    "\n",
    "def create_embedding(df_column):\n",
    "    r = {} # result\n",
    "    df_column = df_column.dropna()\n",
    "    t_start = time()\n",
    "    r['text'] = df_column # for BERTopic\n",
    "    r['T'] = [d.split(' ') for d in df_column]\n",
    "    r['id2word'] = Dictionary(r['T'])\n",
    "    r['corpus'] = [r['id2word'].doc2bow(d) for d in r['T']]\n",
    "    t_end = time()\n",
    "    r['time'] = t_end - t_start\n",
    "    return r"
   ]
  },
  {
   "cell_type": "code",
   "execution_count": 25,
   "metadata": {},
   "outputs": [],
   "source": [
    "e_H = {\n",
    "    'HT': create_embedding(H['T']),\n",
    "    'HC': create_embedding(H['C']),\n",
    "    'HCL': create_embedding(H['CL']),\n",
    "    'HCLW': create_embedding(H['CLW']),\n",
    "    'HCW': create_embedding(H['CW']),\n",
    "    'HL': create_embedding(H['L']),\n",
    "    'HLW': create_embedding(H['LW']),\n",
    "    'HW': create_embedding(H['W']),\n",
    "}\n",
    "e_A = {\n",
    "    'AT': create_embedding(A['T']),\n",
    "    'AC': create_embedding(A['C']),\n",
    "    'ACL': create_embedding(A['CL']),\n",
    "    'ACLW': create_embedding(A['CLW']),\n",
    "    'ACW': create_embedding(A['CW']),\n",
    "    'AL': create_embedding(A['L']),\n",
    "    'ALW': create_embedding(A['LW']),\n",
    "    'AW': create_embedding(A['W']),\n",
    "}\n",
    "e_S = {\n",
    "    'ST': create_embedding(S['T']),\n",
    "    'SC': create_embedding(S['C']),\n",
    "    'SCL': create_embedding(S['CL']),\n",
    "    'SCLW': create_embedding(S['CLW']),\n",
    "    'SCW': create_embedding(S['CW']),\n",
    "    'SL': create_embedding(S['L']),\n",
    "    'SLW': create_embedding(S['LW']),\n",
    "    'SW': create_embedding(S['W']),\n",
    "}"
   ]
  },
  {
   "cell_type": "code",
   "execution_count": 26,
   "metadata": {},
   "outputs": [],
   "source": [
    "import pickle\n",
    "\n",
    "with open('./datasets/small/embeddings/e_H.pickle', 'wb') as f:\n",
    "    pickle.dump(e_H, f, protocol=pickle.HIGHEST_PROTOCOL)    \n",
    "with open('./datasets/small/embeddings/e_A.pickle', 'wb') as f:\n",
    "    pickle.dump(e_A, f, protocol=pickle.HIGHEST_PROTOCOL)    \n",
    "with open('./datasets/small/embeddings/e_S.pickle', 'wb') as f:\n",
    "    pickle.dump(e_S, f, protocol=pickle.HIGHEST_PROTOCOL)    "
   ]
  }
 ],
 "metadata": {
  "kernelspec": {
   "display_name": ".venv",
   "language": "python",
   "name": "python3"
  },
  "language_info": {
   "codemirror_mode": {
    "name": "ipython",
    "version": 3
   },
   "file_extension": ".py",
   "mimetype": "text/x-python",
   "name": "python",
   "nbconvert_exporter": "python",
   "pygments_lexer": "ipython3",
   "version": "3.8.10"
  },
  "orig_nbformat": 4
 },
 "nbformat": 4,
 "nbformat_minor": 2
}
