{
 "cells": [
  {
   "cell_type": "code",
   "execution_count": 29,
   "metadata": {},
   "outputs": [],
   "source": [
    "import pandas as pd\n",
    "\n",
    "HAS_p = pd.read_parquet('./results/HAS_p.parquet')\n",
    "HAS_t = pd.read_parquet('./results/HAS_t.parquet')"
   ]
  },
  {
   "cell_type": "code",
   "execution_count": 30,
   "metadata": {},
   "outputs": [],
   "source": [
    "from time import time\n",
    "from gensim.corpora.dictionary import Dictionary\n",
    "\n",
    "def create_embeddings(HAS_p):\n",
    "    r = {}\n",
    "    r_time = []\n",
    "    for v in HAS_p:\n",
    "        df = HAS_p[v].dropna()\n",
    "        _v = {}\n",
    "        _v['text'] = df\n",
    "        t_start = time()\n",
    "        _v['T'] = [d.split(' ') for d in df]\n",
    "        _v['id2word'] = Dictionary(_v['T'])\n",
    "        _v['corpus'] = [_v['id2word'].doc2bow(d) for d in _v['T']]\n",
    "        r_time.append(time() - t_start)\n",
    "        r[v] = _v\n",
    "    HAS_t['lda_embedding'] = pd.Series(r_time)\n",
    "    return r"
   ]
  },
  {
   "cell_type": "code",
   "execution_count": 31,
   "metadata": {},
   "outputs": [],
   "source": [
    "HAS_e = create_embeddings(HAS_p)"
   ]
  },
  {
   "cell_type": "code",
   "execution_count": 32,
   "metadata": {},
   "outputs": [],
   "source": [
    "import pickle\n",
    "\n",
    "with open('./results/HAS_e.pickle', 'wb') as f:\n",
    "    pickle.dump(HAS_e, f)\n",
    "\n",
    "HAS_t.to_parquet('./results/HAS_t.parquet')"
   ]
  }
 ],
 "metadata": {
  "kernelspec": {
   "display_name": ".venv",
   "language": "python",
   "name": "python3"
  },
  "language_info": {
   "codemirror_mode": {
    "name": "ipython",
    "version": 3
   },
   "file_extension": ".py",
   "mimetype": "text/x-python",
   "name": "python",
   "nbconvert_exporter": "python",
   "pygments_lexer": "ipython3",
   "version": "3.8.10"
  },
  "orig_nbformat": 4
 },
 "nbformat": 4,
 "nbformat_minor": 2
}
