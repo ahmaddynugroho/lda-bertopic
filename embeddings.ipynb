{
 "cells": [
  {
   "cell_type": "code",
   "execution_count": 1,
   "metadata": {},
   "outputs": [],
   "source": [
    "import pickle\n",
    "\n",
    "with open('./datasets/small/HAS_p.pickle', 'rb') as f:\n",
    "    HAS_p = pickle.load(f)"
   ]
  },
  {
   "cell_type": "code",
   "execution_count": 2,
   "metadata": {},
   "outputs": [],
   "source": [
    "from time import time\n",
    "from gensim.corpora.dictionary import Dictionary\n",
    "\n",
    "def create_embeddings(HAS_p):\n",
    "    r = {}\n",
    "    for v in HAS_p:\n",
    "        _v = {}\n",
    "        _v['text'] = HAS_p[v]\n",
    "        t_start = time()\n",
    "        _v['T'] = [d.split(' ') for d in HAS_p[v]]\n",
    "        _v['id2word'] = Dictionary(_v['T'])\n",
    "        _v['corpus'] = [_v['id2word'].doc2bow(d) for d in _v['T']]\n",
    "        t_end = time()\n",
    "        _v['time'] = t_end - t_start\n",
    "        r[v] = _v\n",
    "    return r"
   ]
  },
  {
   "cell_type": "code",
   "execution_count": 3,
   "metadata": {},
   "outputs": [],
   "source": [
    "HAS_e = create_embeddings(HAS_p)"
   ]
  },
  {
   "cell_type": "code",
   "execution_count": 12,
   "metadata": {},
   "outputs": [],
   "source": [
    "# with open('./datasets/small/HAS_e.pickle', 'wb') as f:\n",
    "#     pickle.dump(HAS_e, f)"
   ]
  }
 ],
 "metadata": {
  "kernelspec": {
   "display_name": ".venv",
   "language": "python",
   "name": "python3"
  },
  "language_info": {
   "codemirror_mode": {
    "name": "ipython",
    "version": 3
   },
   "file_extension": ".py",
   "mimetype": "text/x-python",
   "name": "python",
   "nbconvert_exporter": "python",
   "pygments_lexer": "ipython3",
   "version": "3.8.10"
  },
  "orig_nbformat": 4
 },
 "nbformat": 4,
 "nbformat_minor": 2
}
