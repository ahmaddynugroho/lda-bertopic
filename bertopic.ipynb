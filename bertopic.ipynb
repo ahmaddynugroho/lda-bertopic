{
 "cells": [
  {
   "cell_type": "code",
   "execution_count": 22,
   "metadata": {},
   "outputs": [],
   "source": [
    "import pandas as pd\n",
    "\n",
    "df = pd.read_csv('./datasets/df.csv')\n"
   ]
  },
  {
   "cell_type": "code",
   "execution_count": 23,
   "metadata": {},
   "outputs": [],
   "source": [
    "df = df.sample(100)\n"
   ]
  },
  {
   "cell_type": "code",
   "execution_count": 24,
   "metadata": {},
   "outputs": [],
   "source": [
    "def get_topics(bertopic):\n",
    "    result = bertopic.get_topics().values()\n",
    "    result = [[w[0] for w in t] for t in result]\n",
    "    return { 'topics': result }\n"
   ]
  },
  {
   "cell_type": "code",
   "execution_count": 25,
   "metadata": {},
   "outputs": [],
   "source": [
    "import time\n",
    "\n",
    "from bertopic import BERTopic\n",
    "from octis.evaluation_metrics.coherence_metrics import Coherence\n",
    "from octis.evaluation_metrics.diversity_metrics import TopicDiversity\n",
    "\n",
    "from utils import tokenize\n",
    "\n",
    "\n",
    "def evaluate_bertopic(df, column_name):\n",
    "    start = time.time()\n",
    "    model = BERTopic().fit(df[column_name])\n",
    "    topics = get_topics(model)\n",
    "    tc = Coherence(texts=tokenize(df[column_name]), measure='c_v')\n",
    "    td = TopicDiversity()\n",
    "    return {\n",
    "        'dataset': column_name,\n",
    "        'elapse_time': time.time() - start,\n",
    "        'coherence_score': tc.score(topics),\n",
    "        'diversity_score': td.score(topics)\n",
    "    }"
   ]
  },
  {
   "cell_type": "code",
   "execution_count": 26,
   "metadata": {},
   "outputs": [],
   "source": [
    "bertopic_evaluation = pd.DataFrame([\n",
    "    evaluate_bertopic(df, 'short_raw'),\n",
    "    evaluate_bertopic(df, 'long_raw'),\n",
    "    evaluate_bertopic(df, 'short'),\n",
    "    evaluate_bertopic(df, 'long'),\n",
    "])"
   ]
  },
  {
   "cell_type": "code",
   "execution_count": null,
   "metadata": {},
   "outputs": [],
   "source": [
    "bertopic_evaluation.to_csv('./results/bertopic_evaluation.csv', index=False)"
   ]
  },
  {
   "cell_type": "code",
   "execution_count": 27,
   "metadata": {},
   "outputs": [
    {
     "data": {
      "text/html": [
       "<div>\n",
       "<style scoped>\n",
       "    .dataframe tbody tr th:only-of-type {\n",
       "        vertical-align: middle;\n",
       "    }\n",
       "\n",
       "    .dataframe tbody tr th {\n",
       "        vertical-align: top;\n",
       "    }\n",
       "\n",
       "    .dataframe thead th {\n",
       "        text-align: right;\n",
       "    }\n",
       "</style>\n",
       "<table border=\"1\" class=\"dataframe\">\n",
       "  <thead>\n",
       "    <tr style=\"text-align: right;\">\n",
       "      <th></th>\n",
       "      <th>dataset</th>\n",
       "      <th>elapse_time</th>\n",
       "      <th>coherence_score</th>\n",
       "      <th>diversity_score</th>\n",
       "    </tr>\n",
       "  </thead>\n",
       "  <tbody>\n",
       "    <tr>\n",
       "      <th>0</th>\n",
       "      <td>short_raw</td>\n",
       "      <td>3.979897</td>\n",
       "      <td>0.339460</td>\n",
       "      <td>1.0</td>\n",
       "    </tr>\n",
       "    <tr>\n",
       "      <th>1</th>\n",
       "      <td>long_raw</td>\n",
       "      <td>12.219148</td>\n",
       "      <td>0.336528</td>\n",
       "      <td>1.0</td>\n",
       "    </tr>\n",
       "    <tr>\n",
       "      <th>2</th>\n",
       "      <td>short</td>\n",
       "      <td>3.694230</td>\n",
       "      <td>0.577694</td>\n",
       "      <td>1.0</td>\n",
       "    </tr>\n",
       "    <tr>\n",
       "      <th>3</th>\n",
       "      <td>long</td>\n",
       "      <td>13.095908</td>\n",
       "      <td>0.302297</td>\n",
       "      <td>1.0</td>\n",
       "    </tr>\n",
       "  </tbody>\n",
       "</table>\n",
       "</div>"
      ],
      "text/plain": [
       "     dataset  elapse_time  coherence_score  diversity_score\n",
       "0  short_raw     3.979897         0.339460              1.0\n",
       "1   long_raw    12.219148         0.336528              1.0\n",
       "2      short     3.694230         0.577694              1.0\n",
       "3       long    13.095908         0.302297              1.0"
      ]
     },
     "execution_count": 27,
     "metadata": {},
     "output_type": "execute_result"
    }
   ],
   "source": [
    "bertopic_evaluation"
   ]
  }
 ],
 "metadata": {
  "kernelspec": {
   "display_name": ".venv",
   "language": "python",
   "name": "python3"
  },
  "language_info": {
   "codemirror_mode": {
    "name": "ipython",
    "version": 3
   },
   "file_extension": ".py",
   "mimetype": "text/x-python",
   "name": "python",
   "nbconvert_exporter": "python",
   "pygments_lexer": "ipython3",
   "version": "3.10.6"
  },
  "orig_nbformat": 4
 },
 "nbformat": 4,
 "nbformat_minor": 2
}
