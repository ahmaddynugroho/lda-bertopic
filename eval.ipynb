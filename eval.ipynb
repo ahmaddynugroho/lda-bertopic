{
 "cells": [
  {
   "cell_type": "code",
   "execution_count": 1,
   "metadata": {},
   "outputs": [],
   "source": [
    "import pickle\n",
    "import pandas as pd\n",
    "\n",
    "with open('./results/HAS_e.pickle', 'rb') as f:\n",
    "    HAS_e = pickle.load(f)\n",
    "HAS_t = pd.read_parquet('./results/HAS_t.parquet')"
   ]
  },
  {
   "cell_type": "code",
   "execution_count": 2,
   "metadata": {},
   "outputs": [
    {
     "name": "stderr",
     "output_type": "stream",
     "text": [
      "d:\\repo\\lda-bertopic\\.venv\\lib\\site-packages\\umap\\distances.py:1063: NumbaDeprecationWarning: \u001b[1mThe 'nopython' keyword argument was not supplied to the 'numba.jit' decorator. The implicit default value for this argument is currently False, but it will be changed to True in Numba 0.59.0. See https://numba.readthedocs.io/en/stable/reference/deprecation.html#deprecation-of-object-mode-fall-back-behaviour-when-using-jit for details.\u001b[0m\n",
      "  @numba.jit()\n",
      "d:\\repo\\lda-bertopic\\.venv\\lib\\site-packages\\umap\\distances.py:1071: NumbaDeprecationWarning: \u001b[1mThe 'nopython' keyword argument was not supplied to the 'numba.jit' decorator. The implicit default value for this argument is currently False, but it will be changed to True in Numba 0.59.0. See https://numba.readthedocs.io/en/stable/reference/deprecation.html#deprecation-of-object-mode-fall-back-behaviour-when-using-jit for details.\u001b[0m\n",
      "  @numba.jit()\n",
      "d:\\repo\\lda-bertopic\\.venv\\lib\\site-packages\\umap\\distances.py:1086: NumbaDeprecationWarning: \u001b[1mThe 'nopython' keyword argument was not supplied to the 'numba.jit' decorator. The implicit default value for this argument is currently False, but it will be changed to True in Numba 0.59.0. See https://numba.readthedocs.io/en/stable/reference/deprecation.html#deprecation-of-object-mode-fall-back-behaviour-when-using-jit for details.\u001b[0m\n",
      "  @numba.jit()\n",
      "d:\\repo\\lda-bertopic\\.venv\\lib\\site-packages\\tqdm\\auto.py:21: TqdmWarning: IProgress not found. Please update jupyter and ipywidgets. See https://ipywidgets.readthedocs.io/en/stable/user_install.html\n",
      "  from .autonotebook import tqdm as notebook_tqdm\n",
      "d:\\repo\\lda-bertopic\\.venv\\lib\\site-packages\\umap\\umap_.py:660: NumbaDeprecationWarning: \u001b[1mThe 'nopython' keyword argument was not supplied to the 'numba.jit' decorator. The implicit default value for this argument is currently False, but it will be changed to True in Numba 0.59.0. See https://numba.readthedocs.io/en/stable/reference/deprecation.html#deprecation-of-object-mode-fall-back-behaviour-when-using-jit for details.\u001b[0m\n",
      "  @numba.jit()\n"
     ]
    }
   ],
   "source": [
    "from bertopic import BERTopic\n",
    "from gensim.models.ldamulticore import LdaMulticore\n",
    "from utils import e_variant\n",
    "\n",
    "def load_ldas():\n",
    "    r = {} # result\n",
    "    for v in e_variant():\n",
    "        r[v] = LdaMulticore.load(f'./results/models_lda/{v}')\n",
    "    return r\n",
    "\n",
    "def load_bertopics():\n",
    "    path_prefix = './results/models_bertopic/'\n",
    "    r = {}\n",
    "    for v in e_variant():\n",
    "        r[v] = {}\n",
    "        r[v] = BERTopic.load(f'{path_prefix}{v}')\n",
    "    return r"
   ]
  },
  {
   "cell_type": "code",
   "execution_count": 3,
   "metadata": {},
   "outputs": [],
   "source": [
    "ldas = load_ldas()\n",
    "bertopics = load_bertopics()"
   ]
  },
  {
   "cell_type": "code",
   "execution_count": 4,
   "metadata": {},
   "outputs": [],
   "source": [
    "from time import time\n",
    "from gensim.corpora.dictionary import Dictionary\n",
    "from utils import get_topics_lda, get_topics_bertopic, get_coherence, get_diversity\n",
    "\n",
    "def evaluate_models(models, lda=False):\n",
    "    r = []\n",
    "    r_time = []\n",
    "    for v in HAS_e:\n",
    "        t_start = time()\n",
    "        if lda:\n",
    "            topics = get_topics_lda(models[v], HAS_e[v]['id2word'])\n",
    "            texts = HAS_e[v]['T']\n",
    "            dictionary = models[v].id2word\n",
    "        else:\n",
    "            topics = get_topics_bertopic(bertopics[v])\n",
    "            analyzer = models[v].vectorizer_model.build_analyzer()\n",
    "            texts = [analyzer(doc) for doc in HAS_e[v]['text']]\n",
    "            dictionary = Dictionary(texts)\n",
    "        c = get_coherence(\n",
    "            topics=topics,\n",
    "            texts=texts,\n",
    "            dictionary=dictionary,\n",
    "        )\n",
    "        d = get_diversity(topics)\n",
    "        t_end = time()\n",
    "        r_time.append(t_end - t_start)\n",
    "        r.append({\n",
    "            'variant': v,\n",
    "            'coherence': c,\n",
    "            'diversity': d,\n",
    "            'score': c * d\n",
    "        })\n",
    "    algorithm = 'lda' if lda else 'bertopic'\n",
    "    HAS_t[f'{algorithm}_evaluation'] = pd.Series(r_time)\n",
    "    print(r)\n",
    "    return pd.DataFrame(r)"
   ]
  },
  {
   "cell_type": "code",
   "execution_count": 5,
   "metadata": {},
   "outputs": [
    {
     "name": "stdout",
     "output_type": "stream",
     "text": [
      "[{'variant': 'HWN', 'coherence': 0.41576517142692637, 'diversity': 0.5532467532467532, 'score': 0.23002073120502678}]\n",
      "[{'variant': 'HWN', 'coherence': 0.40450850608995553, 'diversity': 1.0, 'score': 0.40450850608995553}]\n"
     ]
    }
   ],
   "source": [
    "import pandas as pd\n",
    "\n",
    "evaluation_lda = pd.DataFrame(evaluate_models(ldas, lda=True))\n",
    "evaluation_bertopic = pd.DataFrame(evaluate_models(bertopics))"
   ]
  },
  {
   "cell_type": "code",
   "execution_count": 6,
   "metadata": {},
   "outputs": [
    {
     "data": {
      "text/html": [
       "<div>\n",
       "<style scoped>\n",
       "    .dataframe tbody tr th:only-of-type {\n",
       "        vertical-align: middle;\n",
       "    }\n",
       "\n",
       "    .dataframe tbody tr th {\n",
       "        vertical-align: top;\n",
       "    }\n",
       "\n",
       "    .dataframe thead th {\n",
       "        text-align: right;\n",
       "    }\n",
       "</style>\n",
       "<table border=\"1\" class=\"dataframe\">\n",
       "  <thead>\n",
       "    <tr style=\"text-align: right;\">\n",
       "      <th></th>\n",
       "      <th>variant</th>\n",
       "      <th>segmentation</th>\n",
       "      <th>preprocess</th>\n",
       "      <th>lda_embedding</th>\n",
       "      <th>lda_training</th>\n",
       "      <th>bertopic_training</th>\n",
       "      <th>lda_evaluation</th>\n",
       "      <th>bertopic_evaluation</th>\n",
       "    </tr>\n",
       "  </thead>\n",
       "  <tbody>\n",
       "    <tr>\n",
       "      <th>0</th>\n",
       "      <td>HWN</td>\n",
       "      <td>0.001003</td>\n",
       "      <td>2.34099</td>\n",
       "      <td>0.003</td>\n",
       "      <td>19.633259</td>\n",
       "      <td>7.961455</td>\n",
       "      <td>2.713751</td>\n",
       "      <td>1.761843</td>\n",
       "    </tr>\n",
       "  </tbody>\n",
       "</table>\n",
       "</div>"
      ],
      "text/plain": [
       "  variant  segmentation  preprocess  lda_embedding  lda_training  \\\n",
       "0     HWN      0.001003     2.34099          0.003     19.633259   \n",
       "\n",
       "   bertopic_training  lda_evaluation  bertopic_evaluation  \n",
       "0           7.961455        2.713751             1.761843  "
      ]
     },
     "execution_count": 6,
     "metadata": {},
     "output_type": "execute_result"
    }
   ],
   "source": [
    "HAS_t"
   ]
  },
  {
   "cell_type": "code",
   "execution_count": 7,
   "metadata": {},
   "outputs": [
    {
     "data": {
      "text/html": [
       "<div>\n",
       "<style scoped>\n",
       "    .dataframe tbody tr th:only-of-type {\n",
       "        vertical-align: middle;\n",
       "    }\n",
       "\n",
       "    .dataframe tbody tr th {\n",
       "        vertical-align: top;\n",
       "    }\n",
       "\n",
       "    .dataframe thead th {\n",
       "        text-align: right;\n",
       "    }\n",
       "</style>\n",
       "<table border=\"1\" class=\"dataframe\">\n",
       "  <thead>\n",
       "    <tr style=\"text-align: right;\">\n",
       "      <th></th>\n",
       "      <th>variant</th>\n",
       "      <th>coherence</th>\n",
       "      <th>diversity</th>\n",
       "      <th>score</th>\n",
       "    </tr>\n",
       "  </thead>\n",
       "  <tbody>\n",
       "    <tr>\n",
       "      <th>0</th>\n",
       "      <td>HWN</td>\n",
       "      <td>0.415765</td>\n",
       "      <td>0.553247</td>\n",
       "      <td>0.230021</td>\n",
       "    </tr>\n",
       "  </tbody>\n",
       "</table>\n",
       "</div>"
      ],
      "text/plain": [
       "  variant  coherence  diversity     score\n",
       "0     HWN   0.415765   0.553247  0.230021"
      ]
     },
     "execution_count": 7,
     "metadata": {},
     "output_type": "execute_result"
    }
   ],
   "source": [
    "evaluation_lda"
   ]
  },
  {
   "cell_type": "code",
   "execution_count": 8,
   "metadata": {},
   "outputs": [
    {
     "data": {
      "text/html": [
       "<div>\n",
       "<style scoped>\n",
       "    .dataframe tbody tr th:only-of-type {\n",
       "        vertical-align: middle;\n",
       "    }\n",
       "\n",
       "    .dataframe tbody tr th {\n",
       "        vertical-align: top;\n",
       "    }\n",
       "\n",
       "    .dataframe thead th {\n",
       "        text-align: right;\n",
       "    }\n",
       "</style>\n",
       "<table border=\"1\" class=\"dataframe\">\n",
       "  <thead>\n",
       "    <tr style=\"text-align: right;\">\n",
       "      <th></th>\n",
       "      <th>variant</th>\n",
       "      <th>coherence</th>\n",
       "      <th>diversity</th>\n",
       "      <th>score</th>\n",
       "    </tr>\n",
       "  </thead>\n",
       "  <tbody>\n",
       "    <tr>\n",
       "      <th>0</th>\n",
       "      <td>HWN</td>\n",
       "      <td>0.404509</td>\n",
       "      <td>1.0</td>\n",
       "      <td>0.404509</td>\n",
       "    </tr>\n",
       "  </tbody>\n",
       "</table>\n",
       "</div>"
      ],
      "text/plain": [
       "  variant  coherence  diversity     score\n",
       "0     HWN   0.404509        1.0  0.404509"
      ]
     },
     "execution_count": 8,
     "metadata": {},
     "output_type": "execute_result"
    }
   ],
   "source": [
    "evaluation_bertopic"
   ]
  }
 ],
 "metadata": {
  "kernelspec": {
   "display_name": ".venv",
   "language": "python",
   "name": "python3"
  },
  "language_info": {
   "codemirror_mode": {
    "name": "ipython",
    "version": 3
   },
   "file_extension": ".py",
   "mimetype": "text/x-python",
   "name": "python",
   "nbconvert_exporter": "python",
   "pygments_lexer": "ipython3",
   "version": "3.8.10"
  },
  "orig_nbformat": 4
 },
 "nbformat": 4,
 "nbformat_minor": 2
}
