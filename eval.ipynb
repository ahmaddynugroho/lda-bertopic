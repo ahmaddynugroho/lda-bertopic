{
 "cells": [
  {
   "cell_type": "code",
   "execution_count": 1,
   "metadata": {},
   "outputs": [],
   "source": [
    "import pandas as pd\n",
    "\n",
    "ds = pd.read_parquet('./results/ds.parquet')\n",
    "elapse_time = pd.read_csv('./results/elapse_time.csv')"
   ]
  },
  {
   "cell_type": "code",
   "execution_count": 2,
   "metadata": {},
   "outputs": [
    {
     "name": "stderr",
     "output_type": "stream",
     "text": [
      "d:\\repo\\lda-bertopic\\.venv\\lib\\site-packages\\umap\\distances.py:1063: NumbaDeprecationWarning: \u001b[1mThe 'nopython' keyword argument was not supplied to the 'numba.jit' decorator. The implicit default value for this argument is currently False, but it will be changed to True in Numba 0.59.0. See https://numba.readthedocs.io/en/stable/reference/deprecation.html#deprecation-of-object-mode-fall-back-behaviour-when-using-jit for details.\u001b[0m\n",
      "  @numba.jit()\n",
      "d:\\repo\\lda-bertopic\\.venv\\lib\\site-packages\\umap\\distances.py:1071: NumbaDeprecationWarning: \u001b[1mThe 'nopython' keyword argument was not supplied to the 'numba.jit' decorator. The implicit default value for this argument is currently False, but it will be changed to True in Numba 0.59.0. See https://numba.readthedocs.io/en/stable/reference/deprecation.html#deprecation-of-object-mode-fall-back-behaviour-when-using-jit for details.\u001b[0m\n",
      "  @numba.jit()\n",
      "d:\\repo\\lda-bertopic\\.venv\\lib\\site-packages\\umap\\distances.py:1086: NumbaDeprecationWarning: \u001b[1mThe 'nopython' keyword argument was not supplied to the 'numba.jit' decorator. The implicit default value for this argument is currently False, but it will be changed to True in Numba 0.59.0. See https://numba.readthedocs.io/en/stable/reference/deprecation.html#deprecation-of-object-mode-fall-back-behaviour-when-using-jit for details.\u001b[0m\n",
      "  @numba.jit()\n",
      "d:\\repo\\lda-bertopic\\.venv\\lib\\site-packages\\tqdm\\auto.py:21: TqdmWarning: IProgress not found. Please update jupyter and ipywidgets. See https://ipywidgets.readthedocs.io/en/stable/user_install.html\n",
      "  from .autonotebook import tqdm as notebook_tqdm\n",
      "d:\\repo\\lda-bertopic\\.venv\\lib\\site-packages\\umap\\umap_.py:660: NumbaDeprecationWarning: \u001b[1mThe 'nopython' keyword argument was not supplied to the 'numba.jit' decorator. The implicit default value for this argument is currently False, but it will be changed to True in Numba 0.59.0. See https://numba.readthedocs.io/en/stable/reference/deprecation.html#deprecation-of-object-mode-fall-back-behaviour-when-using-jit for details.\u001b[0m\n",
      "  @numba.jit()\n"
     ]
    }
   ],
   "source": [
    "from bertopic import BERTopic\n",
    "from gensim.models.ldamulticore import LdaMulticore\n",
    "from utils import e_variant\n",
    "\n",
    "def load_ldas():\n",
    "    r = {} # result\n",
    "    for v in ds:\n",
    "        r[v] = LdaMulticore.load(f'./results/models_lda/{v}')\n",
    "    return r\n",
    "\n",
    "def load_bertopics():\n",
    "    path_prefix = './results/models_bertopic/'\n",
    "    r = {}\n",
    "    for v in ds:\n",
    "        r[v] = {}\n",
    "        r[v] = BERTopic.load(f'{path_prefix}{v}')\n",
    "    return r"
   ]
  },
  {
   "cell_type": "code",
   "execution_count": 3,
   "metadata": {},
   "outputs": [],
   "source": [
    "ldas = load_ldas()\n",
    "bertopics = load_bertopics()"
   ]
  },
  {
   "cell_type": "code",
   "execution_count": 4,
   "metadata": {},
   "outputs": [],
   "source": [
    "from time import time\n",
    "from gensim.corpora.dictionary import Dictionary\n",
    "from utils import get_topics_lda, get_topics_bertopic, get_coherence, get_diversity\n",
    "\n",
    "def evaluate_models(models, lda=False):\n",
    "    r = []\n",
    "    r_time = []\n",
    "    for v in ds:\n",
    "        t_start = time()\n",
    "        docs = ds[v].dropna()\n",
    "        if lda:\n",
    "            topics = get_topics_lda(models[v], models[v].id2word)\n",
    "            texts = docs\n",
    "            dictionary = models[v].id2word\n",
    "        else:\n",
    "            topics = get_topics_bertopic(bertopics[v])\n",
    "            analyzer = models[v].vectorizer_model.build_analyzer()\n",
    "            texts = [' '.join(doc) for doc in docs]\n",
    "            texts = [analyzer(doc) for doc in texts]\n",
    "            dictionary = Dictionary(texts)\n",
    "        c = get_coherence(\n",
    "            topics=topics,\n",
    "            texts=texts,\n",
    "            dictionary=dictionary,\n",
    "        )\n",
    "        d = get_diversity(topics)\n",
    "        t_end = time()\n",
    "        r_time.append(t_end - t_start)\n",
    "        r.append({\n",
    "            'variant': v,\n",
    "            'coherence': c,\n",
    "            'diversity': d,\n",
    "            'score': c * d\n",
    "        })\n",
    "    algorithm = 'lda' if lda else 'bertopic'\n",
    "    elapse_time[f'{algorithm}_evaluation'] = pd.Series(r_time)\n",
    "    return pd.DataFrame(r)"
   ]
  },
  {
   "cell_type": "code",
   "execution_count": 5,
   "metadata": {},
   "outputs": [],
   "source": [
    "import pandas as pd\n",
    "\n",
    "evaluation_lda = pd.DataFrame(evaluate_models(ldas, lda=True))"
   ]
  },
  {
   "cell_type": "code",
   "execution_count": 6,
   "metadata": {},
   "outputs": [],
   "source": [
    "evaluation_bertopic = pd.DataFrame(evaluate_models(bertopics))"
   ]
  },
  {
   "cell_type": "code",
   "execution_count": 7,
   "metadata": {},
   "outputs": [
    {
     "data": {
      "text/html": [
       "<div>\n",
       "<style scoped>\n",
       "    .dataframe tbody tr th:only-of-type {\n",
       "        vertical-align: middle;\n",
       "    }\n",
       "\n",
       "    .dataframe tbody tr th {\n",
       "        vertical-align: top;\n",
       "    }\n",
       "\n",
       "    .dataframe thead th {\n",
       "        text-align: right;\n",
       "    }\n",
       "</style>\n",
       "<table border=\"1\" class=\"dataframe\">\n",
       "  <thead>\n",
       "    <tr style=\"text-align: right;\">\n",
       "      <th></th>\n",
       "      <th>variant</th>\n",
       "      <th>nlp</th>\n",
       "      <th>preprocessing</th>\n",
       "      <th>lda_training</th>\n",
       "      <th>bertopic_training</th>\n",
       "      <th>lda_evaluation</th>\n",
       "      <th>bertopic_evaluation</th>\n",
       "    </tr>\n",
       "  </thead>\n",
       "  <tbody>\n",
       "    <tr>\n",
       "      <th>0</th>\n",
       "      <td>dCL</td>\n",
       "      <td>26.75152</td>\n",
       "      <td>0.015996</td>\n",
       "      <td>22.314663</td>\n",
       "      <td>57.348722</td>\n",
       "      <td>5.392719</td>\n",
       "      <td>4.019900</td>\n",
       "    </tr>\n",
       "    <tr>\n",
       "      <th>1</th>\n",
       "      <td>DCL</td>\n",
       "      <td>26.75152</td>\n",
       "      <td>0.015996</td>\n",
       "      <td>21.944010</td>\n",
       "      <td>11.408381</td>\n",
       "      <td>4.875149</td>\n",
       "      <td>3.980268</td>\n",
       "    </tr>\n",
       "    <tr>\n",
       "      <th>2</th>\n",
       "      <td>dLWN</td>\n",
       "      <td>26.75152</td>\n",
       "      <td>0.097994</td>\n",
       "      <td>26.633091</td>\n",
       "      <td>35.589177</td>\n",
       "      <td>3.683330</td>\n",
       "      <td>3.687485</td>\n",
       "    </tr>\n",
       "    <tr>\n",
       "      <th>3</th>\n",
       "      <td>DLWN</td>\n",
       "      <td>26.75152</td>\n",
       "      <td>0.184994</td>\n",
       "      <td>18.792636</td>\n",
       "      <td>12.978124</td>\n",
       "      <td>3.987625</td>\n",
       "      <td>3.776740</td>\n",
       "    </tr>\n",
       "  </tbody>\n",
       "</table>\n",
       "</div>"
      ],
      "text/plain": [
       "  variant       nlp  preprocessing  lda_training  bertopic_training  \\\n",
       "0     dCL  26.75152       0.015996     22.314663          57.348722   \n",
       "1     DCL  26.75152       0.015996     21.944010          11.408381   \n",
       "2    dLWN  26.75152       0.097994     26.633091          35.589177   \n",
       "3    DLWN  26.75152       0.184994     18.792636          12.978124   \n",
       "\n",
       "   lda_evaluation  bertopic_evaluation  \n",
       "0        5.392719             4.019900  \n",
       "1        4.875149             3.980268  \n",
       "2        3.683330             3.687485  \n",
       "3        3.987625             3.776740  "
      ]
     },
     "execution_count": 7,
     "metadata": {},
     "output_type": "execute_result"
    }
   ],
   "source": [
    "elapse_time"
   ]
  },
  {
   "cell_type": "code",
   "execution_count": 8,
   "metadata": {},
   "outputs": [
    {
     "data": {
      "text/html": [
       "<div>\n",
       "<style scoped>\n",
       "    .dataframe tbody tr th:only-of-type {\n",
       "        vertical-align: middle;\n",
       "    }\n",
       "\n",
       "    .dataframe tbody tr th {\n",
       "        vertical-align: top;\n",
       "    }\n",
       "\n",
       "    .dataframe thead th {\n",
       "        text-align: right;\n",
       "    }\n",
       "</style>\n",
       "<table border=\"1\" class=\"dataframe\">\n",
       "  <thead>\n",
       "    <tr style=\"text-align: right;\">\n",
       "      <th></th>\n",
       "      <th>variant</th>\n",
       "      <th>coherence</th>\n",
       "      <th>diversity</th>\n",
       "      <th>score</th>\n",
       "    </tr>\n",
       "  </thead>\n",
       "  <tbody>\n",
       "    <tr>\n",
       "      <th>0</th>\n",
       "      <td>dCL</td>\n",
       "      <td>0.454724</td>\n",
       "      <td>0.129688</td>\n",
       "      <td>0.058972</td>\n",
       "    </tr>\n",
       "    <tr>\n",
       "      <th>1</th>\n",
       "      <td>DCL</td>\n",
       "      <td>0.340701</td>\n",
       "      <td>0.129688</td>\n",
       "      <td>0.044185</td>\n",
       "    </tr>\n",
       "    <tr>\n",
       "      <th>2</th>\n",
       "      <td>dLWN</td>\n",
       "      <td>0.291858</td>\n",
       "      <td>0.500000</td>\n",
       "      <td>0.145929</td>\n",
       "    </tr>\n",
       "    <tr>\n",
       "      <th>3</th>\n",
       "      <td>DLWN</td>\n",
       "      <td>0.348887</td>\n",
       "      <td>0.500000</td>\n",
       "      <td>0.174444</td>\n",
       "    </tr>\n",
       "  </tbody>\n",
       "</table>\n",
       "</div>"
      ],
      "text/plain": [
       "  variant  coherence  diversity     score\n",
       "0     dCL   0.454724   0.129688  0.058972\n",
       "1     DCL   0.340701   0.129688  0.044185\n",
       "2    dLWN   0.291858   0.500000  0.145929\n",
       "3    DLWN   0.348887   0.500000  0.174444"
      ]
     },
     "execution_count": 8,
     "metadata": {},
     "output_type": "execute_result"
    }
   ],
   "source": [
    "evaluation_lda"
   ]
  },
  {
   "cell_type": "code",
   "execution_count": 9,
   "metadata": {},
   "outputs": [
    {
     "data": {
      "text/html": [
       "<div>\n",
       "<style scoped>\n",
       "    .dataframe tbody tr th:only-of-type {\n",
       "        vertical-align: middle;\n",
       "    }\n",
       "\n",
       "    .dataframe tbody tr th {\n",
       "        vertical-align: top;\n",
       "    }\n",
       "\n",
       "    .dataframe thead th {\n",
       "        text-align: right;\n",
       "    }\n",
       "</style>\n",
       "<table border=\"1\" class=\"dataframe\">\n",
       "  <thead>\n",
       "    <tr style=\"text-align: right;\">\n",
       "      <th></th>\n",
       "      <th>variant</th>\n",
       "      <th>coherence</th>\n",
       "      <th>diversity</th>\n",
       "      <th>score</th>\n",
       "    </tr>\n",
       "  </thead>\n",
       "  <tbody>\n",
       "    <tr>\n",
       "      <th>0</th>\n",
       "      <td>dCL</td>\n",
       "      <td>0.405232</td>\n",
       "      <td>1.0</td>\n",
       "      <td>0.405232</td>\n",
       "    </tr>\n",
       "    <tr>\n",
       "      <th>1</th>\n",
       "      <td>DCL</td>\n",
       "      <td>0.343653</td>\n",
       "      <td>1.0</td>\n",
       "      <td>0.343653</td>\n",
       "    </tr>\n",
       "    <tr>\n",
       "      <th>2</th>\n",
       "      <td>dLWN</td>\n",
       "      <td>0.307534</td>\n",
       "      <td>1.0</td>\n",
       "      <td>0.307534</td>\n",
       "    </tr>\n",
       "    <tr>\n",
       "      <th>3</th>\n",
       "      <td>DLWN</td>\n",
       "      <td>0.342356</td>\n",
       "      <td>1.0</td>\n",
       "      <td>0.342356</td>\n",
       "    </tr>\n",
       "  </tbody>\n",
       "</table>\n",
       "</div>"
      ],
      "text/plain": [
       "  variant  coherence  diversity     score\n",
       "0     dCL   0.405232        1.0  0.405232\n",
       "1     DCL   0.343653        1.0  0.343653\n",
       "2    dLWN   0.307534        1.0  0.307534\n",
       "3    DLWN   0.342356        1.0  0.342356"
      ]
     },
     "execution_count": 9,
     "metadata": {},
     "output_type": "execute_result"
    }
   ],
   "source": [
    "evaluation_bertopic"
   ]
  },
  {
   "cell_type": "code",
   "execution_count": 10,
   "metadata": {},
   "outputs": [],
   "source": [
    "elapse_time.to_csv('./results/elapse_time.csv', index=False)\n",
    "evaluation_lda.to_csv('./results/evaluation_lda.csv', index=False)\n",
    "evaluation_bertopic.to_csv('./results/evaluation_bertopic.csv', index=False)"
   ]
  }
 ],
 "metadata": {
  "kernelspec": {
   "display_name": ".venv",
   "language": "python",
   "name": "python3"
  },
  "language_info": {
   "codemirror_mode": {
    "name": "ipython",
    "version": 3
   },
   "file_extension": ".py",
   "mimetype": "text/x-python",
   "name": "python",
   "nbconvert_exporter": "python",
   "pygments_lexer": "ipython3",
   "version": "3.8.10"
  },
  "orig_nbformat": 4
 },
 "nbformat": 4,
 "nbformat_minor": 2
}
