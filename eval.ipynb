{
 "cells": [
  {
   "cell_type": "code",
   "execution_count": 1,
   "metadata": {},
   "outputs": [],
   "source": [
    "PATH_FILE_PREPROCESSED = './results/ds.parquet'\n",
    "PATH_FILE_ELAPSE_TIME = './results/elapse_time.csv'\n",
    "PATH_FILE_EVALUATION_LDA = './results/evaluation_lda.csv'\n",
    "PATH_FILE_EVALUATION_BERTOPIC = './results/evaluation_bertopic.csv'\n",
    "PATH_PREFIX_MODEL_LDA = './results/models_lda/'\n",
    "PATH_PREFIX_MODEL_BERTOPIC = './results/models_bertopic/'"
   ]
  },
  {
   "cell_type": "code",
   "execution_count": 2,
   "metadata": {},
   "outputs": [],
   "source": [
    "import pandas as pd\n",
    "\n",
    "ds = pd.read_parquet(PATH_FILE_PREPROCESSED)\n",
    "elapse_time = pd.read_csv(PATH_FILE_ELAPSE_TIME)"
   ]
  },
  {
   "cell_type": "code",
   "execution_count": 10,
   "metadata": {},
   "outputs": [],
   "source": [
    "from time import time\n",
    "\n",
    "from gensim.models.ldamulticore import LdaMulticore\n",
    "from gensim.corpora.dictionary import Dictionary\n",
    "from bertopic import BERTopic\n",
    "\n",
    "from utils import get_coherence, get_diversity, get_topics_lda, get_topics_bertopic\n",
    "\n",
    "\n",
    "def load_eval(variant, bertopic=False):\n",
    "    t_start = time()\n",
    "    docs = ds[variant].dropna()\n",
    "    if bertopic:\n",
    "        model = BERTopic.load(f'{PATH_PREFIX_MODEL_BERTOPIC}{variant}')\n",
    "        topics = get_topics_bertopic(model)\n",
    "        analyzer = model.vectorizer_model.build_analyzer()\n",
    "        texts = [' '.join(doc) for doc in docs]\n",
    "        texts = [analyzer(doc) for doc in texts]\n",
    "        dictionary = Dictionary(texts)\n",
    "    else:\n",
    "        model = LdaMulticore.load(f'{PATH_PREFIX_MODEL_LDA}{variant}')\n",
    "        topics = get_topics_lda(model, model.id2word)\n",
    "        texts = docs\n",
    "        dictionary = model.id2word\n",
    "    c = get_coherence(\n",
    "        topics=topics,\n",
    "        texts=texts,\n",
    "        dictionary=dictionary\n",
    "    )\n",
    "    d = get_diversity(topics)\n",
    "    total_time = time() - t_start\n",
    "    return ({\n",
    "        'variant': variant,\n",
    "        'coherence': c,\n",
    "        'diversity': d,\n",
    "        'score': c*d\n",
    "    }, total_time)"
   ]
  },
  {
   "cell_type": "code",
   "execution_count": 4,
   "metadata": {},
   "outputs": [
    {
     "name": "stderr",
     "output_type": "stream",
     "text": [
      "Evaluating LDA DSWP: 100%|██████████| 4/4 [00:05<00:00,  1.36s/it]\n"
     ]
    }
   ],
   "source": [
    "from tqdm import tqdm\n",
    "\n",
    "lda_eval = []\n",
    "elapse_time_lda = []\n",
    "\n",
    "for v in (tds := tqdm(ds.columns)):\n",
    "    tds.set_description(f'Evaluating LDA {v}')\n",
    "    if 'B' in v: \n",
    "        elapse_time_lda.append(0)\n",
    "        continue\n",
    "    lda_score, lda_time = load_eval(v)\n",
    "    lda_eval.append(lda_score)\n",
    "    elapse_time_lda.append(lda_time)\n",
    "\n",
    "lda_eval = pd.DataFrame(lda_eval)\n",
    "elapse_time['lda_evaluation'] = pd.Series(elapse_time_lda)"
   ]
  },
  {
   "cell_type": "code",
   "execution_count": 11,
   "metadata": {},
   "outputs": [
    {
     "name": "stderr",
     "output_type": "stream",
     "text": [
      "Evaluating BERTopic DSWP: 100%|██████████| 4/4 [00:06<00:00,  1.59s/it]\n"
     ]
    }
   ],
   "source": [
    "from tqdm import tqdm\n",
    "\n",
    "bertopic_eval = []\n",
    "elapse_time_bertopic = []\n",
    "\n",
    "for v in (tds := tqdm(ds.columns)):\n",
    "    tds.set_description(f'Evaluating BERTopic {v}')\n",
    "    if 'T' in v: \n",
    "        elapse_time_bertopic.append(0)\n",
    "        continue\n",
    "    bertopic_score, bertopic_time = load_eval(v, bertopic=True)\n",
    "    bertopic_eval.append(bertopic_score)\n",
    "    elapse_time_bertopic.append(bertopic_time)\n",
    "\n",
    "bertopic_eval = pd.DataFrame(bertopic_eval)\n",
    "elapse_time['bertopic_evaluation'] = pd.Series(elapse_time_bertopic)"
   ]
  },
  {
   "cell_type": "code",
   "execution_count": 6,
   "metadata": {},
   "outputs": [
    {
     "data": {
      "text/html": [
       "<div>\n",
       "<style scoped>\n",
       "    .dataframe tbody tr th:only-of-type {\n",
       "        vertical-align: middle;\n",
       "    }\n",
       "\n",
       "    .dataframe tbody tr th {\n",
       "        vertical-align: top;\n",
       "    }\n",
       "\n",
       "    .dataframe thead th {\n",
       "        text-align: right;\n",
       "    }\n",
       "</style>\n",
       "<table border=\"1\" class=\"dataframe\">\n",
       "  <thead>\n",
       "    <tr style=\"text-align: right;\">\n",
       "      <th></th>\n",
       "      <th>variant</th>\n",
       "      <th>coherence</th>\n",
       "      <th>diversity</th>\n",
       "      <th>score</th>\n",
       "    </tr>\n",
       "  </thead>\n",
       "  <tbody>\n",
       "    <tr>\n",
       "      <th>0</th>\n",
       "      <td>dSG</td>\n",
       "      <td>0.415888</td>\n",
       "      <td>0.017500</td>\n",
       "      <td>0.007278</td>\n",
       "    </tr>\n",
       "    <tr>\n",
       "      <th>1</th>\n",
       "      <td>DSG</td>\n",
       "      <td>0.343492</td>\n",
       "      <td>0.020000</td>\n",
       "      <td>0.006870</td>\n",
       "    </tr>\n",
       "    <tr>\n",
       "      <th>2</th>\n",
       "      <td>dSWP</td>\n",
       "      <td>0.375896</td>\n",
       "      <td>0.614754</td>\n",
       "      <td>0.231084</td>\n",
       "    </tr>\n",
       "    <tr>\n",
       "      <th>3</th>\n",
       "      <td>DSWP</td>\n",
       "      <td>0.469698</td>\n",
       "      <td>0.496875</td>\n",
       "      <td>0.233381</td>\n",
       "    </tr>\n",
       "  </tbody>\n",
       "</table>\n",
       "</div>"
      ],
      "text/plain": [
       "  variant  coherence  diversity     score\n",
       "0     dSG   0.415888   0.017500  0.007278\n",
       "1     DSG   0.343492   0.020000  0.006870\n",
       "2    dSWP   0.375896   0.614754  0.231084\n",
       "3    DSWP   0.469698   0.496875  0.233381"
      ]
     },
     "execution_count": 6,
     "metadata": {},
     "output_type": "execute_result"
    }
   ],
   "source": [
    "lda_eval"
   ]
  },
  {
   "cell_type": "code",
   "execution_count": 12,
   "metadata": {},
   "outputs": [
    {
     "data": {
      "text/html": [
       "<div>\n",
       "<style scoped>\n",
       "    .dataframe tbody tr th:only-of-type {\n",
       "        vertical-align: middle;\n",
       "    }\n",
       "\n",
       "    .dataframe tbody tr th {\n",
       "        vertical-align: top;\n",
       "    }\n",
       "\n",
       "    .dataframe thead th {\n",
       "        text-align: right;\n",
       "    }\n",
       "</style>\n",
       "<table border=\"1\" class=\"dataframe\">\n",
       "  <thead>\n",
       "    <tr style=\"text-align: right;\">\n",
       "      <th></th>\n",
       "      <th>variant</th>\n",
       "      <th>coherence</th>\n",
       "      <th>diversity</th>\n",
       "      <th>score</th>\n",
       "    </tr>\n",
       "  </thead>\n",
       "  <tbody>\n",
       "    <tr>\n",
       "      <th>0</th>\n",
       "      <td>dSG</td>\n",
       "      <td>0.702989</td>\n",
       "      <td>0.928788</td>\n",
       "      <td>0.652928</td>\n",
       "    </tr>\n",
       "    <tr>\n",
       "      <th>1</th>\n",
       "      <td>DSG</td>\n",
       "      <td>0.785290</td>\n",
       "      <td>0.700000</td>\n",
       "      <td>0.549703</td>\n",
       "    </tr>\n",
       "    <tr>\n",
       "      <th>2</th>\n",
       "      <td>dSWP</td>\n",
       "      <td>0.578578</td>\n",
       "      <td>0.955814</td>\n",
       "      <td>0.553013</td>\n",
       "    </tr>\n",
       "    <tr>\n",
       "      <th>3</th>\n",
       "      <td>DSWP</td>\n",
       "      <td>0.543960</td>\n",
       "      <td>1.000000</td>\n",
       "      <td>0.543960</td>\n",
       "    </tr>\n",
       "  </tbody>\n",
       "</table>\n",
       "</div>"
      ],
      "text/plain": [
       "  variant  coherence  diversity     score\n",
       "0     dSG   0.702989   0.928788  0.652928\n",
       "1     DSG   0.785290   0.700000  0.549703\n",
       "2    dSWP   0.578578   0.955814  0.553013\n",
       "3    DSWP   0.543960   1.000000  0.543960"
      ]
     },
     "execution_count": 12,
     "metadata": {},
     "output_type": "execute_result"
    }
   ],
   "source": [
    "bertopic_eval"
   ]
  },
  {
   "cell_type": "code",
   "execution_count": 8,
   "metadata": {},
   "outputs": [
    {
     "data": {
      "text/html": [
       "<div>\n",
       "<style scoped>\n",
       "    .dataframe tbody tr th:only-of-type {\n",
       "        vertical-align: middle;\n",
       "    }\n",
       "\n",
       "    .dataframe tbody tr th {\n",
       "        vertical-align: top;\n",
       "    }\n",
       "\n",
       "    .dataframe thead th {\n",
       "        text-align: right;\n",
       "    }\n",
       "</style>\n",
       "<table border=\"1\" class=\"dataframe\">\n",
       "  <thead>\n",
       "    <tr style=\"text-align: right;\">\n",
       "      <th></th>\n",
       "      <th>variant</th>\n",
       "      <th>tokenizing</th>\n",
       "      <th>preprocessing</th>\n",
       "      <th>lda_training</th>\n",
       "      <th>bertopic_training</th>\n",
       "      <th>lda_evaluation</th>\n",
       "      <th>bertopic_evaluation</th>\n",
       "    </tr>\n",
       "  </thead>\n",
       "  <tbody>\n",
       "    <tr>\n",
       "      <th>0</th>\n",
       "      <td>dSG</td>\n",
       "      <td>4.591405</td>\n",
       "      <td>1.534670</td>\n",
       "      <td>4.760596</td>\n",
       "      <td>12.345006</td>\n",
       "      <td>0.793283</td>\n",
       "      <td>2.095778</td>\n",
       "    </tr>\n",
       "    <tr>\n",
       "      <th>1</th>\n",
       "      <td>DSG</td>\n",
       "      <td>4.591405</td>\n",
       "      <td>1.534672</td>\n",
       "      <td>4.620546</td>\n",
       "      <td>3.080706</td>\n",
       "      <td>1.065450</td>\n",
       "      <td>1.221303</td>\n",
       "    </tr>\n",
       "    <tr>\n",
       "      <th>2</th>\n",
       "      <td>dSWP</td>\n",
       "      <td>4.591405</td>\n",
       "      <td>0.573513</td>\n",
       "      <td>7.186311</td>\n",
       "      <td>6.884520</td>\n",
       "      <td>1.121705</td>\n",
       "      <td>2.247856</td>\n",
       "    </tr>\n",
       "    <tr>\n",
       "      <th>3</th>\n",
       "      <td>DSWP</td>\n",
       "      <td>4.591405</td>\n",
       "      <td>0.702334</td>\n",
       "      <td>7.947597</td>\n",
       "      <td>2.630113</td>\n",
       "      <td>2.438741</td>\n",
       "      <td>0.304405</td>\n",
       "    </tr>\n",
       "  </tbody>\n",
       "</table>\n",
       "</div>"
      ],
      "text/plain": [
       "  variant  tokenizing  preprocessing  lda_training  bertopic_training  \\\n",
       "0     dSG    4.591405       1.534670      4.760596          12.345006   \n",
       "1     DSG    4.591405       1.534672      4.620546           3.080706   \n",
       "2    dSWP    4.591405       0.573513      7.186311           6.884520   \n",
       "3    DSWP    4.591405       0.702334      7.947597           2.630113   \n",
       "\n",
       "   lda_evaluation  bertopic_evaluation  \n",
       "0        0.793283             2.095778  \n",
       "1        1.065450             1.221303  \n",
       "2        1.121705             2.247856  \n",
       "3        2.438741             0.304405  "
      ]
     },
     "execution_count": 8,
     "metadata": {},
     "output_type": "execute_result"
    }
   ],
   "source": [
    "elapse_time"
   ]
  },
  {
   "cell_type": "code",
   "execution_count": 9,
   "metadata": {},
   "outputs": [],
   "source": [
    "elapse_time.to_csv(PATH_FILE_ELAPSE_TIME, index=False)\n",
    "lda_eval.to_csv(PATH_FILE_EVALUATION_LDA, index=False)\n",
    "bertopic_eval.to_csv(PATH_FILE_EVALUATION_BERTOPIC, index=False)"
   ]
  }
 ],
 "metadata": {
  "kernelspec": {
   "display_name": "Python 3 (ipykernel)",
   "language": "python",
   "name": "python3"
  },
  "language_info": {
   "codemirror_mode": {
    "name": "ipython",
    "version": 3
   },
   "file_extension": ".py",
   "mimetype": "text/x-python",
   "name": "python",
   "nbconvert_exporter": "python",
   "pygments_lexer": "ipython3",
   "version": "3.10.12"
  },
  "orig_nbformat": 4
 },
 "nbformat": 4,
 "nbformat_minor": 2
}
