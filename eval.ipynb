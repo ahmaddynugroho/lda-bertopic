{
 "cells": [
  {
   "cell_type": "code",
   "execution_count": 1,
   "metadata": {},
   "outputs": [],
   "source": [
    "PATH_FILE_PREPROCESSED = './results/ds.parquet'\n",
    "PATH_FILE_ELAPSE_TIME = './results/elapse_time.csv'\n",
    "PATH_FILE_EVALUATION_LDA = './results/evaluation_lda.csv'\n",
    "PATH_FILE_EVALUATION_BERTOPIC = './results/evaluation_bertopic.csv'\n",
    "PATH_PREFIX_MODEL_LDA = './results/models_lda/'\n",
    "PATH_PREFIX_MODEL_BERTOPIC = './results/models_bertopic/'"
   ]
  },
  {
   "cell_type": "code",
   "execution_count": 2,
   "metadata": {},
   "outputs": [],
   "source": [
    "import pandas as pd\n",
    "\n",
    "ds = pd.read_parquet(PATH_FILE_PREPROCESSED)\n",
    "elapse_time = pd.read_csv(PATH_FILE_ELAPSE_TIME)"
   ]
  },
  {
   "cell_type": "code",
   "execution_count": 3,
   "metadata": {},
   "outputs": [
    {
     "name": "stderr",
     "output_type": "stream",
     "text": [
      "/home/civbag/mambaforge/envs/lda-bertopic/lib/python3.10/site-packages/umap/distances.py:1063: NumbaDeprecationWarning: \u001b[1mThe 'nopython' keyword argument was not supplied to the 'numba.jit' decorator. The implicit default value for this argument is currently False, but it will be changed to True in Numba 0.59.0. See https://numba.readthedocs.io/en/stable/reference/deprecation.html#deprecation-of-object-mode-fall-back-behaviour-when-using-jit for details.\u001b[0m\n",
      "  @numba.jit()\n",
      "/home/civbag/mambaforge/envs/lda-bertopic/lib/python3.10/site-packages/umap/distances.py:1071: NumbaDeprecationWarning: \u001b[1mThe 'nopython' keyword argument was not supplied to the 'numba.jit' decorator. The implicit default value for this argument is currently False, but it will be changed to True in Numba 0.59.0. See https://numba.readthedocs.io/en/stable/reference/deprecation.html#deprecation-of-object-mode-fall-back-behaviour-when-using-jit for details.\u001b[0m\n",
      "  @numba.jit()\n",
      "/home/civbag/mambaforge/envs/lda-bertopic/lib/python3.10/site-packages/umap/distances.py:1086: NumbaDeprecationWarning: \u001b[1mThe 'nopython' keyword argument was not supplied to the 'numba.jit' decorator. The implicit default value for this argument is currently False, but it will be changed to True in Numba 0.59.0. See https://numba.readthedocs.io/en/stable/reference/deprecation.html#deprecation-of-object-mode-fall-back-behaviour-when-using-jit for details.\u001b[0m\n",
      "  @numba.jit()\n",
      "/home/civbag/mambaforge/envs/lda-bertopic/lib/python3.10/site-packages/umap/umap_.py:660: NumbaDeprecationWarning: \u001b[1mThe 'nopython' keyword argument was not supplied to the 'numba.jit' decorator. The implicit default value for this argument is currently False, but it will be changed to True in Numba 0.59.0. See https://numba.readthedocs.io/en/stable/reference/deprecation.html#deprecation-of-object-mode-fall-back-behaviour-when-using-jit for details.\u001b[0m\n",
      "  @numba.jit()\n"
     ]
    }
   ],
   "source": [
    "from time import time\n",
    "\n",
    "from gensim.models.ldamulticore import LdaMulticore\n",
    "from gensim.corpora.dictionary import Dictionary\n",
    "from bertopic import BERTopic\n",
    "\n",
    "from utils import get_coherence, get_diversity, get_topics_lda, get_topics_bertopic\n",
    "\n",
    "\n",
    "def load_eval(variant, bertopic=False):\n",
    "    t_start = time()\n",
    "    docs = ds[variant].dropna()\n",
    "    if bertopic:\n",
    "        model = BERTopic.load(f'{PATH_PREFIX_MODEL_BERTOPIC}{variant}')\n",
    "        topics = get_topics_bertopic(model)\n",
    "        analyzer = model.vectorizer_model.build_analyzer()\n",
    "        texts = [' '.join(doc) for doc in docs] if 'B' not in v else docs\n",
    "        texts = [analyzer(doc) for doc in texts]\n",
    "        dictionary = Dictionary(texts)\n",
    "    else:\n",
    "        model = LdaMulticore.load(f'{PATH_PREFIX_MODEL_LDA}{variant}')\n",
    "        topics = get_topics_lda(model, model.id2word)\n",
    "        texts = docs\n",
    "        dictionary = model.id2word\n",
    "    c = get_coherence(\n",
    "        topics=topics,\n",
    "        texts=texts,\n",
    "        dictionary=dictionary\n",
    "    )\n",
    "    d = get_diversity(topics)\n",
    "    total_time = time() - t_start\n",
    "    return ({\n",
    "        'variant': variant,\n",
    "        'coherence': c,\n",
    "        'diversity': d,\n",
    "        'score': c*d\n",
    "    }, total_time)"
   ]
  },
  {
   "cell_type": "code",
   "execution_count": 4,
   "metadata": {},
   "outputs": [
    {
     "name": "stderr",
     "output_type": "stream",
     "text": [
      "Evaluating LDA DLWN: 100%|██████████| 2/2 [00:05<00:00,  2.65s/it]\n"
     ]
    }
   ],
   "source": [
    "from tqdm import tqdm\n",
    "\n",
    "lda_eval = []\n",
    "elapse_time_lda = []\n",
    "\n",
    "for v in (tds := tqdm(ds.columns)):\n",
    "    tds.set_description(f'Evaluating LDA {v}')\n",
    "    if 'B' in v: continue\n",
    "    lda_score, lda_time = load_eval(v)\n",
    "    lda_eval.append(lda_score)\n",
    "    elapse_time_lda.append(lda_time)\n",
    "\n",
    "lda_eval = pd.DataFrame(lda_eval)\n",
    "elapse_time['lda_evaluation'] = pd.Series(elapse_time_lda)"
   ]
  },
  {
   "cell_type": "code",
   "execution_count": 5,
   "metadata": {},
   "outputs": [
    {
     "name": "stderr",
     "output_type": "stream",
     "text": [
      "Evaluating BERTopic DLWN: 100%|██████████| 2/2 [00:14<00:00,  7.11s/it]\n"
     ]
    }
   ],
   "source": [
    "from tqdm import tqdm\n",
    "\n",
    "bertopic_eval = []\n",
    "elapse_time_bertopic = []\n",
    "\n",
    "for v in (tds := tqdm(ds.columns)):\n",
    "    tds.set_description(f'Evaluating BERTopic {v}')\n",
    "    if 'T' in v: continue\n",
    "    bertopic_score, bertopic_time = load_eval(v, bertopic=True)\n",
    "    bertopic_eval.append(bertopic_score)\n",
    "    elapse_time_bertopic.append(bertopic_time)\n",
    "\n",
    "bertopic_eval = pd.DataFrame(bertopic_eval)\n",
    "elapse_time['bertopic_evaluation'] = pd.Series(elapse_time_bertopic)"
   ]
  },
  {
   "cell_type": "code",
   "execution_count": 6,
   "metadata": {},
   "outputs": [
    {
     "data": {
      "text/html": [
       "<div>\n",
       "<style scoped>\n",
       "    .dataframe tbody tr th:only-of-type {\n",
       "        vertical-align: middle;\n",
       "    }\n",
       "\n",
       "    .dataframe tbody tr th {\n",
       "        vertical-align: top;\n",
       "    }\n",
       "\n",
       "    .dataframe thead th {\n",
       "        text-align: right;\n",
       "    }\n",
       "</style>\n",
       "<table border=\"1\" class=\"dataframe\">\n",
       "  <thead>\n",
       "    <tr style=\"text-align: right;\">\n",
       "      <th></th>\n",
       "      <th>variant</th>\n",
       "      <th>coherence</th>\n",
       "      <th>diversity</th>\n",
       "      <th>score</th>\n",
       "    </tr>\n",
       "  </thead>\n",
       "  <tbody>\n",
       "    <tr>\n",
       "      <th>0</th>\n",
       "      <td>dLWN</td>\n",
       "      <td>0.33359</td>\n",
       "      <td>0.280000</td>\n",
       "      <td>0.093405</td>\n",
       "    </tr>\n",
       "    <tr>\n",
       "      <th>1</th>\n",
       "      <td>DLWN</td>\n",
       "      <td>0.42329</td>\n",
       "      <td>0.344944</td>\n",
       "      <td>0.146011</td>\n",
       "    </tr>\n",
       "  </tbody>\n",
       "</table>\n",
       "</div>"
      ],
      "text/plain": [
       "  variant  coherence  diversity     score\n",
       "0    dLWN    0.33359   0.280000  0.093405\n",
       "1    DLWN    0.42329   0.344944  0.146011"
      ]
     },
     "execution_count": 6,
     "metadata": {},
     "output_type": "execute_result"
    }
   ],
   "source": [
    "lda_eval"
   ]
  },
  {
   "cell_type": "code",
   "execution_count": 7,
   "metadata": {},
   "outputs": [
    {
     "data": {
      "text/html": [
       "<div>\n",
       "<style scoped>\n",
       "    .dataframe tbody tr th:only-of-type {\n",
       "        vertical-align: middle;\n",
       "    }\n",
       "\n",
       "    .dataframe tbody tr th {\n",
       "        vertical-align: top;\n",
       "    }\n",
       "\n",
       "    .dataframe thead th {\n",
       "        text-align: right;\n",
       "    }\n",
       "</style>\n",
       "<table border=\"1\" class=\"dataframe\">\n",
       "  <thead>\n",
       "    <tr style=\"text-align: right;\">\n",
       "      <th></th>\n",
       "      <th>variant</th>\n",
       "      <th>coherence</th>\n",
       "      <th>diversity</th>\n",
       "      <th>score</th>\n",
       "    </tr>\n",
       "  </thead>\n",
       "  <tbody>\n",
       "    <tr>\n",
       "      <th>0</th>\n",
       "      <td>dLWN</td>\n",
       "      <td>0.486004</td>\n",
       "      <td>0.901282</td>\n",
       "      <td>0.438026</td>\n",
       "    </tr>\n",
       "    <tr>\n",
       "      <th>1</th>\n",
       "      <td>DLWN</td>\n",
       "      <td>0.626806</td>\n",
       "      <td>1.000000</td>\n",
       "      <td>0.626806</td>\n",
       "    </tr>\n",
       "  </tbody>\n",
       "</table>\n",
       "</div>"
      ],
      "text/plain": [
       "  variant  coherence  diversity     score\n",
       "0    dLWN   0.486004   0.901282  0.438026\n",
       "1    DLWN   0.626806   1.000000  0.626806"
      ]
     },
     "execution_count": 7,
     "metadata": {},
     "output_type": "execute_result"
    }
   ],
   "source": [
    "bertopic_eval"
   ]
  },
  {
   "cell_type": "code",
   "execution_count": 8,
   "metadata": {},
   "outputs": [
    {
     "data": {
      "text/html": [
       "<div>\n",
       "<style scoped>\n",
       "    .dataframe tbody tr th:only-of-type {\n",
       "        vertical-align: middle;\n",
       "    }\n",
       "\n",
       "    .dataframe tbody tr th {\n",
       "        vertical-align: top;\n",
       "    }\n",
       "\n",
       "    .dataframe thead th {\n",
       "        text-align: right;\n",
       "    }\n",
       "</style>\n",
       "<table border=\"1\" class=\"dataframe\">\n",
       "  <thead>\n",
       "    <tr style=\"text-align: right;\">\n",
       "      <th></th>\n",
       "      <th>variant</th>\n",
       "      <th>nlp</th>\n",
       "      <th>preprocessing</th>\n",
       "      <th>lda_training</th>\n",
       "      <th>bertopic_training</th>\n",
       "      <th>lda_evaluation</th>\n",
       "      <th>bertopic_evaluation</th>\n",
       "    </tr>\n",
       "  </thead>\n",
       "  <tbody>\n",
       "    <tr>\n",
       "      <th>0</th>\n",
       "      <td>dLWN</td>\n",
       "      <td>267.22045</td>\n",
       "      <td>0.790498</td>\n",
       "      <td>13.949261</td>\n",
       "      <td>285.131878</td>\n",
       "      <td>2.156977</td>\n",
       "      <td>8.765084</td>\n",
       "    </tr>\n",
       "    <tr>\n",
       "      <th>1</th>\n",
       "      <td>DLWN</td>\n",
       "      <td>267.22045</td>\n",
       "      <td>1.186545</td>\n",
       "      <td>12.185707</td>\n",
       "      <td>30.661990</td>\n",
       "      <td>3.115971</td>\n",
       "      <td>4.547993</td>\n",
       "    </tr>\n",
       "  </tbody>\n",
       "</table>\n",
       "</div>"
      ],
      "text/plain": [
       "  variant        nlp  preprocessing  lda_training  bertopic_training  \\\n",
       "0    dLWN  267.22045       0.790498     13.949261         285.131878   \n",
       "1    DLWN  267.22045       1.186545     12.185707          30.661990   \n",
       "\n",
       "   lda_evaluation  bertopic_evaluation  \n",
       "0        2.156977             8.765084  \n",
       "1        3.115971             4.547993  "
      ]
     },
     "execution_count": 8,
     "metadata": {},
     "output_type": "execute_result"
    }
   ],
   "source": [
    "elapse_time"
   ]
  },
  {
   "cell_type": "code",
   "execution_count": 9,
   "metadata": {},
   "outputs": [],
   "source": [
    "elapse_time.to_csv(PATH_FILE_ELAPSE_TIME, index=False)\n",
    "lda_eval.to_csv(PATH_FILE_EVALUATION_LDA, index=False)\n",
    "bertopic_eval.to_csv(PATH_FILE_EVALUATION_BERTOPIC, index=False)"
   ]
  }
 ],
 "metadata": {
  "kernelspec": {
   "display_name": "Python 3 (ipykernel)",
   "language": "python",
   "name": "python3"
  },
  "language_info": {
   "codemirror_mode": {
    "name": "ipython",
    "version": 3
   },
   "file_extension": ".py",
   "mimetype": "text/x-python",
   "name": "python",
   "nbconvert_exporter": "python",
   "pygments_lexer": "ipython3",
   "version": "3.10.12"
  },
  "orig_nbformat": 4
 },
 "nbformat": 4,
 "nbformat_minor": 2
}
