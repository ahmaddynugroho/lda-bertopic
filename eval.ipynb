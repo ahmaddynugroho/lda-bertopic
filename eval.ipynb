{
 "cells": [
  {
   "cell_type": "code",
   "execution_count": 23,
   "metadata": {},
   "outputs": [],
   "source": [
    "import pickle\n",
    "\n",
    "with open('./datasets/small/embeddings/e_H.pickle', 'rb') as f:\n",
    "    e_H = pickle.load(f)\n",
    "with open('./datasets/small/embeddings/e_A.pickle', 'rb') as f:\n",
    "    e_A = pickle.load(f)\n",
    "with open('./datasets/small/embeddings/e_S.pickle', 'rb') as f:\n",
    "    e_S = pickle.load(f)"
   ]
  },
  {
   "cell_type": "code",
   "execution_count": 24,
   "metadata": {},
   "outputs": [],
   "source": [
    "from bertopic import BERTopic\n",
    "import pandas as pd\n",
    "\n",
    "def load_ldas(variant):\n",
    "    r = {} # result\n",
    "    for v in variant:\n",
    "        with open(f'./datasets/small/models_lda/{v}.pickle', 'rb') as f:\n",
    "            r[v] = pickle.load(f)\n",
    "    return r\n",
    "\n",
    "def load_bertopics(variant):\n",
    "    path_prefix = './datasets/small/models_bertopic/'\n",
    "    r = {}\n",
    "    for v in variant:\n",
    "        r[v] = {}\n",
    "        r[v]['model'] = BERTopic.load(f'{path_prefix}{v}')\n",
    "        r[v]['time'] = pd.read_csv(f'{path_prefix}{v}/time.csv')['time'][0]\n",
    "    return r"
   ]
  },
  {
   "cell_type": "code",
   "execution_count": 25,
   "metadata": {},
   "outputs": [],
   "source": [
    "def e_variant():\n",
    "    # dataset = ['H', 'A', 'S']\n",
    "    dataset = ['H', 'A']\n",
    "    # e_variant = ['T', 'C', 'CL', 'CLW', 'CW', 'L', 'LW', 'W']\n",
    "    variant = ['T', 'CLW']\n",
    "    return [f'{e}{v}' for e in dataset for v in variant]\n",
    "\n",
    "ldas = load_ldas(e_variant())\n",
    "bertopics = load_bertopics(e_variant())"
   ]
  },
  {
   "cell_type": "code",
   "execution_count": 26,
   "metadata": {},
   "outputs": [],
   "source": [
    "from utils import get_topics_lda, get_topics_bertopic, get_diversity, get_coherence\n",
    "\n",
    "def find_embeddings(v):\n",
    "    if v in e_H:\n",
    "        embeddings = e_H\n",
    "    if v in e_A:\n",
    "        embeddings = e_A\n",
    "    if v in e_S:\n",
    "        embeddings = e_S\n",
    "    return embeddings\n",
    "\n",
    "def evaluate_ldas(ldas):\n",
    "    r = [] # result\n",
    "    for v in ldas:\n",
    "        embeddings = find_embeddings(v)\n",
    "        topics = get_topics_lda(ldas[v]['model'], embeddings[v]['id2word'])\n",
    "        r.append({\n",
    "            'variant': v,\n",
    "            'training_time': ldas[v]['time'],\n",
    "            'coherence': get_coherence(\n",
    "                topics=topics,\n",
    "                texts=embeddings[v]['T'],\n",
    "                dictionary=embeddings[v]['id2word']\n",
    "            ),\n",
    "            'diversity': get_diversity(topics)\n",
    "        })\n",
    "    return r\n",
    "\n",
    "def evaluate_bertopics(bertopics):\n",
    "    r = [] # result\n",
    "    for v in bertopics:\n",
    "        embeddings = find_embeddings(v)\n",
    "        topics = get_topics_bertopic(bertopics[v]['model'])\n",
    "        r.append({\n",
    "            'variant': v,\n",
    "            'training_time': bertopics[v]['time'],\n",
    "            'coherence': get_coherence(\n",
    "                topics=topics,\n",
    "                texts=embeddings[v]['T'],\n",
    "                dictionary=embeddings[v]['id2word']\n",
    "            ),\n",
    "            'diversity': get_diversity(topics)\n",
    "        })\n",
    "    return r"
   ]
  },
  {
   "cell_type": "code",
   "execution_count": 27,
   "metadata": {},
   "outputs": [
    {
     "name": "stdout",
     "output_type": "stream",
     "text": [
      "HT\n",
      "HCLW\n",
      "AT\n",
      "ACLW\n",
      "HT\n",
      "HCLW\n",
      "AT\n",
      "ACLW\n"
     ]
    }
   ],
   "source": [
    "evaluation_ldas = pd.DataFrame(evaluate_ldas(ldas))\n",
    "evaluation_bertopics = pd.DataFrame(evaluate_bertopics(bertopics))"
   ]
  },
  {
   "cell_type": "code",
   "execution_count": 28,
   "metadata": {},
   "outputs": [
    {
     "data": {
      "text/html": [
       "<div>\n",
       "<style scoped>\n",
       "    .dataframe tbody tr th:only-of-type {\n",
       "        vertical-align: middle;\n",
       "    }\n",
       "\n",
       "    .dataframe tbody tr th {\n",
       "        vertical-align: top;\n",
       "    }\n",
       "\n",
       "    .dataframe thead th {\n",
       "        text-align: right;\n",
       "    }\n",
       "</style>\n",
       "<table border=\"1\" class=\"dataframe\">\n",
       "  <thead>\n",
       "    <tr style=\"text-align: right;\">\n",
       "      <th></th>\n",
       "      <th>variant</th>\n",
       "      <th>training_time</th>\n",
       "      <th>coherence</th>\n",
       "      <th>diversity</th>\n",
       "    </tr>\n",
       "  </thead>\n",
       "  <tbody>\n",
       "    <tr>\n",
       "      <th>0</th>\n",
       "      <td>HT</td>\n",
       "      <td>19.499277</td>\n",
       "      <td>0.510733</td>\n",
       "      <td>0.620000</td>\n",
       "    </tr>\n",
       "    <tr>\n",
       "      <th>1</th>\n",
       "      <td>HCLW</td>\n",
       "      <td>22.788054</td>\n",
       "      <td>0.416104</td>\n",
       "      <td>0.816667</td>\n",
       "    </tr>\n",
       "    <tr>\n",
       "      <th>2</th>\n",
       "      <td>AT</td>\n",
       "      <td>27.645021</td>\n",
       "      <td>0.312240</td>\n",
       "      <td>0.109091</td>\n",
       "    </tr>\n",
       "    <tr>\n",
       "      <th>3</th>\n",
       "      <td>ACLW</td>\n",
       "      <td>31.318855</td>\n",
       "      <td>0.348385</td>\n",
       "      <td>0.364179</td>\n",
       "    </tr>\n",
       "  </tbody>\n",
       "</table>\n",
       "</div>"
      ],
      "text/plain": [
       "  variant  training_time  coherence  diversity\n",
       "0      HT      19.499277   0.510733   0.620000\n",
       "1    HCLW      22.788054   0.416104   0.816667\n",
       "2      AT      27.645021   0.312240   0.109091\n",
       "3    ACLW      31.318855   0.348385   0.364179"
      ]
     },
     "execution_count": 28,
     "metadata": {},
     "output_type": "execute_result"
    }
   ],
   "source": [
    "evaluation_ldas"
   ]
  },
  {
   "cell_type": "code",
   "execution_count": 29,
   "metadata": {},
   "outputs": [
    {
     "data": {
      "text/html": [
       "<div>\n",
       "<style scoped>\n",
       "    .dataframe tbody tr th:only-of-type {\n",
       "        vertical-align: middle;\n",
       "    }\n",
       "\n",
       "    .dataframe tbody tr th {\n",
       "        vertical-align: top;\n",
       "    }\n",
       "\n",
       "    .dataframe thead th {\n",
       "        text-align: right;\n",
       "    }\n",
       "</style>\n",
       "<table border=\"1\" class=\"dataframe\">\n",
       "  <thead>\n",
       "    <tr style=\"text-align: right;\">\n",
       "      <th></th>\n",
       "      <th>variant</th>\n",
       "      <th>training_time</th>\n",
       "      <th>coherence</th>\n",
       "      <th>diversity</th>\n",
       "    </tr>\n",
       "  </thead>\n",
       "  <tbody>\n",
       "    <tr>\n",
       "      <th>0</th>\n",
       "      <td>HT</td>\n",
       "      <td>8.078880</td>\n",
       "      <td>0.832488</td>\n",
       "      <td>0.940000</td>\n",
       "    </tr>\n",
       "    <tr>\n",
       "      <th>1</th>\n",
       "      <td>HCLW</td>\n",
       "      <td>8.611414</td>\n",
       "      <td>0.318059</td>\n",
       "      <td>1.000000</td>\n",
       "    </tr>\n",
       "    <tr>\n",
       "      <th>2</th>\n",
       "      <td>AT</td>\n",
       "      <td>24.725611</td>\n",
       "      <td>0.338568</td>\n",
       "      <td>0.633333</td>\n",
       "    </tr>\n",
       "    <tr>\n",
       "      <th>3</th>\n",
       "      <td>ACLW</td>\n",
       "      <td>26.733876</td>\n",
       "      <td>0.599488</td>\n",
       "      <td>0.950000</td>\n",
       "    </tr>\n",
       "  </tbody>\n",
       "</table>\n",
       "</div>"
      ],
      "text/plain": [
       "  variant  training_time  coherence  diversity\n",
       "0      HT       8.078880   0.832488   0.940000\n",
       "1    HCLW       8.611414   0.318059   1.000000\n",
       "2      AT      24.725611   0.338568   0.633333\n",
       "3    ACLW      26.733876   0.599488   0.950000"
      ]
     },
     "execution_count": 29,
     "metadata": {},
     "output_type": "execute_result"
    }
   ],
   "source": [
    "evaluation_bertopics"
   ]
  },
  {
   "cell_type": "code",
   "execution_count": null,
   "metadata": {},
   "outputs": [],
   "source": []
  }
 ],
 "metadata": {
  "kernelspec": {
   "display_name": ".venv",
   "language": "python",
   "name": "python3"
  },
  "language_info": {
   "codemirror_mode": {
    "name": "ipython",
    "version": 3
   },
   "file_extension": ".py",
   "mimetype": "text/x-python",
   "name": "python",
   "nbconvert_exporter": "python",
   "pygments_lexer": "ipython3",
   "version": "3.8.10"
  },
  "orig_nbformat": 4
 },
 "nbformat": 4,
 "nbformat_minor": 2
}
