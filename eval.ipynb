{
 "cells": [
  {
   "cell_type": "code",
   "execution_count": 1,
   "metadata": {},
   "outputs": [],
   "source": [
    "import pandas as pd\n",
    "\n",
    "ds = pd.read_parquet('./results/ds.parquet')\n",
    "elapse_time = pd.read_csv('./results/elapse_time.csv')"
   ]
  },
  {
   "cell_type": "code",
   "execution_count": 2,
   "metadata": {},
   "outputs": [],
   "source": [
    "from bertopic import BERTopic\n",
    "from gensim.models.ldamulticore import LdaMulticore\n",
    "from utils import e_variant\n",
    "\n",
    "def load_ldas():\n",
    "    r = {} # result\n",
    "    for v in ds:\n",
    "        r[v] = LdaMulticore.load(f'./results/models_lda/{v}')\n",
    "    return r\n",
    "\n",
    "def load_bertopics():\n",
    "    path_prefix = './results/models_bertopic/'\n",
    "    r = {}\n",
    "    for v in ds:\n",
    "        r[v] = {}\n",
    "        r[v] = BERTopic.load(f'{path_prefix}{v}')\n",
    "    return r"
   ]
  },
  {
   "cell_type": "code",
   "execution_count": 3,
   "metadata": {},
   "outputs": [],
   "source": [
    "ldas = load_ldas()\n",
    "bertopics = load_bertopics()"
   ]
  },
  {
   "cell_type": "code",
   "execution_count": 4,
   "metadata": {},
   "outputs": [],
   "source": [
    "from time import time\n",
    "from gensim.corpora.dictionary import Dictionary\n",
    "from utils import get_topics_lda, get_topics_bertopic, get_coherence, get_diversity\n",
    "\n",
    "def evaluate_models(models, lda=False):\n",
    "    r = []\n",
    "    r_time = []\n",
    "    for v in ds:\n",
    "        t_start = time()\n",
    "        docs = ds[v].dropna()\n",
    "        if lda:\n",
    "            topics = get_topics_lda(models[v], models[v].id2word)\n",
    "            texts = docs\n",
    "            dictionary = models[v].id2word\n",
    "        else:\n",
    "            topics = get_topics_bertopic(bertopics[v])\n",
    "            analyzer = models[v].vectorizer_model.build_analyzer()\n",
    "            texts = [' '.join(doc) for doc in docs]\n",
    "            texts = [analyzer(doc) for doc in texts]\n",
    "            dictionary = Dictionary(texts)\n",
    "        c = get_coherence(\n",
    "            topics=topics,\n",
    "            texts=texts,\n",
    "            dictionary=dictionary,\n",
    "        )\n",
    "        d = get_diversity(topics)\n",
    "        t_end = time()\n",
    "        r_time.append(t_end - t_start)\n",
    "        r.append({\n",
    "            'variant': v,\n",
    "            'coherence': c,\n",
    "            'diversity': d,\n",
    "            'score': c * d\n",
    "        })\n",
    "    algorithm = 'lda' if lda else 'bertopic'\n",
    "    elapse_time[f'{algorithm}_evaluation'] = pd.Series(r_time)\n",
    "    return pd.DataFrame(r)"
   ]
  },
  {
   "cell_type": "code",
   "execution_count": null,
   "metadata": {},
   "outputs": [],
   "source": [
    "import pandas as pd\n",
    "\n",
    "evaluation_lda = pd.DataFrame(evaluate_models(ldas, lda=True))"
   ]
  },
  {
   "cell_type": "code",
   "execution_count": 6,
   "metadata": {},
   "outputs": [],
   "source": [
    "evaluation_bertopic = pd.DataFrame(evaluate_models(bertopics))"
   ]
  },
  {
   "cell_type": "code",
   "execution_count": 7,
   "metadata": {},
   "outputs": [
    {
     "data": {
      "text/html": [
       "<div>\n",
       "<style scoped>\n",
       "    .dataframe tbody tr th:only-of-type {\n",
       "        vertical-align: middle;\n",
       "    }\n",
       "\n",
       "    .dataframe tbody tr th {\n",
       "        vertical-align: top;\n",
       "    }\n",
       "\n",
       "    .dataframe thead th {\n",
       "        text-align: right;\n",
       "    }\n",
       "</style>\n",
       "<table border=\"1\" class=\"dataframe\">\n",
       "  <thead>\n",
       "    <tr style=\"text-align: right;\">\n",
       "      <th></th>\n",
       "      <th>variant</th>\n",
       "      <th>nlp</th>\n",
       "      <th>preprocessing</th>\n",
       "      <th>lda_training</th>\n",
       "      <th>bertopic_training</th>\n",
       "      <th>lda_evaluation</th>\n",
       "      <th>bertopic_evaluation</th>\n",
       "    </tr>\n",
       "  </thead>\n",
       "  <tbody>\n",
       "    <tr>\n",
       "      <th>0</th>\n",
       "      <td>dLWN</td>\n",
       "      <td>33.653473</td>\n",
       "      <td>0.081993</td>\n",
       "      <td>33.434384</td>\n",
       "      <td>53.977166</td>\n",
       "      <td>5.977065</td>\n",
       "      <td>4.743266</td>\n",
       "    </tr>\n",
       "    <tr>\n",
       "      <th>1</th>\n",
       "      <td>DLWN</td>\n",
       "      <td>33.653473</td>\n",
       "      <td>0.159020</td>\n",
       "      <td>33.695258</td>\n",
       "      <td>13.361671</td>\n",
       "      <td>5.901213</td>\n",
       "      <td>4.719315</td>\n",
       "    </tr>\n",
       "  </tbody>\n",
       "</table>\n",
       "</div>"
      ],
      "text/plain": [
       "  variant        nlp  preprocessing  lda_training  bertopic_training  \\\n",
       "0    dLWN  33.653473       0.081993     33.434384          53.977166   \n",
       "1    DLWN  33.653473       0.159020     33.695258          13.361671   \n",
       "\n",
       "   lda_evaluation  bertopic_evaluation  \n",
       "0        5.977065             4.743266  \n",
       "1        5.901213             4.719315  "
      ]
     },
     "execution_count": 7,
     "metadata": {},
     "output_type": "execute_result"
    }
   ],
   "source": [
    "elapse_time"
   ]
  },
  {
   "cell_type": "code",
   "execution_count": 8,
   "metadata": {},
   "outputs": [
    {
     "data": {
      "text/html": [
       "<div>\n",
       "<style scoped>\n",
       "    .dataframe tbody tr th:only-of-type {\n",
       "        vertical-align: middle;\n",
       "    }\n",
       "\n",
       "    .dataframe tbody tr th {\n",
       "        vertical-align: top;\n",
       "    }\n",
       "\n",
       "    .dataframe thead th {\n",
       "        text-align: right;\n",
       "    }\n",
       "</style>\n",
       "<table border=\"1\" class=\"dataframe\">\n",
       "  <thead>\n",
       "    <tr style=\"text-align: right;\">\n",
       "      <th></th>\n",
       "      <th>variant</th>\n",
       "      <th>coherence</th>\n",
       "      <th>diversity</th>\n",
       "      <th>score</th>\n",
       "    </tr>\n",
       "  </thead>\n",
       "  <tbody>\n",
       "    <tr>\n",
       "      <th>0</th>\n",
       "      <td>dLWN</td>\n",
       "      <td>NaN</td>\n",
       "      <td>0.535714</td>\n",
       "      <td>NaN</td>\n",
       "    </tr>\n",
       "    <tr>\n",
       "      <th>1</th>\n",
       "      <td>DLWN</td>\n",
       "      <td>0.468277</td>\n",
       "      <td>0.535714</td>\n",
       "      <td>0.250863</td>\n",
       "    </tr>\n",
       "  </tbody>\n",
       "</table>\n",
       "</div>"
      ],
      "text/plain": [
       "  variant  coherence  diversity     score\n",
       "0    dLWN        NaN   0.535714       NaN\n",
       "1    DLWN   0.468277   0.535714  0.250863"
      ]
     },
     "execution_count": 8,
     "metadata": {},
     "output_type": "execute_result"
    }
   ],
   "source": [
    "evaluation_lda"
   ]
  },
  {
   "cell_type": "code",
   "execution_count": 9,
   "metadata": {},
   "outputs": [
    {
     "data": {
      "text/html": [
       "<div>\n",
       "<style scoped>\n",
       "    .dataframe tbody tr th:only-of-type {\n",
       "        vertical-align: middle;\n",
       "    }\n",
       "\n",
       "    .dataframe tbody tr th {\n",
       "        vertical-align: top;\n",
       "    }\n",
       "\n",
       "    .dataframe thead th {\n",
       "        text-align: right;\n",
       "    }\n",
       "</style>\n",
       "<table border=\"1\" class=\"dataframe\">\n",
       "  <thead>\n",
       "    <tr style=\"text-align: right;\">\n",
       "      <th></th>\n",
       "      <th>variant</th>\n",
       "      <th>coherence</th>\n",
       "      <th>diversity</th>\n",
       "      <th>score</th>\n",
       "    </tr>\n",
       "  </thead>\n",
       "  <tbody>\n",
       "    <tr>\n",
       "      <th>0</th>\n",
       "      <td>dLWN</td>\n",
       "      <td>0.297210</td>\n",
       "      <td>1.0</td>\n",
       "      <td>0.297210</td>\n",
       "    </tr>\n",
       "    <tr>\n",
       "      <th>1</th>\n",
       "      <td>DLWN</td>\n",
       "      <td>0.254793</td>\n",
       "      <td>1.0</td>\n",
       "      <td>0.254793</td>\n",
       "    </tr>\n",
       "  </tbody>\n",
       "</table>\n",
       "</div>"
      ],
      "text/plain": [
       "  variant  coherence  diversity     score\n",
       "0    dLWN   0.297210        1.0  0.297210\n",
       "1    DLWN   0.254793        1.0  0.254793"
      ]
     },
     "execution_count": 9,
     "metadata": {},
     "output_type": "execute_result"
    }
   ],
   "source": [
    "evaluation_bertopic"
   ]
  },
  {
   "cell_type": "code",
   "execution_count": 10,
   "metadata": {},
   "outputs": [],
   "source": [
    "elapse_time.to_csv('./results/elapse_time.csv', index=False)\n",
    "evaluation_lda.to_csv('./results/evaluation_lda.csv', index=False)\n",
    "evaluation_bertopic.to_csv('./results/evaluation_bertopic.csv', index=False)"
   ]
  }
 ],
 "metadata": {
  "kernelspec": {
   "display_name": ".venv",
   "language": "python",
   "name": "python3"
  },
  "language_info": {
   "codemirror_mode": {
    "name": "ipython",
    "version": 3
   },
   "file_extension": ".py",
   "mimetype": "text/x-python",
   "name": "python",
   "nbconvert_exporter": "python",
   "pygments_lexer": "ipython3",
   "version": "3.8.10"
  },
  "orig_nbformat": 4
 },
 "nbformat": 4,
 "nbformat_minor": 2
}
