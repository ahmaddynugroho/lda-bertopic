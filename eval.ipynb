{
 "cells": [
  {
   "cell_type": "code",
   "execution_count": 1,
   "metadata": {},
   "outputs": [],
   "source": [
    "import pandas as pd\n",
    "\n",
    "ds = pd.read_parquet('./results/ds.parquet')\n",
    "elapse_time = pd.read_csv('./results/elapse_time.csv')"
   ]
  },
  {
   "cell_type": "code",
   "execution_count": null,
   "metadata": {},
   "outputs": [],
   "source": [
    "from bertopic import BERTopic\n",
    "from gensim.models.ldamulticore import LdaMulticore\n",
    "from tqdm import tqdm\n",
    "\n",
    "\n",
    "def load_ldas():\n",
    "    r = {} # result\n",
    "    for v in (tds := tqdm(ds.columns)):\n",
    "        tds.set_description(f'Loading LDA {v}')\n",
    "        if 'B' in v: continue\n",
    "        r[v] = LdaMulticore.load(f'./results/models_lda/{v}')\n",
    "    return r\n",
    "\n",
    "def load_bertopics():\n",
    "    path_prefix = './results/models_bertopic/'\n",
    "    r = {}\n",
    "    for v in (tds := tqdm(ds.columns)):\n",
    "        tds.set_description(f'Loading BERTopic {v}')\n",
    "        if 'T' in v: continue\n",
    "        r[v] = BERTopic.load(f'{path_prefix}{v}')\n",
    "    return r"
   ]
  },
  {
   "cell_type": "code",
   "execution_count": 3,
   "metadata": {},
   "outputs": [
    {
     "name": "stderr",
     "output_type": "stream",
     "text": [
      "Loading LDA DSFN: 100%|██████████| 4/4 [00:00<00:00, 29.85it/s]\n",
      "Loading BERTopic DSFN: 100%|██████████| 4/4 [00:10<00:00,  2.74s/it]\n"
     ]
    }
   ],
   "source": [
    "ldas = load_ldas()\n",
    "bertopics = load_bertopics()"
   ]
  },
  {
   "cell_type": "code",
   "execution_count": 11,
   "metadata": {},
   "outputs": [],
   "source": [
    "from time import time\n",
    "from gensim.corpora.dictionary import Dictionary\n",
    "from utils import get_topics_lda, get_topics_bertopic, get_coherence, get_diversity\n",
    "\n",
    "def evaluate_models(models, lda=False):\n",
    "    r = []\n",
    "    r_time = []\n",
    "    for v in (tds := tqdm(ds.columns)):\n",
    "        if lda:\n",
    "            tds.set_description(f'Evaluating LDA {v}')\n",
    "            if 'B'in v:\n",
    "                r_time.append(0)\n",
    "                continue\n",
    "        else:\n",
    "            tds.set_description(f'Evaluating BERTopic {v}')\n",
    "            if 'T'in v:\n",
    "                r_time.append(0)\n",
    "                continue\n",
    "        t_start = time()\n",
    "        docs = ds[v].dropna()\n",
    "        if lda:\n",
    "            topics = get_topics_lda(models[v], models[v].id2word)\n",
    "            texts = docs\n",
    "            dictionary = models[v].id2word\n",
    "        else:\n",
    "            topics = get_topics_bertopic(bertopics[v])\n",
    "            analyzer = models[v].vectorizer_model.build_analyzer()\n",
    "            texts = [' '.join(doc) for doc in docs] if 'B' not in v else docs\n",
    "            texts = [analyzer(doc) for doc in texts]\n",
    "            dictionary = Dictionary(texts)\n",
    "        c = get_coherence(\n",
    "            topics=topics,\n",
    "            texts=texts,\n",
    "            dictionary=dictionary\n",
    "        )\n",
    "        d = get_diversity(topics)\n",
    "        t_end = time()\n",
    "        r_time.append(t_end - t_start)\n",
    "        r.append({\n",
    "            'variant': v,\n",
    "            'coherence': c,\n",
    "            'diversity': d,\n",
    "            'score': c * d\n",
    "        })\n",
    "    algorithm = 'lda' if lda else 'bertopic'\n",
    "    elapse_time[f'{algorithm}_evaluation'] = pd.Series(r_time)\n",
    "    return pd.DataFrame(r)"
   ]
  },
  {
   "cell_type": "code",
   "execution_count": 5,
   "metadata": {},
   "outputs": [
    {
     "name": "stderr",
     "output_type": "stream",
     "text": [
      "Evaluating LDA DSFN: 100%|██████████| 4/4 [00:25<00:00,  6.46s/it]\n"
     ]
    }
   ],
   "source": [
    "import pandas as pd\n",
    "\n",
    "evaluation_lda = pd.DataFrame(evaluate_models(ldas, lda=True))"
   ]
  },
  {
   "cell_type": "code",
   "execution_count": 6,
   "metadata": {},
   "outputs": [
    {
     "name": "stderr",
     "output_type": "stream",
     "text": [
      "Evaluating BERTopic DSFN: 100%|██████████| 4/4 [00:16<00:00,  4.02s/it]\n"
     ]
    }
   ],
   "source": [
    "evaluation_bertopic = pd.DataFrame(evaluate_models(bertopics))"
   ]
  },
  {
   "cell_type": "code",
   "execution_count": 7,
   "metadata": {},
   "outputs": [
    {
     "data": {
      "text/html": [
       "<div>\n",
       "<style scoped>\n",
       "    .dataframe tbody tr th:only-of-type {\n",
       "        vertical-align: middle;\n",
       "    }\n",
       "\n",
       "    .dataframe tbody tr th {\n",
       "        vertical-align: top;\n",
       "    }\n",
       "\n",
       "    .dataframe thead th {\n",
       "        text-align: right;\n",
       "    }\n",
       "</style>\n",
       "<table border=\"1\" class=\"dataframe\">\n",
       "  <thead>\n",
       "    <tr style=\"text-align: right;\">\n",
       "      <th></th>\n",
       "      <th>variant</th>\n",
       "      <th>nlp</th>\n",
       "      <th>preprocessing</th>\n",
       "      <th>lda_training</th>\n",
       "      <th>bertopic_training</th>\n",
       "      <th>lda_evaluation</th>\n",
       "      <th>bertopic_evaluation</th>\n",
       "    </tr>\n",
       "  </thead>\n",
       "  <tbody>\n",
       "    <tr>\n",
       "      <th>0</th>\n",
       "      <td>dLWN</td>\n",
       "      <td>224.184062</td>\n",
       "      <td>7.460976</td>\n",
       "      <td>31.896072</td>\n",
       "      <td>259.104044</td>\n",
       "      <td>5.766991</td>\n",
       "      <td>3.903425</td>\n",
       "    </tr>\n",
       "    <tr>\n",
       "      <th>1</th>\n",
       "      <td>DLWN</td>\n",
       "      <td>224.184062</td>\n",
       "      <td>8.284982</td>\n",
       "      <td>32.851871</td>\n",
       "      <td>59.923101</td>\n",
       "      <td>6.319564</td>\n",
       "      <td>4.111557</td>\n",
       "    </tr>\n",
       "    <tr>\n",
       "      <th>2</th>\n",
       "      <td>dSFN</td>\n",
       "      <td>224.184062</td>\n",
       "      <td>1.699700</td>\n",
       "      <td>35.446574</td>\n",
       "      <td>178.024530</td>\n",
       "      <td>6.702214</td>\n",
       "      <td>4.079586</td>\n",
       "    </tr>\n",
       "    <tr>\n",
       "      <th>3</th>\n",
       "      <td>DSFN</td>\n",
       "      <td>224.184062</td>\n",
       "      <td>2.410262</td>\n",
       "      <td>31.569406</td>\n",
       "      <td>59.789309</td>\n",
       "      <td>7.053438</td>\n",
       "      <td>3.986603</td>\n",
       "    </tr>\n",
       "  </tbody>\n",
       "</table>\n",
       "</div>"
      ],
      "text/plain": [
       "  variant         nlp  preprocessing  lda_training  bertopic_training  \\\n",
       "0    dLWN  224.184062       7.460976     31.896072         259.104044   \n",
       "1    DLWN  224.184062       8.284982     32.851871          59.923101   \n",
       "2    dSFN  224.184062       1.699700     35.446574         178.024530   \n",
       "3    DSFN  224.184062       2.410262     31.569406          59.789309   \n",
       "\n",
       "   lda_evaluation  bertopic_evaluation  \n",
       "0        5.766991             3.903425  \n",
       "1        6.319564             4.111557  \n",
       "2        6.702214             4.079586  \n",
       "3        7.053438             3.986603  "
      ]
     },
     "execution_count": 7,
     "metadata": {},
     "output_type": "execute_result"
    }
   ],
   "source": [
    "elapse_time"
   ]
  },
  {
   "cell_type": "code",
   "execution_count": 8,
   "metadata": {},
   "outputs": [
    {
     "data": {
      "text/html": [
       "<div>\n",
       "<style scoped>\n",
       "    .dataframe tbody tr th:only-of-type {\n",
       "        vertical-align: middle;\n",
       "    }\n",
       "\n",
       "    .dataframe tbody tr th {\n",
       "        vertical-align: top;\n",
       "    }\n",
       "\n",
       "    .dataframe thead th {\n",
       "        text-align: right;\n",
       "    }\n",
       "</style>\n",
       "<table border=\"1\" class=\"dataframe\">\n",
       "  <thead>\n",
       "    <tr style=\"text-align: right;\">\n",
       "      <th></th>\n",
       "      <th>variant</th>\n",
       "      <th>coherence</th>\n",
       "      <th>diversity</th>\n",
       "      <th>score</th>\n",
       "    </tr>\n",
       "  </thead>\n",
       "  <tbody>\n",
       "    <tr>\n",
       "      <th>0</th>\n",
       "      <td>dLWN</td>\n",
       "      <td>0.313952</td>\n",
       "      <td>0.371831</td>\n",
       "      <td>0.116737</td>\n",
       "    </tr>\n",
       "    <tr>\n",
       "      <th>1</th>\n",
       "      <td>DLWN</td>\n",
       "      <td>0.321021</td>\n",
       "      <td>0.371831</td>\n",
       "      <td>0.119366</td>\n",
       "    </tr>\n",
       "    <tr>\n",
       "      <th>2</th>\n",
       "      <td>dSFN</td>\n",
       "      <td>0.315888</td>\n",
       "      <td>0.393750</td>\n",
       "      <td>0.124381</td>\n",
       "    </tr>\n",
       "    <tr>\n",
       "      <th>3</th>\n",
       "      <td>DSFN</td>\n",
       "      <td>0.319960</td>\n",
       "      <td>0.393750</td>\n",
       "      <td>0.125984</td>\n",
       "    </tr>\n",
       "  </tbody>\n",
       "</table>\n",
       "</div>"
      ],
      "text/plain": [
       "  variant  coherence  diversity     score\n",
       "0    dLWN   0.313952   0.371831  0.116737\n",
       "1    DLWN   0.321021   0.371831  0.119366\n",
       "2    dSFN   0.315888   0.393750  0.124381\n",
       "3    DSFN   0.319960   0.393750  0.125984"
      ]
     },
     "execution_count": 8,
     "metadata": {},
     "output_type": "execute_result"
    }
   ],
   "source": [
    "evaluation_lda"
   ]
  },
  {
   "cell_type": "code",
   "execution_count": 9,
   "metadata": {},
   "outputs": [
    {
     "data": {
      "text/html": [
       "<div>\n",
       "<style scoped>\n",
       "    .dataframe tbody tr th:only-of-type {\n",
       "        vertical-align: middle;\n",
       "    }\n",
       "\n",
       "    .dataframe tbody tr th {\n",
       "        vertical-align: top;\n",
       "    }\n",
       "\n",
       "    .dataframe thead th {\n",
       "        text-align: right;\n",
       "    }\n",
       "</style>\n",
       "<table border=\"1\" class=\"dataframe\">\n",
       "  <thead>\n",
       "    <tr style=\"text-align: right;\">\n",
       "      <th></th>\n",
       "      <th>variant</th>\n",
       "      <th>coherence</th>\n",
       "      <th>diversity</th>\n",
       "      <th>score</th>\n",
       "    </tr>\n",
       "  </thead>\n",
       "  <tbody>\n",
       "    <tr>\n",
       "      <th>0</th>\n",
       "      <td>dLWN</td>\n",
       "      <td>0.548878</td>\n",
       "      <td>0.966667</td>\n",
       "      <td>0.530582</td>\n",
       "    </tr>\n",
       "    <tr>\n",
       "      <th>1</th>\n",
       "      <td>DLWN</td>\n",
       "      <td>0.623632</td>\n",
       "      <td>0.966667</td>\n",
       "      <td>0.602845</td>\n",
       "    </tr>\n",
       "    <tr>\n",
       "      <th>2</th>\n",
       "      <td>dSFN</td>\n",
       "      <td>0.452300</td>\n",
       "      <td>0.900000</td>\n",
       "      <td>0.407070</td>\n",
       "    </tr>\n",
       "    <tr>\n",
       "      <th>3</th>\n",
       "      <td>DSFN</td>\n",
       "      <td>0.586030</td>\n",
       "      <td>0.900000</td>\n",
       "      <td>0.527427</td>\n",
       "    </tr>\n",
       "  </tbody>\n",
       "</table>\n",
       "</div>"
      ],
      "text/plain": [
       "  variant  coherence  diversity     score\n",
       "0    dLWN   0.548878   0.966667  0.530582\n",
       "1    DLWN   0.623632   0.966667  0.602845\n",
       "2    dSFN   0.452300   0.900000  0.407070\n",
       "3    DSFN   0.586030   0.900000  0.527427"
      ]
     },
     "execution_count": 9,
     "metadata": {},
     "output_type": "execute_result"
    }
   ],
   "source": [
    "evaluation_bertopic"
   ]
  },
  {
   "cell_type": "code",
   "execution_count": 10,
   "metadata": {},
   "outputs": [],
   "source": [
    "elapse_time.to_csv('./results/elapse_time.csv', index=False)\n",
    "evaluation_lda.to_csv('./results/evaluation_lda.csv', index=False)\n",
    "evaluation_bertopic.to_csv('./results/evaluation_bertopic.csv', index=False)"
   ]
  }
 ],
 "metadata": {
  "kernelspec": {
   "display_name": ".venv",
   "language": "python",
   "name": "python3"
  },
  "language_info": {
   "codemirror_mode": {
    "name": "ipython",
    "version": 3
   },
   "file_extension": ".py",
   "mimetype": "text/x-python",
   "name": "python",
   "nbconvert_exporter": "python",
   "pygments_lexer": "ipython3",
   "version": "3.8.10"
  },
  "orig_nbformat": 4
 },
 "nbformat": 4,
 "nbformat_minor": 2
}
